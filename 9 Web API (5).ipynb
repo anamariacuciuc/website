{
 "cells": [
  {
   "cell_type": "markdown",
   "metadata": {},
   "source": [
    "# Web APIs\n",
    "\n",
    "## 1. Consuming Web APIs\n",
    "\n",
    "(Partially adapted from https://www.dataquest.io/blog/python-api-tutorial/)\n",
    "\n",
    "* https://randomuser.me/ is a random user generator \n",
    "*\tIt has an API. Go to https://api.randomuser.me/ with your browser\n",
    "*\tYou get a JSON (JavaScript Object Notation) back. A JSON is similar to a Python dictionary.  \n",
    "*  Refresh the browser\n",
    "*\tYou can add query parameters. They are added to the URL with a ? . You then add then the parameter name = the value. More the one parameter are connected with a & e.g.\n",
    "\thttp://api.open-notify.org/iss-pass.json?lat=37.78&lon=-122.41\n",
    "\n",
    "*\t Go the documentation https://randomuser.me/documentation and check how you can get multiple users and to specify constraints on the output\n",
    "*\tGo to your browser and add parameters to https://api.randomuser.me/ so that you get 5 results of only males from the US\n",
    "\n",
    "Enter the URL of your solution:"
   ]
  },
  {
   "cell_type": "code",
   "execution_count": null,
   "metadata": {
    "collapsed": true
   },
   "outputs": [],
   "source": [
    "# TODO: get 5 results of only males from the US\n",
    "# Enter the URL of your solution:\n",
    "url = https://randomuser.me/api/?gender=male&nat=us&results=5"
   ]
  },
  {
   "cell_type": "code",
   "execution_count": 2,
   "metadata": {},
   "outputs": [
    {
     "name": "stdout",
     "output_type": "stream",
     "text": [
      "{\"results\":[{\"gender\":\"male\",\"name\":{\"title\":\"mr\",\"first\":\"Ø§ÛŒÙ„ÛŒØ§\",\"last\":\"Ø¹Ù„ÛŒØ²Ø§Ø¯Ù‡\"},\"location\":{\"street\":\"595 Ù�Ø¯Ø§ÛŒÛŒØ§Ù† Ø§Ø³Ù„Ø§Ù…\",\"city\":\"Ù†ÛŒØ´Ø§Ø¨ÙˆØ±\",\"state\":\"Ø²Ù†Ø¬Ø§Ù†\",\"postcode\":88738,\"coordinates\":{\"latitude\":\"29.8859\",\"longitude\":\"-34.6560\"},\"timezone\":{\"offset\":\"-8:00\",\"description\":\"Pacific Time (US & Canada)\"}},\"email\":\"Ø§ÛŒÙ„ÛŒØ§.Ø¹Ù„ÛŒØ²Ø§Ø¯Ù‡@example.com\",\"login\":{\"uuid\":\"37209c6d-f5d9-4265-848a-cff4439e43fb\",\"username\":\"lazyostrich799\",\"password\":\"deputy\",\"salt\":\"9w2JhBwa\",\"md5\":\"1122017c9ad0982aa645a7724b204e7e\",\"sha1\":\"bf7e2641bc56d69490d0e7cd63d0e9b78247b348\",\"sha256\":\"bb438279a832fdda1a471bc18ae00757fd95852a8e50bc37efd4751cf2d670b5\"},\"dob\":{\"date\":\"1996-03-06T11:24:25Z\",\"age\":23},\"registered\":{\"date\":\"2017-12-16T00:34:43Z\",\"age\":1},\"phone\":\"022-59219710\",\"cell\":\"0907-086-8149\",\"id\":{\"name\":\"\",\"value\":null},\"picture\":{\"large\":\"https://randomuser.me/api/portraits/men/28.jpg\",\"medium\":\"https://randomuser.me/api/portraits/med/men/28.jpg\",\"thumbnail\":\"https://randomuser.me/api/portraits/thumb/men/28.jpg\"},\"nat\":\"IR\"}],\"info\":{\"seed\":\"b3f5a3e65f576346\",\"results\":1,\"page\":1,\"version\":\"1.2\"}}\n"
     ]
    }
   ],
   "source": [
    "\n",
    "!curl -s https://api.randomuser.me/\n",
    "    \n",
    "    "
   ]
  },
  {
   "cell_type": "markdown",
   "metadata": {},
   "source": [
    "* You can also get the data from the command line. Open the command line and write\n",
    "\n",
    "```bash\n",
    "curl -s https://api.randomuser.me/\n",
    "```\n",
    "\n",
    "You can also run Bash commands directly in your Jupyter Notebook with !:"
   ]
  },
  {
   "cell_type": "code",
   "execution_count": null,
   "metadata": {
    "collapsed": true
   },
   "outputs": [],
   "source": [
    "!curl -s https://api.randomuser.me/"
   ]
  },
  {
   "cell_type": "markdown",
   "metadata": {},
   "source": [
    "* Import the two libraries \n",
    "    * `requests` and \n",
    "    * `json`. \n",
    "\n",
    "You can find the documentation for the requests package here:\n",
    " http://www.python-requests.org/en/latest/ \n",
    " "
   ]
  },
  {
   "cell_type": "code",
   "execution_count": 2,
   "metadata": {},
   "outputs": [],
   "source": [
    "import requests \n",
    "import json\n"
   ]
  },
  {
   "cell_type": "code",
   "execution_count": 3,
   "metadata": {},
   "outputs": [],
   "source": [
    "from urllib.request import urlopen"
   ]
  },
  {
   "cell_type": "code",
   "execution_count": 4,
   "metadata": {},
   "outputs": [],
   "source": [
    "# TODO"
   ]
  },
  {
   "cell_type": "markdown",
   "metadata": {},
   "source": [
    "* With the requests package you can call a Web API with the URL and the method get"
   ]
  },
  {
   "cell_type": "code",
   "execution_count": 5,
   "metadata": {},
   "outputs": [],
   "source": [
    "response = requests.get(\"https://api.randomuser.me/\")"
   ]
  },
  {
   "cell_type": "markdown",
   "metadata": {},
   "source": [
    "* Print the status code of the request"
   ]
  },
  {
   "cell_type": "code",
   "execution_count": 6,
   "metadata": {},
   "outputs": [
    {
     "name": "stdout",
     "output_type": "stream",
     "text": [
      "200\n"
     ]
    }
   ],
   "source": [
    "print(response.status_code)"
   ]
  },
  {
   "cell_type": "markdown",
   "metadata": {},
   "source": [
    "**The meaning of the status codes are:**\n",
    "* 200: everything went okay, and the result has been returned (if any)\n",
    "* 301: the server is redirecting you to a different endpoint. This can happen when a company switches domain names, or an endpoint name is changed.\n",
    "* 401: the server thinks you're not authenticated. This happens when you don't send the right credentials to access an API.\n",
    "* 400: the server thinks you made a bad request. This can happen when you don't send along the right data, among other things.\n",
    "* 403: the resource you're trying to access is forbidden – you don't have the right permissions to see it.\n",
    "* 404: the resource you tried to access wasn't found on the server.\n"
   ]
  },
  {
   "cell_type": "markdown",
   "metadata": {},
   "source": [
    "You can specify the query parameters for a URL with a Python dictionary like this:\n",
    "```python\n",
    "parameters = {\"lat\": 37.78, \"lon\": -122.41}\n",
    "```\n",
    "\n",
    "And pass the parameter to the request like this\n",
    "```python\n",
    "response = requests.get(\"http://api.open-notify.org/iss-pass.json\", params=parameters)\n",
    "```\n",
    "This is the same as \n",
    "```python\n",
    "response = requests.get(\"http://api.open-notify.org/iss-pass.json?lat=37.78&lon=-122.41\")\n",
    "```\n",
    "\n",
    "Alternatively you could build also the URL with the parameters by yourself with string concatenation. \n",
    "\n",
    "* Get with the request method 10 results of only males from the US.\n",
    "\n"
   ]
  },
  {
   "cell_type": "code",
   "execution_count": 14,
   "metadata": {},
   "outputs": [],
   "source": [
    "# TODO: Get with the request method 10 results of only males from the US.\n",
    "response = requests.get(\"https://randomuser.me/api/?gender=male&nat=us&results=10\")"
   ]
  },
  {
   "cell_type": "markdown",
   "metadata": {},
   "source": [
    "* You can show the result of the request with the method text"
   ]
  },
  {
   "cell_type": "code",
   "execution_count": 15,
   "metadata": {
    "scrolled": true
   },
   "outputs": [
    {
     "data": {
      "text/plain": [
       "'{\"results\":[{\"gender\":\"male\",\"name\":{\"title\":\"mr\",\"first\":\"julian\",\"last\":\"berry\"},\"location\":{\"street\":\"4938 hunters creek dr\",\"city\":\"eugene\",\"state\":\"maine\",\"postcode\":52240,\"coordinates\":{\"latitude\":\"36.3082\",\"longitude\":\"19.5497\"},\"timezone\":{\"offset\":\"+2:00\",\"description\":\"Kaliningrad, South Africa\"}},\"email\":\"julian.berry@example.com\",\"login\":{\"uuid\":\"1876467b-aa66-4f4f-a327-35e920d7eb16\",\"username\":\"browndog505\",\"password\":\"boyboy\",\"salt\":\"TPOzz0s7\",\"md5\":\"1a562101118157e0b1ace2505052b230\",\"sha1\":\"bd3d8b0b5204b770e77527bc5ffef2740f783711\",\"sha256\":\"b99aa25fa0fd337a8466216c580a2390cb3ea24cbd523a7239c86ff7233547b9\"},\"dob\":{\"date\":\"1955-08-12T13:09:47Z\",\"age\":63},\"registered\":{\"date\":\"2007-08-19T09:47:09Z\",\"age\":11},\"phone\":\"(510)-849-6134\",\"cell\":\"(880)-707-1249\",\"id\":{\"name\":\"SSN\",\"value\":\"749-53-2728\"},\"picture\":{\"large\":\"https://randomuser.me/api/portraits/men/90.jpg\",\"medium\":\"https://randomuser.me/api/portraits/med/men/90.jpg\",\"thumbnail\":\"https://randomuser.me/api/portraits/thumb/men/90.jpg\"},\"nat\":\"US\"},{\"gender\":\"male\",\"name\":{\"title\":\"mr\",\"first\":\"jeremy\",\"last\":\"gardner\"},\"location\":{\"street\":\"7642 locust rd\",\"city\":\"victorville\",\"state\":\"arizona\",\"postcode\":55527,\"coordinates\":{\"latitude\":\"-13.3927\",\"longitude\":\"140.4352\"},\"timezone\":{\"offset\":\"-5:00\",\"description\":\"Eastern Time (US & Canada), Bogota, Lima\"}},\"email\":\"jeremy.gardner@example.com\",\"login\":{\"uuid\":\"d0c0c346-fc6e-4943-b3ea-744c7f0837df\",\"username\":\"silvergorilla734\",\"password\":\"bondage\",\"salt\":\"lD28Sr2h\",\"md5\":\"35930ede5b378f0872a994f71547495d\",\"sha1\":\"96ec4e03c2e20f13c5db6afae0c170dc3a31fcad\",\"sha256\":\"356ecec8eec1ecf64a801f37025d59632dd23fdfc29b9b590f1ea0fb560ea036\"},\"dob\":{\"date\":\"1993-07-14T09:10:56Z\",\"age\":25},\"registered\":{\"date\":\"2011-07-25T04:02:47Z\",\"age\":7},\"phone\":\"(055)-355-4574\",\"cell\":\"(992)-199-6371\",\"id\":{\"name\":\"SSN\",\"value\":\"101-65-4276\"},\"picture\":{\"large\":\"https://randomuser.me/api/portraits/men/57.jpg\",\"medium\":\"https://randomuser.me/api/portraits/med/men/57.jpg\",\"thumbnail\":\"https://randomuser.me/api/portraits/thumb/men/57.jpg\"},\"nat\":\"US\"},{\"gender\":\"male\",\"name\":{\"title\":\"mr\",\"first\":\"barry\",\"last\":\"alvarez\"},\"location\":{\"street\":\"1360 spring st\",\"city\":\"north valley\",\"state\":\"new hampshire\",\"postcode\":48902,\"coordinates\":{\"latitude\":\"40.2136\",\"longitude\":\"-76.0816\"},\"timezone\":{\"offset\":\"+3:30\",\"description\":\"Tehran\"}},\"email\":\"barry.alvarez@example.com\",\"login\":{\"uuid\":\"d12b6be9-9199-4598-b9c7-ef31ffa5b111\",\"username\":\"purpleelephant329\",\"password\":\"wayer\",\"salt\":\"4nZ91dBW\",\"md5\":\"ced02ed9b158c0e9b41e0180f0ab9982\",\"sha1\":\"1230b0cf7d9245c8cb7edd79779b575ce144f979\",\"sha256\":\"b8463080bfb87298f32e9ffab57a1d63688e1d7d35e4f4555fd8d558d2e3b143\"},\"dob\":{\"date\":\"1949-07-12T01:38:12Z\",\"age\":69},\"registered\":{\"date\":\"2005-09-25T19:26:38Z\",\"age\":13},\"phone\":\"(885)-816-6845\",\"cell\":\"(892)-863-2027\",\"id\":{\"name\":\"SSN\",\"value\":\"839-80-9184\"},\"picture\":{\"large\":\"https://randomuser.me/api/portraits/men/42.jpg\",\"medium\":\"https://randomuser.me/api/portraits/med/men/42.jpg\",\"thumbnail\":\"https://randomuser.me/api/portraits/thumb/men/42.jpg\"},\"nat\":\"US\"},{\"gender\":\"male\",\"name\":{\"title\":\"mr\",\"first\":\"allan\",\"last\":\"graham\"},\"location\":{\"street\":\"8616 elgin st\",\"city\":\"san jose\",\"state\":\"montana\",\"postcode\":29106,\"coordinates\":{\"latitude\":\"-68.9652\",\"longitude\":\"56.4998\"},\"timezone\":{\"offset\":\"-5:00\",\"description\":\"Eastern Time (US & Canada), Bogota, Lima\"}},\"email\":\"allan.graham@example.com\",\"login\":{\"uuid\":\"873ba610-92c9-496e-bdfd-17cfa34136de\",\"username\":\"heavyladybug426\",\"password\":\"concorde\",\"salt\":\"VesPfnwS\",\"md5\":\"6f615b96793341b8fef51f31facce785\",\"sha1\":\"44b194a0825d34e3c1628eeaa4bea05fd9f8e317\",\"sha256\":\"243e36cc27293268952058e246bf40e8f2e8e211f0d1e13f750acc192e7572bb\"},\"dob\":{\"date\":\"1959-06-20T17:58:08Z\",\"age\":59},\"registered\":{\"date\":\"2005-07-01T03:37:59Z\",\"age\":13},\"phone\":\"(654)-607-2178\",\"cell\":\"(254)-369-2157\",\"id\":{\"name\":\"SSN\",\"value\":\"535-68-5279\"},\"picture\":{\"large\":\"https://randomuser.me/api/portraits/men/40.jpg\",\"medium\":\"https://randomuser.me/api/portraits/med/men/40.jpg\",\"thumbnail\":\"https://randomuser.me/api/portraits/thumb/men/40.jpg\"},\"nat\":\"US\"},{\"gender\":\"male\",\"name\":{\"title\":\"mr\",\"first\":\"todd\",\"last\":\"burns\"},\"location\":{\"street\":\"384 nowlin rd\",\"city\":\"vallejo\",\"state\":\"utah\",\"postcode\":44018,\"coordinates\":{\"latitude\":\"3.5274\",\"longitude\":\"132.5998\"},\"timezone\":{\"offset\":\"+5:00\",\"description\":\"Ekaterinburg, Islamabad, Karachi, Tashkent\"}},\"email\":\"todd.burns@example.com\",\"login\":{\"uuid\":\"1aac69df-3da5-4303-bd5e-e0f2c73053d4\",\"username\":\"goldendog901\",\"password\":\"nian\",\"salt\":\"P6gndmZS\",\"md5\":\"e23f8943f01cc20404117a22b7f78fc4\",\"sha1\":\"dde350a6d6a114070a59ab6aa7d2429c33b53592\",\"sha256\":\"797a7b68523fcaecb7b1dd973b441090a4334564a5e2428ffda4cd2293d0f5b7\"},\"dob\":{\"date\":\"1978-11-27T13:03:00Z\",\"age\":40},\"registered\":{\"date\":\"2017-11-02T22:10:07Z\",\"age\":1},\"phone\":\"(899)-755-0951\",\"cell\":\"(038)-615-6568\",\"id\":{\"name\":\"SSN\",\"value\":\"865-72-0239\"},\"picture\":{\"large\":\"https://randomuser.me/api/portraits/men/51.jpg\",\"medium\":\"https://randomuser.me/api/portraits/med/men/51.jpg\",\"thumbnail\":\"https://randomuser.me/api/portraits/thumb/men/51.jpg\"},\"nat\":\"US\"},{\"gender\":\"male\",\"name\":{\"title\":\"mr\",\"first\":\"tom\",\"last\":\"johnston\"},\"location\":{\"street\":\"933 mockingbird hill\",\"city\":\"carlsbad\",\"state\":\"vermont\",\"postcode\":41404,\"coordinates\":{\"latitude\":\"52.7347\",\"longitude\":\"5.4206\"},\"timezone\":{\"offset\":\"-1:00\",\"description\":\"Azores, Cape Verde Islands\"}},\"email\":\"tom.johnston@example.com\",\"login\":{\"uuid\":\"3c14a135-b477-4543-aa87-a0c43cd4865b\",\"username\":\"redostrich936\",\"password\":\"hurley\",\"salt\":\"2TQ9RzAF\",\"md5\":\"fdfd57fb44eae9f30d5dbf45419478c6\",\"sha1\":\"4f10c3eb91bbeb8c7129eed8994221e37dec2db1\",\"sha256\":\"824bebb53724ac1f720e68548802940149374cd9fc7666bf67e51f15ac3b9ec4\"},\"dob\":{\"date\":\"1978-08-22T23:56:53Z\",\"age\":40},\"registered\":{\"date\":\"2014-06-01T13:28:58Z\",\"age\":4},\"phone\":\"(341)-972-8741\",\"cell\":\"(441)-019-6401\",\"id\":{\"name\":\"SSN\",\"value\":\"503-22-1264\"},\"picture\":{\"large\":\"https://randomuser.me/api/portraits/men/93.jpg\",\"medium\":\"https://randomuser.me/api/portraits/med/men/93.jpg\",\"thumbnail\":\"https://randomuser.me/api/portraits/thumb/men/93.jpg\"},\"nat\":\"US\"},{\"gender\":\"male\",\"name\":{\"title\":\"mr\",\"first\":\"jon\",\"last\":\"alexander\"},\"location\":{\"street\":\"8705 nowlin rd\",\"city\":\"thousand oaks\",\"state\":\"new york\",\"postcode\":59324,\"coordinates\":{\"latitude\":\"74.4421\",\"longitude\":\"-104.6492\"},\"timezone\":{\"offset\":\"+1:00\",\"description\":\"Brussels, Copenhagen, Madrid, Paris\"}},\"email\":\"jon.alexander@example.com\",\"login\":{\"uuid\":\"38b968ad-84be-41e1-b08e-d6ae1313dba5\",\"username\":\"brownpeacock950\",\"password\":\"republic\",\"salt\":\"4UY5zVK6\",\"md5\":\"170e1affd4378c78e8cdf297324d2ab5\",\"sha1\":\"de11d05981febac00cdae257d0c7b09e45093f6b\",\"sha256\":\"1c3a25ac972d8280148109c2ccd3cd9c695705b528c20e5bad55576454389d88\"},\"dob\":{\"date\":\"1984-03-28T06:48:05Z\",\"age\":35},\"registered\":{\"date\":\"2016-07-27T21:45:56Z\",\"age\":2},\"phone\":\"(543)-866-0745\",\"cell\":\"(438)-298-1477\",\"id\":{\"name\":\"SSN\",\"value\":\"194-95-7274\"},\"picture\":{\"large\":\"https://randomuser.me/api/portraits/men/20.jpg\",\"medium\":\"https://randomuser.me/api/portraits/med/men/20.jpg\",\"thumbnail\":\"https://randomuser.me/api/portraits/thumb/men/20.jpg\"},\"nat\":\"US\"},{\"gender\":\"male\",\"name\":{\"title\":\"mr\",\"first\":\"derrick\",\"last\":\"campbell\"},\"location\":{\"street\":\"6413 photinia ave\",\"city\":\"concord\",\"state\":\"utah\",\"postcode\":71119,\"coordinates\":{\"latitude\":\"-62.0533\",\"longitude\":\"140.6933\"},\"timezone\":{\"offset\":\"-2:00\",\"description\":\"Mid-Atlantic\"}},\"email\":\"derrick.campbell@example.com\",\"login\":{\"uuid\":\"af8effb8-80e8-4306-9a28-a8adca9c4146\",\"username\":\"orangezebra324\",\"password\":\"moonbeam\",\"salt\":\"XohHqMTD\",\"md5\":\"23af619ae063b88e749ab3049d07c2d3\",\"sha1\":\"be402cda11940a982a8b4f3bb68703450144d6bf\",\"sha256\":\"a3e3b04ad50787e4d9ce52de71b2157997f75299fa9b189f42fa842c0be6989f\"},\"dob\":{\"date\":\"1981-09-30T00:22:01Z\",\"age\":37},\"registered\":{\"date\":\"2011-07-29T23:20:39Z\",\"age\":7},\"phone\":\"(575)-788-2287\",\"cell\":\"(015)-184-1469\",\"id\":{\"name\":\"SSN\",\"value\":\"702-78-4511\"},\"picture\":{\"large\":\"https://randomuser.me/api/portraits/men/9.jpg\",\"medium\":\"https://randomuser.me/api/portraits/med/men/9.jpg\",\"thumbnail\":\"https://randomuser.me/api/portraits/thumb/men/9.jpg\"},\"nat\":\"US\"},{\"gender\":\"male\",\"name\":{\"title\":\"mr\",\"first\":\"tyrone\",\"last\":\"williams\"},\"location\":{\"street\":\"837 avondale ave\",\"city\":\"stanley\",\"state\":\"oklahoma\",\"postcode\":25977,\"coordinates\":{\"latitude\":\"89.2390\",\"longitude\":\"177.9473\"},\"timezone\":{\"offset\":\"+5:00\",\"description\":\"Ekaterinburg, Islamabad, Karachi, Tashkent\"}},\"email\":\"tyrone.williams@example.com\",\"login\":{\"uuid\":\"e76182e5-dbaf-4b66-87aa-eace572eb3db\",\"username\":\"whitefish772\",\"password\":\"whiteboy\",\"salt\":\"mtZnim0P\",\"md5\":\"b0deb3347d88e885401868c80e8bb49e\",\"sha1\":\"b1d86ac81a7f77fa90f2490eabdcf01e7b1c4e3f\",\"sha256\":\"7702f02f779a5865bfe7e1a9c72d1677e35adb9eb232a962ccaf01dbcc2ad301\"},\"dob\":{\"date\":\"1992-02-22T21:08:08Z\",\"age\":27},\"registered\":{\"date\":\"2011-06-15T05:10:28Z\",\"age\":7},\"phone\":\"(990)-016-1341\",\"cell\":\"(460)-467-3592\",\"id\":{\"name\":\"SSN\",\"value\":\"968-14-5588\"},\"picture\":{\"large\":\"https://randomuser.me/api/portraits/men/43.jpg\",\"medium\":\"https://randomuser.me/api/portraits/med/men/43.jpg\",\"thumbnail\":\"https://randomuser.me/api/portraits/thumb/men/43.jpg\"},\"nat\":\"US\"},{\"gender\":\"male\",\"name\":{\"title\":\"mr\",\"first\":\"christopher\",\"last\":\"graves\"},\"location\":{\"street\":\"8982 cackson st\",\"city\":\"arvada\",\"state\":\"kansas\",\"postcode\":24375,\"coordinates\":{\"latitude\":\"-9.9809\",\"longitude\":\"-117.0807\"},\"timezone\":{\"offset\":\"+1:00\",\"description\":\"Brussels, Copenhagen, Madrid, Paris\"}},\"email\":\"christopher.graves@example.com\",\"login\":{\"uuid\":\"66202fa7-0290-4444-9497-1807d8ea8ecc\",\"username\":\"organicfish733\",\"password\":\"weather\",\"salt\":\"QtieInbD\",\"md5\":\"e4c3d24af9700410d48fff7c7d4a602f\",\"sha1\":\"30374676da60836a95285a70318b4cf14c20031c\",\"sha256\":\"8f86905002effc8a9f8255a86cd190ff511b7ea2ec833d70740f0b8bbdc13b83\"},\"dob\":{\"date\":\"1976-04-07T08:52:52Z\",\"age\":43},\"registered\":{\"date\":\"2006-12-28T11:25:53Z\",\"age\":12},\"phone\":\"(261)-291-6375\",\"cell\":\"(726)-438-1146\",\"id\":{\"name\":\"SSN\",\"value\":\"162-66-3923\"},\"picture\":{\"large\":\"https://randomuser.me/api/portraits/men/46.jpg\",\"medium\":\"https://randomuser.me/api/portraits/med/men/46.jpg\",\"thumbnail\":\"https://randomuser.me/api/portraits/thumb/men/46.jpg\"},\"nat\":\"US\"}],\"info\":{\"seed\":\"3eba1fba59e021f2\",\"results\":10,\"page\":1,\"version\":\"1.2\"}}'"
      ]
     },
     "execution_count": 15,
     "metadata": {},
     "output_type": "execute_result"
    }
   ],
   "source": [
    "response.text"
   ]
  },
  {
   "cell_type": "markdown",
   "metadata": {},
   "source": [
    "* You can convert the data from JSON to a Python dictionary with the package JSON"
   ]
  },
  {
   "cell_type": "code",
   "execution_count": 16,
   "metadata": {},
   "outputs": [],
   "source": [
    "data = json.loads(response.text)"
   ]
  },
  {
   "cell_type": "code",
   "execution_count": 17,
   "metadata": {},
   "outputs": [],
   "source": [
    "data0=response.json()"
   ]
  },
  {
   "cell_type": "markdown",
   "metadata": {},
   "source": [
    "* Check the type of variable data"
   ]
  },
  {
   "cell_type": "code",
   "execution_count": 18,
   "metadata": {},
   "outputs": [
    {
     "data": {
      "text/plain": [
       "dict"
      ]
     },
     "execution_count": 18,
     "metadata": {},
     "output_type": "execute_result"
    }
   ],
   "source": [
    "# TODO\n",
    "type(data)"
   ]
  },
  {
   "cell_type": "code",
   "execution_count": 19,
   "metadata": {},
   "outputs": [],
   "source": [
    "#print(data)"
   ]
  },
  {
   "cell_type": "markdown",
   "metadata": {},
   "source": [
    "* *pretty-print* (pprint) prints complex data structures like dictionary prettier.  https://docs.python.org/3/library/pprint.html "
   ]
  },
  {
   "cell_type": "code",
   "execution_count": 20,
   "metadata": {},
   "outputs": [
    {
     "name": "stdout",
     "output_type": "stream",
     "text": [
      "{'info': {'page': 1,\n",
      "          'results': 10,\n",
      "          'seed': '3eba1fba59e021f2',\n",
      "          'version': '1.2'},\n",
      " 'results': [{'cell': '(880)-707-1249',\n",
      "              'dob': {'age': 63, 'date': '1955-08-12T13:09:47Z'},\n",
      "              'email': 'julian.berry@example.com',\n",
      "              'gender': 'male',\n",
      "              'id': {'name': 'SSN', 'value': '749-53-2728'},\n",
      "              'location': {'city': 'eugene',\n",
      "                           'coordinates': {'latitude': '36.3082',\n",
      "                                           'longitude': '19.5497'},\n",
      "                           'postcode': 52240,\n",
      "                           'state': 'maine',\n",
      "                           'street': '4938 hunters creek dr',\n",
      "                           'timezone': {'description': 'Kaliningrad, South '\n",
      "                                                       'Africa',\n",
      "                                        'offset': '+2:00'}},\n",
      "              'login': {'md5': '1a562101118157e0b1ace2505052b230',\n",
      "                        'password': 'boyboy',\n",
      "                        'salt': 'TPOzz0s7',\n",
      "                        'sha1': 'bd3d8b0b5204b770e77527bc5ffef2740f783711',\n",
      "                        'sha256': 'b99aa25fa0fd337a8466216c580a2390cb3ea24cbd523a7239c86ff7233547b9',\n",
      "                        'username': 'browndog505',\n",
      "                        'uuid': '1876467b-aa66-4f4f-a327-35e920d7eb16'},\n",
      "              'name': {'first': 'julian', 'last': 'berry', 'title': 'mr'},\n",
      "              'nat': 'US',\n",
      "              'phone': '(510)-849-6134',\n",
      "              'picture': {'large': 'https://randomuser.me/api/portraits/men/90.jpg',\n",
      "                          'medium': 'https://randomuser.me/api/portraits/med/men/90.jpg',\n",
      "                          'thumbnail': 'https://randomuser.me/api/portraits/thumb/men/90.jpg'},\n",
      "              'registered': {'age': 11, 'date': '2007-08-19T09:47:09Z'}},\n",
      "             {'cell': '(992)-199-6371',\n",
      "              'dob': {'age': 25, 'date': '1993-07-14T09:10:56Z'},\n",
      "              'email': 'jeremy.gardner@example.com',\n",
      "              'gender': 'male',\n",
      "              'id': {'name': 'SSN', 'value': '101-65-4276'},\n",
      "              'location': {'city': 'victorville',\n",
      "                           'coordinates': {'latitude': '-13.3927',\n",
      "                                           'longitude': '140.4352'},\n",
      "                           'postcode': 55527,\n",
      "                           'state': 'arizona',\n",
      "                           'street': '7642 locust rd',\n",
      "                           'timezone': {'description': 'Eastern Time (US & '\n",
      "                                                       'Canada), Bogota, Lima',\n",
      "                                        'offset': '-5:00'}},\n",
      "              'login': {'md5': '35930ede5b378f0872a994f71547495d',\n",
      "                        'password': 'bondage',\n",
      "                        'salt': 'lD28Sr2h',\n",
      "                        'sha1': '96ec4e03c2e20f13c5db6afae0c170dc3a31fcad',\n",
      "                        'sha256': '356ecec8eec1ecf64a801f37025d59632dd23fdfc29b9b590f1ea0fb560ea036',\n",
      "                        'username': 'silvergorilla734',\n",
      "                        'uuid': 'd0c0c346-fc6e-4943-b3ea-744c7f0837df'},\n",
      "              'name': {'first': 'jeremy', 'last': 'gardner', 'title': 'mr'},\n",
      "              'nat': 'US',\n",
      "              'phone': '(055)-355-4574',\n",
      "              'picture': {'large': 'https://randomuser.me/api/portraits/men/57.jpg',\n",
      "                          'medium': 'https://randomuser.me/api/portraits/med/men/57.jpg',\n",
      "                          'thumbnail': 'https://randomuser.me/api/portraits/thumb/men/57.jpg'},\n",
      "              'registered': {'age': 7, 'date': '2011-07-25T04:02:47Z'}},\n",
      "             {'cell': '(892)-863-2027',\n",
      "              'dob': {'age': 69, 'date': '1949-07-12T01:38:12Z'},\n",
      "              'email': 'barry.alvarez@example.com',\n",
      "              'gender': 'male',\n",
      "              'id': {'name': 'SSN', 'value': '839-80-9184'},\n",
      "              'location': {'city': 'north valley',\n",
      "                           'coordinates': {'latitude': '40.2136',\n",
      "                                           'longitude': '-76.0816'},\n",
      "                           'postcode': 48902,\n",
      "                           'state': 'new hampshire',\n",
      "                           'street': '1360 spring st',\n",
      "                           'timezone': {'description': 'Tehran',\n",
      "                                        'offset': '+3:30'}},\n",
      "              'login': {'md5': 'ced02ed9b158c0e9b41e0180f0ab9982',\n",
      "                        'password': 'wayer',\n",
      "                        'salt': '4nZ91dBW',\n",
      "                        'sha1': '1230b0cf7d9245c8cb7edd79779b575ce144f979',\n",
      "                        'sha256': 'b8463080bfb87298f32e9ffab57a1d63688e1d7d35e4f4555fd8d558d2e3b143',\n",
      "                        'username': 'purpleelephant329',\n",
      "                        'uuid': 'd12b6be9-9199-4598-b9c7-ef31ffa5b111'},\n",
      "              'name': {'first': 'barry', 'last': 'alvarez', 'title': 'mr'},\n",
      "              'nat': 'US',\n",
      "              'phone': '(885)-816-6845',\n",
      "              'picture': {'large': 'https://randomuser.me/api/portraits/men/42.jpg',\n",
      "                          'medium': 'https://randomuser.me/api/portraits/med/men/42.jpg',\n",
      "                          'thumbnail': 'https://randomuser.me/api/portraits/thumb/men/42.jpg'},\n",
      "              'registered': {'age': 13, 'date': '2005-09-25T19:26:38Z'}},\n",
      "             {'cell': '(254)-369-2157',\n",
      "              'dob': {'age': 59, 'date': '1959-06-20T17:58:08Z'},\n",
      "              'email': 'allan.graham@example.com',\n",
      "              'gender': 'male',\n",
      "              'id': {'name': 'SSN', 'value': '535-68-5279'},\n",
      "              'location': {'city': 'san jose',\n",
      "                           'coordinates': {'latitude': '-68.9652',\n",
      "                                           'longitude': '56.4998'},\n",
      "                           'postcode': 29106,\n",
      "                           'state': 'montana',\n",
      "                           'street': '8616 elgin st',\n",
      "                           'timezone': {'description': 'Eastern Time (US & '\n",
      "                                                       'Canada), Bogota, Lima',\n",
      "                                        'offset': '-5:00'}},\n",
      "              'login': {'md5': '6f615b96793341b8fef51f31facce785',\n",
      "                        'password': 'concorde',\n",
      "                        'salt': 'VesPfnwS',\n",
      "                        'sha1': '44b194a0825d34e3c1628eeaa4bea05fd9f8e317',\n",
      "                        'sha256': '243e36cc27293268952058e246bf40e8f2e8e211f0d1e13f750acc192e7572bb',\n",
      "                        'username': 'heavyladybug426',\n",
      "                        'uuid': '873ba610-92c9-496e-bdfd-17cfa34136de'},\n",
      "              'name': {'first': 'allan', 'last': 'graham', 'title': 'mr'},\n",
      "              'nat': 'US',\n",
      "              'phone': '(654)-607-2178',\n",
      "              'picture': {'large': 'https://randomuser.me/api/portraits/men/40.jpg',\n",
      "                          'medium': 'https://randomuser.me/api/portraits/med/men/40.jpg',\n",
      "                          'thumbnail': 'https://randomuser.me/api/portraits/thumb/men/40.jpg'},\n",
      "              'registered': {'age': 13, 'date': '2005-07-01T03:37:59Z'}},\n",
      "             {'cell': '(038)-615-6568',\n",
      "              'dob': {'age': 40, 'date': '1978-11-27T13:03:00Z'},\n",
      "              'email': 'todd.burns@example.com',\n",
      "              'gender': 'male',\n",
      "              'id': {'name': 'SSN', 'value': '865-72-0239'},\n",
      "              'location': {'city': 'vallejo',\n",
      "                           'coordinates': {'latitude': '3.5274',\n",
      "                                           'longitude': '132.5998'},\n",
      "                           'postcode': 44018,\n",
      "                           'state': 'utah',\n",
      "                           'street': '384 nowlin rd',\n",
      "                           'timezone': {'description': 'Ekaterinburg, '\n",
      "                                                       'Islamabad, Karachi, '\n",
      "                                                       'Tashkent',\n",
      "                                        'offset': '+5:00'}},\n",
      "              'login': {'md5': 'e23f8943f01cc20404117a22b7f78fc4',\n",
      "                        'password': 'nian',\n",
      "                        'salt': 'P6gndmZS',\n",
      "                        'sha1': 'dde350a6d6a114070a59ab6aa7d2429c33b53592',\n",
      "                        'sha256': '797a7b68523fcaecb7b1dd973b441090a4334564a5e2428ffda4cd2293d0f5b7',\n",
      "                        'username': 'goldendog901',\n",
      "                        'uuid': '1aac69df-3da5-4303-bd5e-e0f2c73053d4'},\n",
      "              'name': {'first': 'todd', 'last': 'burns', 'title': 'mr'},\n",
      "              'nat': 'US',\n",
      "              'phone': '(899)-755-0951',\n",
      "              'picture': {'large': 'https://randomuser.me/api/portraits/men/51.jpg',\n",
      "                          'medium': 'https://randomuser.me/api/portraits/med/men/51.jpg',\n",
      "                          'thumbnail': 'https://randomuser.me/api/portraits/thumb/men/51.jpg'},\n",
      "              'registered': {'age': 1, 'date': '2017-11-02T22:10:07Z'}},\n",
      "             {'cell': '(441)-019-6401',\n",
      "              'dob': {'age': 40, 'date': '1978-08-22T23:56:53Z'},\n",
      "              'email': 'tom.johnston@example.com',\n",
      "              'gender': 'male',\n",
      "              'id': {'name': 'SSN', 'value': '503-22-1264'},\n",
      "              'location': {'city': 'carlsbad',\n",
      "                           'coordinates': {'latitude': '52.7347',\n",
      "                                           'longitude': '5.4206'},\n",
      "                           'postcode': 41404,\n",
      "                           'state': 'vermont',\n",
      "                           'street': '933 mockingbird hill',\n",
      "                           'timezone': {'description': 'Azores, Cape Verde '\n",
      "                                                       'Islands',\n",
      "                                        'offset': '-1:00'}},\n",
      "              'login': {'md5': 'fdfd57fb44eae9f30d5dbf45419478c6',\n",
      "                        'password': 'hurley',\n",
      "                        'salt': '2TQ9RzAF',\n",
      "                        'sha1': '4f10c3eb91bbeb8c7129eed8994221e37dec2db1',\n",
      "                        'sha256': '824bebb53724ac1f720e68548802940149374cd9fc7666bf67e51f15ac3b9ec4',\n",
      "                        'username': 'redostrich936',\n",
      "                        'uuid': '3c14a135-b477-4543-aa87-a0c43cd4865b'},\n",
      "              'name': {'first': 'tom', 'last': 'johnston', 'title': 'mr'},\n",
      "              'nat': 'US',\n",
      "              'phone': '(341)-972-8741',\n",
      "              'picture': {'large': 'https://randomuser.me/api/portraits/men/93.jpg',\n",
      "                          'medium': 'https://randomuser.me/api/portraits/med/men/93.jpg',\n",
      "                          'thumbnail': 'https://randomuser.me/api/portraits/thumb/men/93.jpg'},\n",
      "              'registered': {'age': 4, 'date': '2014-06-01T13:28:58Z'}},\n",
      "             {'cell': '(438)-298-1477',\n",
      "              'dob': {'age': 35, 'date': '1984-03-28T06:48:05Z'},\n",
      "              'email': 'jon.alexander@example.com',\n",
      "              'gender': 'male',\n",
      "              'id': {'name': 'SSN', 'value': '194-95-7274'},\n",
      "              'location': {'city': 'thousand oaks',\n",
      "                           'coordinates': {'latitude': '74.4421',\n",
      "                                           'longitude': '-104.6492'},\n",
      "                           'postcode': 59324,\n",
      "                           'state': 'new york',\n",
      "                           'street': '8705 nowlin rd',\n",
      "                           'timezone': {'description': 'Brussels, Copenhagen, '\n",
      "                                                       'Madrid, Paris',\n",
      "                                        'offset': '+1:00'}},\n",
      "              'login': {'md5': '170e1affd4378c78e8cdf297324d2ab5',\n",
      "                        'password': 'republic',\n",
      "                        'salt': '4UY5zVK6',\n",
      "                        'sha1': 'de11d05981febac00cdae257d0c7b09e45093f6b',\n",
      "                        'sha256': '1c3a25ac972d8280148109c2ccd3cd9c695705b528c20e5bad55576454389d88',\n",
      "                        'username': 'brownpeacock950',\n",
      "                        'uuid': '38b968ad-84be-41e1-b08e-d6ae1313dba5'},\n",
      "              'name': {'first': 'jon', 'last': 'alexander', 'title': 'mr'},\n",
      "              'nat': 'US',\n",
      "              'phone': '(543)-866-0745',\n",
      "              'picture': {'large': 'https://randomuser.me/api/portraits/men/20.jpg',\n",
      "                          'medium': 'https://randomuser.me/api/portraits/med/men/20.jpg',\n",
      "                          'thumbnail': 'https://randomuser.me/api/portraits/thumb/men/20.jpg'},\n",
      "              'registered': {'age': 2, 'date': '2016-07-27T21:45:56Z'}},\n",
      "             {'cell': '(015)-184-1469',\n",
      "              'dob': {'age': 37, 'date': '1981-09-30T00:22:01Z'},\n",
      "              'email': 'derrick.campbell@example.com',\n",
      "              'gender': 'male',\n",
      "              'id': {'name': 'SSN', 'value': '702-78-4511'},\n",
      "              'location': {'city': 'concord',\n",
      "                           'coordinates': {'latitude': '-62.0533',\n",
      "                                           'longitude': '140.6933'},\n",
      "                           'postcode': 71119,\n",
      "                           'state': 'utah',\n",
      "                           'street': '6413 photinia ave',\n",
      "                           'timezone': {'description': 'Mid-Atlantic',\n",
      "                                        'offset': '-2:00'}},\n",
      "              'login': {'md5': '23af619ae063b88e749ab3049d07c2d3',\n",
      "                        'password': 'moonbeam',\n",
      "                        'salt': 'XohHqMTD',\n",
      "                        'sha1': 'be402cda11940a982a8b4f3bb68703450144d6bf',\n",
      "                        'sha256': 'a3e3b04ad50787e4d9ce52de71b2157997f75299fa9b189f42fa842c0be6989f',\n",
      "                        'username': 'orangezebra324',\n",
      "                        'uuid': 'af8effb8-80e8-4306-9a28-a8adca9c4146'},\n",
      "              'name': {'first': 'derrick', 'last': 'campbell', 'title': 'mr'},\n",
      "              'nat': 'US',\n",
      "              'phone': '(575)-788-2287',\n",
      "              'picture': {'large': 'https://randomuser.me/api/portraits/men/9.jpg',\n",
      "                          'medium': 'https://randomuser.me/api/portraits/med/men/9.jpg',\n",
      "                          'thumbnail': 'https://randomuser.me/api/portraits/thumb/men/9.jpg'},\n",
      "              'registered': {'age': 7, 'date': '2011-07-29T23:20:39Z'}},\n",
      "             {'cell': '(460)-467-3592',\n",
      "              'dob': {'age': 27, 'date': '1992-02-22T21:08:08Z'},\n",
      "              'email': 'tyrone.williams@example.com',\n",
      "              'gender': 'male',\n",
      "              'id': {'name': 'SSN', 'value': '968-14-5588'},\n",
      "              'location': {'city': 'stanley',\n",
      "                           'coordinates': {'latitude': '89.2390',\n",
      "                                           'longitude': '177.9473'},\n",
      "                           'postcode': 25977,\n",
      "                           'state': 'oklahoma',\n",
      "                           'street': '837 avondale ave',\n",
      "                           'timezone': {'description': 'Ekaterinburg, '\n",
      "                                                       'Islamabad, Karachi, '\n",
      "                                                       'Tashkent',\n",
      "                                        'offset': '+5:00'}},\n",
      "              'login': {'md5': 'b0deb3347d88e885401868c80e8bb49e',\n",
      "                        'password': 'whiteboy',\n",
      "                        'salt': 'mtZnim0P',\n",
      "                        'sha1': 'b1d86ac81a7f77fa90f2490eabdcf01e7b1c4e3f',\n",
      "                        'sha256': '7702f02f779a5865bfe7e1a9c72d1677e35adb9eb232a962ccaf01dbcc2ad301',\n",
      "                        'username': 'whitefish772',\n",
      "                        'uuid': 'e76182e5-dbaf-4b66-87aa-eace572eb3db'},\n",
      "              'name': {'first': 'tyrone', 'last': 'williams', 'title': 'mr'},\n",
      "              'nat': 'US',\n",
      "              'phone': '(990)-016-1341',\n",
      "              'picture': {'large': 'https://randomuser.me/api/portraits/men/43.jpg',\n",
      "                          'medium': 'https://randomuser.me/api/portraits/med/men/43.jpg',\n",
      "                          'thumbnail': 'https://randomuser.me/api/portraits/thumb/men/43.jpg'},\n",
      "              'registered': {'age': 7, 'date': '2011-06-15T05:10:28Z'}},\n",
      "             {'cell': '(726)-438-1146',\n",
      "              'dob': {'age': 43, 'date': '1976-04-07T08:52:52Z'},\n",
      "              'email': 'christopher.graves@example.com',\n",
      "              'gender': 'male',\n",
      "              'id': {'name': 'SSN', 'value': '162-66-3923'},\n",
      "              'location': {'city': 'arvada',\n",
      "                           'coordinates': {'latitude': '-9.9809',\n",
      "                                           'longitude': '-117.0807'},\n",
      "                           'postcode': 24375,\n",
      "                           'state': 'kansas',\n",
      "                           'street': '8982 cackson st',\n",
      "                           'timezone': {'description': 'Brussels, Copenhagen, '\n",
      "                                                       'Madrid, Paris',\n",
      "                                        'offset': '+1:00'}},\n",
      "              'login': {'md5': 'e4c3d24af9700410d48fff7c7d4a602f',\n",
      "                        'password': 'weather',\n",
      "                        'salt': 'QtieInbD',\n",
      "                        'sha1': '30374676da60836a95285a70318b4cf14c20031c',\n",
      "                        'sha256': '8f86905002effc8a9f8255a86cd190ff511b7ea2ec833d70740f0b8bbdc13b83',\n",
      "                        'username': 'organicfish733',\n",
      "                        'uuid': '66202fa7-0290-4444-9497-1807d8ea8ecc'},\n",
      "              'name': {'first': 'christopher', 'last': 'graves', 'title': 'mr'},\n",
      "              'nat': 'US',\n",
      "              'phone': '(261)-291-6375',\n",
      "              'picture': {'large': 'https://randomuser.me/api/portraits/men/46.jpg',\n",
      "                          'medium': 'https://randomuser.me/api/portraits/med/men/46.jpg',\n",
      "                          'thumbnail': 'https://randomuser.me/api/portraits/thumb/men/46.jpg'},\n",
      "              'registered': {'age': 12, 'date': '2006-12-28T11:25:53Z'}}]}\n"
     ]
    }
   ],
   "source": [
    "from pprint import pprint\n",
    "pprint(data)"
   ]
  },
  {
   "cell_type": "markdown",
   "metadata": {},
   "source": [
    "* Loop through the dictionary and print all first names"
   ]
  },
  {
   "cell_type": "code",
   "execution_count": 39,
   "metadata": {},
   "outputs": [],
   "source": [
    "for i in range(10):\n",
    "    i=requests.get(\"https://randomuser.me/api/?gender=male&nat=us&results=10\")\n",
    "    response_data = i.json()\n",
    "    result=response_data['results']\n",
    "\n",
    "\n",
    "    \n",
    "    \n"
   ]
  },
  {
   "cell_type": "code",
   "execution_count": 27,
   "metadata": {
    "scrolled": true
   },
   "outputs": [
    {
     "name": "stdout",
     "output_type": "stream",
     "text": [
      "chad\n",
      "\n",
      "randy\n",
      "\n",
      "wyatt\n",
      "\n",
      "tommy\n",
      "\n",
      "edward\n",
      "\n",
      "bruce\n",
      "\n",
      "bill\n",
      "\n",
      "allen\n",
      "\n",
      "tommy\n",
      "\n",
      "kent\n",
      "\n"
     ]
    }
   ],
   "source": [
    "#TODO\n",
    "for m in range(len(result)):\n",
    "    print(result[m]['name']['first'])\n",
    "    print()"
   ]
  },
  {
   "cell_type": "markdown",
   "metadata": {},
   "source": [
    "* Get all astronauts who are right now in space. You get the information about the Web APU from here  http://open-notify.org/Open-Notify-API/People-In-Space/ "
   ]
  },
  {
   "cell_type": "code",
   "execution_count": 28,
   "metadata": {},
   "outputs": [
    {
     "data": {
      "text/plain": [
       "'{\"message\": \"success\", \"number\": 6, \"people\": [{\"craft\": \"ISS\", \"name\": \"Oleg Kononenko\"}, {\"craft\": \"ISS\", \"name\": \"David Saint-Jacques\"}, {\"craft\": \"ISS\", \"name\": \"Anne McClain\"}, {\"craft\": \"ISS\", \"name\": \"Alexey Ovchinin\"}, {\"craft\": \"ISS\", \"name\": \"Nick Hague\"}, {\"craft\": \"ISS\", \"name\": \"Christina Koch\"}]}'"
      ]
     },
     "execution_count": 28,
     "metadata": {},
     "output_type": "execute_result"
    }
   ],
   "source": [
    "# TODO\n",
    "response2 = requests.get(\"http://api.open-notify.org/astros.json\")\n",
    "response2.text"
   ]
  },
  {
   "cell_type": "markdown",
   "metadata": {},
   "source": [
    "* Print the number of people that are right now in space"
   ]
  },
  {
   "cell_type": "code",
   "execution_count": 29,
   "metadata": {},
   "outputs": [
    {
     "name": "stdout",
     "output_type": "stream",
     "text": [
      "6\n"
     ]
    }
   ],
   "source": [
    "# TODO\n",
    "data=response2.json()\n",
    "number=data['number']\n",
    "print(number)"
   ]
  },
  {
   "cell_type": "markdown",
   "metadata": {},
   "source": [
    "* Print the names of all astronauts "
   ]
  },
  {
   "cell_type": "code",
   "execution_count": 35,
   "metadata": {},
   "outputs": [
    {
     "name": "stdout",
     "output_type": "stream",
     "text": [
      "Oleg Kononenko\n",
      "David Saint-Jacques\n",
      "Anne McClain\n",
      "Alexey Ovchinin\n",
      "Nick Hague\n",
      "Christina Koch\n"
     ]
    }
   ],
   "source": [
    "# TODO\n",
    "name=data['people']\n",
    "for key in name:\n",
    "    print(key['name'])"
   ]
  },
  {
   "cell_type": "markdown",
   "metadata": {},
   "source": [
    "* A lot of Web APIs require a api-key for interacting with them (like Twitter, Facebook, …). You find at http://www.python-requests.org/en/latest/user/authentication/ more information for Authentication for Web APIs with the request package\n",
    "* There are also special Python packages for interacting with services. E.g. for Twitter: http://www.tweepy.org/ or  https://github.com/bear/python-twitter \n",
    "\n",
    "See e.g. http://socialmedia-class.org/twittertutorial.html for a tutorial"
   ]
  },
  {
   "cell_type": "code",
   "execution_count": null,
   "metadata": {},
   "outputs": [],
   "source": []
  },
  {
   "cell_type": "markdown",
   "metadata": {},
   "source": [
    "## 2. Creating a Web API\n",
    "\n",
    "* Create a folder `webapi` and change into it.\n",
    "* Create in the `webapi` folder a file with the name `Dockerfile` with the following content:\n",
    "\n",
    "----\n",
    "```bash\n",
    "# Use an official Python runtime as a parent image\n",
    "FROM python:3.7-slim\n",
    "\n",
    "# Set the working directory to /app\n",
    "WORKDIR /app\n",
    "\n",
    "# Copy the current directory contents into the container at /app\n",
    "COPY app/ /app\n",
    "\n",
    "# Install any needed packages specified in requirements.txt\n",
    "RUN pip install --trusted-host pypi.python.org -r requirements.txt\n",
    "\n",
    "# Make port 80 available to the world outside this container\n",
    "EXPOSE 80\n",
    "\n",
    "# Run app.py when the container launches\n",
    "CMD [\"python\", \"app.py\"]\n",
    "```\n",
    "\n",
    "-----\n",
    "\n",
    "* We can also use Docker compose with just one service. Create in your `webapi` folder a `docker-compose.yml` file:\n",
    "\n",
    "-----\n",
    "\n",
    "```yaml\n",
    "version: '3'\n",
    "services:\n",
    "  api:\n",
    "    build: .\n",
    "    ports:\n",
    "      - \"5000:80\"\n",
    "    restart: always\n",
    "    volumes:\n",
    "      - ./app:/app\n",
    "```\n",
    "-----\n",
    "\n",
    "* Create a folder in the `webapi` folder a new folder with the name `app`\n",
    "* We will build a web API with `Flask` (http://flask.pocoo.org/) . Create a `requirements.txt` file in the `app` folder. Here we can specify all python `pip` packages that we need:\n",
    "\n",
    "-----\n",
    "```bash\n",
    "Flask\n",
    "```\n",
    "-----\n",
    "\n",
    "* Create the `app.py` file in the `app` folder:\n",
    "\n",
    "-----\n",
    "```python\n",
    "from flask import Flask\n",
    "from flask import request, jsonify\n",
    "\n",
    "app = Flask(__name__)\n",
    "\n",
    "courses = [\n",
    "    {'id': 0,\n",
    "     'title': 'Data Science',\n",
    "     'professor': 'Markus Löcher',\n",
    "     'semester': '1'},\n",
    "    {'id': 1,\n",
    "     'title': 'Data Warehousing',\n",
    "     'professor': 'Roland M. Mueller',\n",
    "     'semester': '1'},\n",
    "    {'id': 2,\n",
    "     'title': 'Business Process Management',\n",
    "     'professor': 'Frank Habermann',\n",
    "     'semester': '1'},\n",
    "    {'id': 3,\n",
    "     'title': 'Stratigic Issues of IT',\n",
    "     'professor': 'Sven Pohland',\n",
    "     'semester': '1'},\n",
    "    {'id': 4,\n",
    "     'title': 'Text, Web and Social Media Analytics Lab',\n",
    "     'professor': 'Markus Löcher',\n",
    "     'semester': '2'},\n",
    "    {'id': 5,\n",
    "     'title': 'Enterprise Architectures for Big Data',\n",
    "     'professor': 'Roland M. Mueller',\n",
    "     'semester': '2'},\n",
    "    {'id': 6,\n",
    "     'title': 'Business Process Integration Lab',\n",
    "     'professor': 'Frank Habermann',\n",
    "     'semester': '2'},\n",
    "    {'id': 7,\n",
    "     'title': 'IT-Security and Privacy',\n",
    "     'professor': 'Dennis Uckel',\n",
    "     'semester': '2'},\n",
    "    {'id': 8,\n",
    "     'title': 'Research Methods',\n",
    "     'professor': 'Marcus Birkenkrahe',\n",
    "     'semester': '2'},\n",
    "]\n",
    "\n",
    "@app.route('/api/v1/courses/all', methods=['GET'])\n",
    "def api_all():\n",
    "    return jsonify(courses)\n",
    "\n",
    "@app.route('/api/v1/courses', methods=['GET'])\n",
    "def api_id():\n",
    "    # Check if an ID was provided as part of the URL.\n",
    "    # If ID is provided, assign it to a variable.\n",
    "    # If no ID is provided, display an error in the browser.\n",
    "    if 'id' in request.args:\n",
    "        id = int(request.args['id'])\n",
    "    else:\n",
    "        return \"Error: No id field provided. Please specify an id.\"\n",
    "\n",
    "    # Create an empty list for our results\n",
    "    results = []\n",
    "\n",
    "    # Loop through the data and match results that fit the requested ID.\n",
    "    # IDs are unique, but other fields might return many results\n",
    "    for course in courses:\n",
    "        if course['id'] == id:\n",
    "            results.append(course)\n",
    "\n",
    "    # Use the jsonify function from Flask to convert our list of\n",
    "    # Python dictionaries to the JSON format.\n",
    "    return jsonify(results)\n",
    "\n",
    "if __name__ == \"__main__\":\n",
    "    app.run(host=\"0.0.0.0\", port=80, debug=True)\n",
    "```\n",
    "-----\n",
    "* Open http://localhost:5000/api/v1/courses/all in a browser\n",
    "* Open http://localhost:5000/api/v1/courses?id=5 in a browser\n"
   ]
  },
  {
   "cell_type": "markdown",
   "metadata": {
    "collapsed": true
   },
   "source": [
    "* Use your own API here in the Jupyter Notebook with Python and print all names of all courses "
   ]
  },
  {
   "cell_type": "code",
   "execution_count": 4,
   "metadata": {},
   "outputs": [
    {
     "data": {
      "text/plain": [
       "'[{\"id\":0,\"professor\":\"Markus L\\\\u00f6cher\",\"semester\":\"1\",\"title\":\"Data Science\"},{\"id\":1,\"professor\":\"Roland M. Mueller\",\"semester\":\"1\",\"title\":\"Data Warehousing\"},{\"id\":2,\"professor\":\"Frank Habermann\",\"semester\":\"1\",\"title\":\"Business Process Management\"},{\"id\":3,\"professor\":\"Sven Pohland\",\"semester\":\"1\",\"title\":\"Stratigic Issues of IT\"},{\"id\":4,\"professor\":\"Markus L\\\\u00f6cher\",\"semester\":\"2\",\"title\":\"Text, Web and Social Media Analytics Lab\"},{\"id\":5,\"professor\":\"Roland M. Mueller\",\"semester\":\"2\",\"title\":\"Enterprise Architectures for Big Data\"},{\"id\":6,\"professor\":\"Frank Habermann\",\"semester\":\"2\",\"title\":\"Business Process Integration Lab\"},{\"id\":7,\"professor\":\"Dennis Uckel\",\"semester\":\"2\",\"title\":\"IT-Security and Privacy\"},{\"id\":8,\"professor\":\"Marcus Birkenkrahe\",\"semester\":\"2\",\"title\":\"Research Methods\"}]\\n'"
      ]
     },
     "execution_count": 4,
     "metadata": {},
     "output_type": "execute_result"
    }
   ],
   "source": [
    "# TODO\n",
    "response3 = requests.get(\"http://192.168.99.100:5000/api/v1/courses/all\")\n",
    "response3.text"
   ]
  },
  {
   "cell_type": "code",
   "execution_count": 5,
   "metadata": {},
   "outputs": [
    {
     "name": "stdout",
     "output_type": "stream",
     "text": [
      "Data Science\n",
      "Data Warehousing\n",
      "Business Process Management\n",
      "Stratigic Issues of IT\n",
      "Text, Web and Social Media Analytics Lab\n",
      "Enterprise Architectures for Big Data\n",
      "Business Process Integration Lab\n",
      "IT-Security and Privacy\n",
      "Research Methods\n"
     ]
    }
   ],
   "source": [
    "data2=response3.json()\n",
    "#titlecourse=data2['title']\n",
    "for i in data2:\n",
    "    print(i['title'])\n"
   ]
  },
  {
   "cell_type": "markdown",
   "metadata": {},
   "source": [
    "* Add the possibility to find courses based on the semester\n",
    "* Use your API in Python and print all names of all courses in the second semester"
   ]
  },
  {
   "cell_type": "code",
   "execution_count": 12,
   "metadata": {},
   "outputs": [
    {
     "name": "stdout",
     "output_type": "stream",
     "text": [
      "Text, Web and Social Media Analytics Lab\n",
      "Enterprise Architectures for Big Data\n",
      "Business Process Integration Lab\n",
      "IT-Security and Privacy\n",
      "Research Methods\n"
     ]
    }
   ],
   "source": [
    "for i in data2:\n",
    "    if i['semester']=='2':\n",
    "        print(i['title'])"
   ]
  },
  {
   "cell_type": "markdown",
   "metadata": {},
   "source": [
    "* Add a function that can convert Fahrenheit to Celsius \n",
    "* Call your API and get the Celsius value for 100°F Fahrenheit"
   ]
  },
  {
   "cell_type": "markdown",
   "metadata": {
    "collapsed": true
   },
   "source": [
    "# TODO\n",
    "\n",
    "                         \n",
    "                         \n",
    "    \n",
    "    \n",
    "\n",
    "\n",
    "\n",
    "\n",
    "\n",
    "\n",
    "\n"
   ]
  },
  {
   "cell_type": "code",
   "execution_count": 75,
   "metadata": {},
   "outputs": [
    {
     "name": "stdout",
     "output_type": "stream",
     "text": [
      "Enter 'x' for exit.\n",
      "Enter Temperature in Fahrenheit: 200\n",
      "Temperature in Celsius = 93.33333333333333\n"
     ]
    }
   ],
   "source": [
    "print(\"Enter 'x' for exit.\");\n",
    "fah = input(\"Enter Temperature in Fahrenheit: \");\n",
    "if fah == 'x':\n",
    " exit();\n",
    "else:\n",
    " fahrenheit = float(fah);\n",
    " celsius = (fahrenheit-32)/1.8;\n",
    " print(\"Temperature in Celsius =\",celsius);\n",
    "\n"
   ]
  },
  {
   "cell_type": "code",
   "execution_count": 98,
   "metadata": {},
   "outputs": [
    {
     "name": "stdout",
     "output_type": "stream",
     "text": [
      "0.0\n",
      "verified!\n"
     ]
    }
   ],
   "source": [
    "def C(f):\n",
    "    c = (5.0/9)*(f - 32)\n",
    "    return c\n",
    "\n",
    "def F(c):\n",
    "    f = (9.0/5)*c + 32\n",
    "    return f\n",
    "\n",
    "print (C(32))\n",
    "c = 100\n",
    "if c == C(F(c)):\n",
    "    print ('verified!')\n",
    "    "
   ]
  },
  {
   "cell_type": "code",
   "execution_count": null,
   "metadata": {},
   "outputs": [],
   "source": []
  }
 ],
 "metadata": {
  "kernelspec": {
   "display_name": "Python 3",
   "language": "python",
   "name": "python3"
  },
  "language_info": {
   "codemirror_mode": {
    "name": "ipython",
    "version": 3
   },
   "file_extension": ".py",
   "mimetype": "text/x-python",
   "name": "python",
   "nbconvert_exporter": "python",
   "pygments_lexer": "ipython3",
   "version": "3.7.0"
  },
  "varInspector": {
   "cols": {
    "lenName": 16,
    "lenType": 16,
    "lenVar": 40
   },
   "kernels_config": {
    "python": {
     "delete_cmd_postfix": "",
     "delete_cmd_prefix": "del ",
     "library": "var_list.py",
     "varRefreshCmd": "print(var_dic_list())"
    },
    "r": {
     "delete_cmd_postfix": ") ",
     "delete_cmd_prefix": "rm(",
     "library": "var_list.r",
     "varRefreshCmd": "cat(var_dic_list()) "
    }
   },
   "types_to_exclude": [
    "module",
    "function",
    "builtin_function_or_method",
    "instance",
    "_Feature"
   ],
   "window_display": false
  }
 },
 "nbformat": 4,
 "nbformat_minor": 2
}

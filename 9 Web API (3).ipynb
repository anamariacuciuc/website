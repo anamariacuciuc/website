{
 "cells": [
  {
   "cell_type": "markdown",
   "metadata": {},
   "source": [
    "# Web APIs\n",
    "\n",
    "## 1. Consuming Web APIs\n",
    "\n",
    "(Partially adapted from https://www.dataquest.io/blog/python-api-tutorial/)\n",
    "\n",
    "* https://randomuser.me/ is a random user generator \n",
    "*\tIt has an API. Go to https://api.randomuser.me/ with your browser\n",
    "*\tYou get a JSON (JavaScript Object Notation) back. A JSON is similar to a Python dictionary.  \n",
    "*  Refresh the browser\n",
    "*\tYou can add query parameters. They are added to the URL with a ? . You then add then the parameter name = the value. More the one parameter are connected with a & e.g.\n",
    "\thttp://api.open-notify.org/iss-pass.json?lat=37.78&lon=-122.41\n",
    "\n",
    "*\t Go the documentation https://randomuser.me/documentation and check how you can get multiple users and to specify constraints on the output\n",
    "*\tGo to your browser and add parameters to https://api.randomuser.me/ so that you get 5 results of only males from the US\n",
    "\n",
    "Enter the URL of your solution:"
   ]
  },
  {
   "cell_type": "code",
   "execution_count": null,
   "metadata": {
    "collapsed": true
   },
   "outputs": [],
   "source": [
    "# TODO: get 5 results of only males from the US\n",
    "# Enter the URL of your solution:\n",
    "url = https://randomuser.me/api/?gender=male&nat=us&results=5"
   ]
  },
  {
   "cell_type": "code",
   "execution_count": 2,
   "metadata": {},
   "outputs": [
    {
     "name": "stdout",
     "output_type": "stream",
     "text": [
      "{\"results\":[{\"gender\":\"male\",\"name\":{\"title\":\"mr\",\"first\":\"Ø§ÛŒÙ„ÛŒØ§\",\"last\":\"Ø¹Ù„ÛŒØ²Ø§Ø¯Ù‡\"},\"location\":{\"street\":\"595 Ù�Ø¯Ø§ÛŒÛŒØ§Ù† Ø§Ø³Ù„Ø§Ù…\",\"city\":\"Ù†ÛŒØ´Ø§Ø¨ÙˆØ±\",\"state\":\"Ø²Ù†Ø¬Ø§Ù†\",\"postcode\":88738,\"coordinates\":{\"latitude\":\"29.8859\",\"longitude\":\"-34.6560\"},\"timezone\":{\"offset\":\"-8:00\",\"description\":\"Pacific Time (US & Canada)\"}},\"email\":\"Ø§ÛŒÙ„ÛŒØ§.Ø¹Ù„ÛŒØ²Ø§Ø¯Ù‡@example.com\",\"login\":{\"uuid\":\"37209c6d-f5d9-4265-848a-cff4439e43fb\",\"username\":\"lazyostrich799\",\"password\":\"deputy\",\"salt\":\"9w2JhBwa\",\"md5\":\"1122017c9ad0982aa645a7724b204e7e\",\"sha1\":\"bf7e2641bc56d69490d0e7cd63d0e9b78247b348\",\"sha256\":\"bb438279a832fdda1a471bc18ae00757fd95852a8e50bc37efd4751cf2d670b5\"},\"dob\":{\"date\":\"1996-03-06T11:24:25Z\",\"age\":23},\"registered\":{\"date\":\"2017-12-16T00:34:43Z\",\"age\":1},\"phone\":\"022-59219710\",\"cell\":\"0907-086-8149\",\"id\":{\"name\":\"\",\"value\":null},\"picture\":{\"large\":\"https://randomuser.me/api/portraits/men/28.jpg\",\"medium\":\"https://randomuser.me/api/portraits/med/men/28.jpg\",\"thumbnail\":\"https://randomuser.me/api/portraits/thumb/men/28.jpg\"},\"nat\":\"IR\"}],\"info\":{\"seed\":\"b3f5a3e65f576346\",\"results\":1,\"page\":1,\"version\":\"1.2\"}}\n"
     ]
    }
   ],
   "source": [
    "\n",
    "!curl -s https://api.randomuser.me/\n",
    "    \n",
    "    "
   ]
  },
  {
   "cell_type": "markdown",
   "metadata": {},
   "source": [
    "* You can also get the data from the command line. Open the command line and write\n",
    "\n",
    "```bash\n",
    "curl -s https://api.randomuser.me/\n",
    "```\n",
    "\n",
    "You can also run Bash commands directly in your Jupyter Notebook with !:"
   ]
  },
  {
   "cell_type": "code",
   "execution_count": null,
   "metadata": {
    "collapsed": true
   },
   "outputs": [],
   "source": [
    "!curl -s https://api.randomuser.me/"
   ]
  },
  {
   "cell_type": "markdown",
   "metadata": {},
   "source": [
    "* Import the two libraries \n",
    "    * `requests` and \n",
    "    * `json`. \n",
    "\n",
    "You can find the documentation for the requests package here:\n",
    " http://www.python-requests.org/en/latest/ \n",
    " "
   ]
  },
  {
   "cell_type": "code",
   "execution_count": 2,
   "metadata": {},
   "outputs": [],
   "source": [
    "import requests \n",
    "import json\n"
   ]
  },
  {
   "cell_type": "code",
   "execution_count": 3,
   "metadata": {},
   "outputs": [],
   "source": [
    "from urllib.request import urlopen"
   ]
  },
  {
   "cell_type": "code",
   "execution_count": 4,
   "metadata": {},
   "outputs": [],
   "source": [
    "# TODO"
   ]
  },
  {
   "cell_type": "markdown",
   "metadata": {},
   "source": [
    "* With the requests package you can call a Web API with the URL and the method get"
   ]
  },
  {
   "cell_type": "code",
   "execution_count": 5,
   "metadata": {},
   "outputs": [],
   "source": [
    "response = requests.get(\"https://api.randomuser.me/\")"
   ]
  },
  {
   "cell_type": "markdown",
   "metadata": {},
   "source": [
    "* Print the status code of the request"
   ]
  },
  {
   "cell_type": "code",
   "execution_count": 6,
   "metadata": {},
   "outputs": [
    {
     "name": "stdout",
     "output_type": "stream",
     "text": [
      "200\n"
     ]
    }
   ],
   "source": [
    "print(response.status_code)"
   ]
  },
  {
   "cell_type": "markdown",
   "metadata": {},
   "source": [
    "**The meaning of the status codes are:**\n",
    "* 200: everything went okay, and the result has been returned (if any)\n",
    "* 301: the server is redirecting you to a different endpoint. This can happen when a company switches domain names, or an endpoint name is changed.\n",
    "* 401: the server thinks you're not authenticated. This happens when you don't send the right credentials to access an API.\n",
    "* 400: the server thinks you made a bad request. This can happen when you don't send along the right data, among other things.\n",
    "* 403: the resource you're trying to access is forbidden – you don't have the right permissions to see it.\n",
    "* 404: the resource you tried to access wasn't found on the server.\n"
   ]
  },
  {
   "cell_type": "markdown",
   "metadata": {},
   "source": [
    "You can specify the query parameters for a URL with a Python dictionary like this:\n",
    "```python\n",
    "parameters = {\"lat\": 37.78, \"lon\": -122.41}\n",
    "```\n",
    "\n",
    "And pass the parameter to the request like this\n",
    "```python\n",
    "response = requests.get(\"http://api.open-notify.org/iss-pass.json\", params=parameters)\n",
    "```\n",
    "This is the same as \n",
    "```python\n",
    "response = requests.get(\"http://api.open-notify.org/iss-pass.json?lat=37.78&lon=-122.41\")\n",
    "```\n",
    "\n",
    "Alternatively you could build also the URL with the parameters by yourself with string concatenation. \n",
    "\n",
    "* Get with the request method 10 results of only males from the US.\n",
    "\n"
   ]
  },
  {
   "cell_type": "code",
   "execution_count": 14,
   "metadata": {},
   "outputs": [],
   "source": [
    "# TODO: Get with the request method 10 results of only males from the US.\n",
    "response = requests.get(\"https://randomuser.me/api/?gender=male&nat=us&results=10\")"
   ]
  },
  {
   "cell_type": "markdown",
   "metadata": {},
   "source": [
    "* You can show the result of the request with the method text"
   ]
  },
  {
   "cell_type": "code",
   "execution_count": 15,
   "metadata": {
    "scrolled": true
   },
   "outputs": [
    {
     "data": {
      "text/plain": [
       "'{\"results\":[{\"gender\":\"male\",\"name\":{\"title\":\"mr\",\"first\":\"julian\",\"last\":\"berry\"},\"location\":{\"street\":\"4938 hunters creek dr\",\"city\":\"eugene\",\"state\":\"maine\",\"postcode\":52240,\"coordinates\":{\"latitude\":\"36.3082\",\"longitude\":\"19.5497\"},\"timezone\":{\"offset\":\"+2:00\",\"description\":\"Kaliningrad, South Africa\"}},\"email\":\"julian.berry@example.com\",\"login\":{\"uuid\":\"1876467b-aa66-4f4f-a327-35e920d7eb16\",\"username\":\"browndog505\",\"password\":\"boyboy\",\"salt\":\"TPOzz0s7\",\"md5\":\"1a562101118157e0b1ace2505052b230\",\"sha1\":\"bd3d8b0b5204b770e77527bc5ffef2740f783711\",\"sha256\":\"b99aa25fa0fd337a8466216c580a2390cb3ea24cbd523a7239c86ff7233547b9\"},\"dob\":{\"date\":\"1955-08-12T13:09:47Z\",\"age\":63},\"registered\":{\"date\":\"2007-08-19T09:47:09Z\",\"age\":11},\"phone\":\"(510)-849-6134\",\"cell\":\"(880)-707-1249\",\"id\":{\"name\":\"SSN\",\"value\":\"749-53-2728\"},\"picture\":{\"large\":\"https://randomuser.me/api/portraits/men/90.jpg\",\"medium\":\"https://randomuser.me/api/portraits/med/men/90.jpg\",\"thumbnail\":\"https://randomuser.me/api/portraits/thumb/men/90.jpg\"},\"nat\":\"US\"},{\"gender\":\"male\",\"name\":{\"title\":\"mr\",\"first\":\"jeremy\",\"last\":\"gardner\"},\"location\":{\"street\":\"7642 locust rd\",\"city\":\"victorville\",\"state\":\"arizona\",\"postcode\":55527,\"coordinates\":{\"latitude\":\"-13.3927\",\"longitude\":\"140.4352\"},\"timezone\":{\"offset\":\"-5:00\",\"description\":\"Eastern Time (US & Canada), Bogota, Lima\"}},\"email\":\"jeremy.gardner@example.com\",\"login\":{\"uuid\":\"d0c0c346-fc6e-4943-b3ea-744c7f0837df\",\"username\":\"silvergorilla734\",\"password\":\"bondage\",\"salt\":\"lD28Sr2h\",\"md5\":\"35930ede5b378f0872a994f71547495d\",\"sha1\":\"96ec4e03c2e20f13c5db6afae0c170dc3a31fcad\",\"sha256\":\"356ecec8eec1ecf64a801f37025d59632dd23fdfc29b9b590f1ea0fb560ea036\"},\"dob\":{\"date\":\"1993-07-14T09:10:56Z\",\"age\":25},\"registered\":{\"date\":\"2011-07-25T04:02:47Z\",\"age\":7},\"phone\":\"(055)-355-4574\",\"cell\":\"(992)-199-6371\",\"id\":{\"name\":\"SSN\",\"value\":\"101-65-4276\"},\"picture\":{\"large\":\"https://randomuser.me/api/portraits/men/57.jpg\",\"medium\":\"https://randomuser.me/api/portraits/med/men/57.jpg\",\"thumbnail\":\"https://randomuser.me/api/portraits/thumb/men/57.jpg\"},\"nat\":\"US\"},{\"gender\":\"male\",\"name\":{\"title\":\"mr\",\"first\":\"barry\",\"last\":\"alvarez\"},\"location\":{\"street\":\"1360 spring st\",\"city\":\"north valley\",\"state\":\"new hampshire\",\"postcode\":48902,\"coordinates\":{\"latitude\":\"40.2136\",\"longitude\":\"-76.0816\"},\"timezone\":{\"offset\":\"+3:30\",\"description\":\"Tehran\"}},\"email\":\"barry.alvarez@example.com\",\"login\":{\"uuid\":\"d12b6be9-9199-4598-b9c7-ef31ffa5b111\",\"username\":\"purpleelephant329\",\"password\":\"wayer\",\"salt\":\"4nZ91dBW\",\"md5\":\"ced02ed9b158c0e9b41e0180f0ab9982\",\"sha1\":\"1230b0cf7d9245c8cb7edd79779b575ce144f979\",\"sha256\":\"b8463080bfb87298f32e9ffab57a1d63688e1d7d35e4f4555fd8d558d2e3b143\"},\"dob\":{\"date\":\"1949-07-12T01:38:12Z\",\"age\":69},\"registered\":{\"date\":\"2005-09-25T19:26:38Z\",\"age\":13},\"phone\":\"(885)-816-6845\",\"cell\":\"(892)-863-2027\",\"id\":{\"name\":\"SSN\",\"value\":\"839-80-9184\"},\"picture\":{\"large\":\"https://randomuser.me/api/portraits/men/42.jpg\",\"medium\":\"https://randomuser.me/api/portraits/med/men/42.jpg\",\"thumbnail\":\"https://randomuser.me/api/portraits/thumb/men/42.jpg\"},\"nat\":\"US\"},{\"gender\":\"male\",\"name\":{\"title\":\"mr\",\"first\":\"allan\",\"last\":\"graham\"},\"location\":{\"street\":\"8616 elgin st\",\"city\":\"san jose\",\"state\":\"montana\",\"postcode\":29106,\"coordinates\":{\"latitude\":\"-68.9652\",\"longitude\":\"56.4998\"},\"timezone\":{\"offset\":\"-5:00\",\"description\":\"Eastern Time (US & Canada), Bogota, Lima\"}},\"email\":\"allan.graham@example.com\",\"login\":{\"uuid\":\"873ba610-92c9-496e-bdfd-17cfa34136de\",\"username\":\"heavyladybug426\",\"password\":\"concorde\",\"salt\":\"VesPfnwS\",\"md5\":\"6f615b96793341b8fef51f31facce785\",\"sha1\":\"44b194a0825d34e3c1628eeaa4bea05fd9f8e317\",\"sha256\":\"243e36cc27293268952058e246bf40e8f2e8e211f0d1e13f750acc192e7572bb\"},\"dob\":{\"date\":\"1959-06-20T17:58:08Z\",\"age\":59},\"registered\":{\"date\":\"2005-07-01T03:37:59Z\",\"age\":13},\"phone\":\"(654)-607-2178\",\"cell\":\"(254)-369-2157\",\"id\":{\"name\":\"SSN\",\"value\":\"535-68-5279\"},\"picture\":{\"large\":\"https://randomuser.me/api/portraits/men/40.jpg\",\"medium\":\"https://randomuser.me/api/portraits/med/men/40.jpg\",\"thumbnail\":\"https://randomuser.me/api/portraits/thumb/men/40.jpg\"},\"nat\":\"US\"},{\"gender\":\"male\",\"name\":{\"title\":\"mr\",\"first\":\"todd\",\"last\":\"burns\"},\"location\":{\"street\":\"384 nowlin rd\",\"city\":\"vallejo\",\"state\":\"utah\",\"postcode\":44018,\"coordinates\":{\"latitude\":\"3.5274\",\"longitude\":\"132.5998\"},\"timezone\":{\"offset\":\"+5:00\",\"description\":\"Ekaterinburg, Islamabad, Karachi, Tashkent\"}},\"email\":\"todd.burns@example.com\",\"login\":{\"uuid\":\"1aac69df-3da5-4303-bd5e-e0f2c73053d4\",\"username\":\"goldendog901\",\"password\":\"nian\",\"salt\":\"P6gndmZS\",\"md5\":\"e23f8943f01cc20404117a22b7f78fc4\",\"sha1\":\"dde350a6d6a114070a59ab6aa7d2429c33b53592\",\"sha256\":\"797a7b68523fcaecb7b1dd973b441090a4334564a5e2428ffda4cd2293d0f5b7\"},\"dob\":{\"date\":\"1978-11-27T13:03:00Z\",\"age\":40},\"registered\":{\"date\":\"2017-11-02T22:10:07Z\",\"age\":1},\"phone\":\"(899)-755-0951\",\"cell\":\"(038)-615-6568\",\"id\":{\"name\":\"SSN\",\"value\":\"865-72-0239\"},\"picture\":{\"large\":\"https://randomuser.me/api/portraits/men/51.jpg\",\"medium\":\"https://randomuser.me/api/portraits/med/men/51.jpg\",\"thumbnail\":\"https://randomuser.me/api/portraits/thumb/men/51.jpg\"},\"nat\":\"US\"},{\"gender\":\"male\",\"name\":{\"title\":\"mr\",\"first\":\"tom\",\"last\":\"johnston\"},\"location\":{\"street\":\"933 mockingbird hill\",\"city\":\"carlsbad\",\"state\":\"vermont\",\"postcode\":41404,\"coordinates\":{\"latitude\":\"52.7347\",\"longitude\":\"5.4206\"},\"timezone\":{\"offset\":\"-1:00\",\"description\":\"Azores, Cape Verde Islands\"}},\"email\":\"tom.johnston@example.com\",\"login\":{\"uuid\":\"3c14a135-b477-4543-aa87-a0c43cd4865b\",\"username\":\"redostrich936\",\"password\":\"hurley\",\"salt\":\"2TQ9RzAF\",\"md5\":\"fdfd57fb44eae9f30d5dbf45419478c6\",\"sha1\":\"4f10c3eb91bbeb8c7129eed8994221e37dec2db1\",\"sha256\":\"824bebb53724ac1f720e68548802940149374cd9fc7666bf67e51f15ac3b9ec4\"},\"dob\":{\"date\":\"1978-08-22T23:56:53Z\",\"age\":40},\"registered\":{\"date\":\"2014-06-01T13:28:58Z\",\"age\":4},\"phone\":\"(341)-972-8741\",\"cell\":\"(441)-019-6401\",\"id\":{\"name\":\"SSN\",\"value\":\"503-22-1264\"},\"picture\":{\"large\":\"https://randomuser.me/api/portraits/men/93.jpg\",\"medium\":\"https://randomuser.me/api/portraits/med/men/93.jpg\",\"thumbnail\":\"https://randomuser.me/api/portraits/thumb/men/93.jpg\"},\"nat\":\"US\"},{\"gender\":\"male\",\"name\":{\"title\":\"mr\",\"first\":\"jon\",\"last\":\"alexander\"},\"location\":{\"street\":\"8705 nowlin rd\",\"city\":\"thousand oaks\",\"state\":\"new york\",\"postcode\":59324,\"coordinates\":{\"latitude\":\"74.4421\",\"longitude\":\"-104.6492\"},\"timezone\":{\"offset\":\"+1:00\",\"description\":\"Brussels, Copenhagen, Madrid, Paris\"}},\"email\":\"jon.alexander@example.com\",\"login\":{\"uuid\":\"38b968ad-84be-41e1-b08e-d6ae1313dba5\",\"username\":\"brownpeacock950\",\"password\":\"republic\",\"salt\":\"4UY5zVK6\",\"md5\":\"170e1affd4378c78e8cdf297324d2ab5\",\"sha1\":\"de11d05981febac00cdae257d0c7b09e45093f6b\",\"sha256\":\"1c3a25ac972d8280148109c2ccd3cd9c695705b528c20e5bad55576454389d88\"},\"dob\":{\"date\":\"1984-03-28T06:48:05Z\",\"age\":35},\"registered\":{\"date\":\"2016-07-27T21:45:56Z\",\"age\":2},\"phone\":\"(543)-866-0745\",\"cell\":\"(438)-298-1477\",\"id\":{\"name\":\"SSN\",\"value\":\"194-95-7274\"},\"picture\":{\"large\":\"https://randomuser.me/api/portraits/men/20.jpg\",\"medium\":\"https://randomuser.me/api/portraits/med/men/20.jpg\",\"thumbnail\":\"https://randomuser.me/api/portraits/thumb/men/20.jpg\"},\"nat\":\"US\"},{\"gender\":\"male\",\"name\":{\"title\":\"mr\",\"first\":\"derrick\",\"last\":\"campbell\"},\"location\":{\"street\":\"6413 photinia ave\",\"city\":\"concord\",\"state\":\"utah\",\"postcode\":71119,\"coordinates\":{\"latitude\":\"-62.0533\",\"longitude\":\"140.6933\"},\"timezone\":{\"offset\":\"-2:00\",\"description\":\"Mid-Atlantic\"}},\"email\":\"derrick.campbell@example.com\",\"login\":{\"uuid\":\"af8effb8-80e8-4306-9a28-a8adca9c4146\",\"username\":\"orangezebra324\",\"password\":\"moonbeam\",\"salt\":\"XohHqMTD\",\"md5\":\"23af619ae063b88e749ab3049d07c2d3\",\"sha1\":\"be402cda11940a982a8b4f3bb68703450144d6bf\",\"sha256\":\"a3e3b04ad50787e4d9ce52de71b2157997f75299fa9b189f42fa842c0be6989f\"},\"dob\":{\"date\":\"1981-09-30T00:22:01Z\",\"age\":37},\"registered\":{\"date\":\"2011-07-29T23:20:39Z\",\"age\":7},\"phone\":\"(575)-788-2287\",\"cell\":\"(015)-184-1469\",\"id\":{\"name\":\"SSN\",\"value\":\"702-78-4511\"},\"picture\":{\"large\":\"https://randomuser.me/api/portraits/men/9.jpg\",\"medium\":\"https://randomuser.me/api/portraits/med/men/9.jpg\",\"thumbnail\":\"https://randomuser.me/api/portraits/thumb/men/9.jpg\"},\"nat\":\"US\"},{\"gender\":\"male\",\"name\":{\"title\":\"mr\",\"first\":\"tyrone\",\"last\":\"williams\"},\"location\":{\"street\":\"837 avondale ave\",\"city\":\"stanley\",\"state\":\"oklahoma\",\"postcode\":25977,\"coordinates\":{\"latitude\":\"89.2390\",\"longitude\":\"177.9473\"},\"timezone\":{\"offset\":\"+5:00\",\"description\":\"Ekaterinburg, Islamabad, Karachi, Tashkent\"}},\"email\":\"tyrone.williams@example.com\",\"login\":{\"uuid\":\"e76182e5-dbaf-4b66-87aa-eace572eb3db\",\"username\":\"whitefish772\",\"password\":\"whiteboy\",\"salt\":\"mtZnim0P\",\"md5\":\"b0deb3347d88e885401868c80e8bb49e\",\"sha1\":\"b1d86ac81a7f77fa90f2490eabdcf01e7b1c4e3f\",\"sha256\":\"7702f02f779a5865bfe7e1a9c72d1677e35adb9eb232a962ccaf01dbcc2ad301\"},\"dob\":{\"date\":\"1992-02-22T21:08:08Z\",\"age\":27},\"registered\":{\"date\":\"2011-06-15T05:10:28Z\",\"age\":7},\"phone\":\"(990)-016-1341\",\"cell\":\"(460)-467-3592\",\"id\":{\"name\":\"SSN\",\"value\":\"968-14-5588\"},\"picture\":{\"large\":\"https://randomuser.me/api/portraits/men/43.jpg\",\"medium\":\"https://randomuser.me/api/portraits/med/men/43.jpg\",\"thumbnail\":\"https://randomuser.me/api/portraits/thumb/men/43.jpg\"},\"nat\":\"US\"},{\"gender\":\"male\",\"name\":{\"title\":\"mr\",\"first\":\"christopher\",\"last\":\"graves\"},\"location\":{\"street\":\"8982 cackson st\",\"city\":\"arvada\",\"state\":\"kansas\",\"postcode\":24375,\"coordinates\":{\"latitude\":\"-9.9809\",\"longitude\":\"-117.0807\"},\"timezone\":{\"offset\":\"+1:00\",\"description\":\"Brussels, Copenhagen, Madrid, Paris\"}},\"email\":\"christopher.graves@example.com\",\"login\":{\"uuid\":\"66202fa7-0290-4444-9497-1807d8ea8ecc\",\"username\":\"organicfish733\",\"password\":\"weather\",\"salt\":\"QtieInbD\",\"md5\":\"e4c3d24af9700410d48fff7c7d4a602f\",\"sha1\":\"30374676da60836a95285a70318b4cf14c20031c\",\"sha256\":\"8f86905002effc8a9f8255a86cd190ff511b7ea2ec833d70740f0b8bbdc13b83\"},\"dob\":{\"date\":\"1976-04-07T08:52:52Z\",\"age\":43},\"registered\":{\"date\":\"2006-12-28T11:25:53Z\",\"age\":12},\"phone\":\"(261)-291-6375\",\"cell\":\"(726)-438-1146\",\"id\":{\"name\":\"SSN\",\"value\":\"162-66-3923\"},\"picture\":{\"large\":\"https://randomuser.me/api/portraits/men/46.jpg\",\"medium\":\"https://randomuser.me/api/portraits/med/men/46.jpg\",\"thumbnail\":\"https://randomuser.me/api/portraits/thumb/men/46.jpg\"},\"nat\":\"US\"}],\"info\":{\"seed\":\"3eba1fba59e021f2\",\"results\":10,\"page\":1,\"version\":\"1.2\"}}'"
      ]
     },
     "execution_count": 15,
     "metadata": {},
     "output_type": "execute_result"
    }
   ],
   "source": [
    "response.text"
   ]
  },
  {
   "cell_type": "markdown",
   "metadata": {},
   "source": [
    "* You can convert the data from JSON to a Python dictionary with the package JSON"
   ]
  },
  {
   "cell_type": "code",
   "execution_count": 16,
   "metadata": {},
   "outputs": [],
   "source": [
    "data = json.loads(response.text)"
   ]
  },
  {
   "cell_type": "code",
   "execution_count": 17,
   "metadata": {},
   "outputs": [],
   "source": [
    "data0=response.json()"
   ]
  },
  {
   "cell_type": "markdown",
   "metadata": {},
   "source": [
    "* Check the type of variable data"
   ]
  },
  {
   "cell_type": "code",
   "execution_count": 18,
   "metadata": {},
   "outputs": [
    {
     "data": {
      "text/plain": [
       "dict"
      ]
     },
     "execution_count": 18,
     "metadata": {},
     "output_type": "execute_result"
    }
   ],
   "source": [
    "# TODO\n",
    "type(data)"
   ]
  },
  {
   "cell_type": "code",
   "execution_count": 19,
   "metadata": {},
   "outputs": [],
   "source": [
    "#print(data)"
   ]
  },
  {
   "cell_type": "markdown",
   "metadata": {},
   "source": [
    "* *pretty-print* (pprint) prints complex data structures like dictionary prettier.  https://docs.python.org/3/library/pprint.html "
   ]
  },
  {
   "cell_type": "code",
   "execution_count": 20,
   "metadata": {},
   "outputs": [
    {
     "name": "stdout",
     "output_type": "stream",
     "text": [
      "{'info': {'page': 1,\n",
      "          'results': 10,\n",
      "          'seed': '3eba1fba59e021f2',\n",
      "          'version': '1.2'},\n",
      " 'results': [{'cell': '(880)-707-1249',\n",
      "              'dob': {'age': 63, 'date': '1955-08-12T13:09:47Z'},\n",
      "              'email': 'julian.berry@example.com',\n",
      "              'gender': 'male',\n",
      "              'id': {'name': 'SSN', 'value': '749-53-2728'},\n",
      "              'location': {'city': 'eugene',\n",
      "                           'coordinates': {'latitude': '36.3082',\n",
      "                                           'longitude': '19.5497'},\n",
      "                           'postcode': 52240,\n",
      "                           'state': 'maine',\n",
      "                           'street': '4938 hunters creek dr',\n",
      "                           'timezone': {'description': 'Kaliningrad, South '\n",
      "                                                       'Africa',\n",
      "                                        'offset': '+2:00'}},\n",
      "              'login': {'md5': '1a562101118157e0b1ace2505052b230',\n",
      "                        'password': 'boyboy',\n",
      "                        'salt': 'TPOzz0s7',\n",
      "                        'sha1': 'bd3d8b0b5204b770e77527bc5ffef2740f783711',\n",
      "                        'sha256': 'b99aa25fa0fd337a8466216c580a2390cb3ea24cbd523a7239c86ff7233547b9',\n",
      "                        'username': 'browndog505',\n",
      "                        'uuid': '1876467b-aa66-4f4f-a327-35e920d7eb16'},\n",
      "              'name': {'first': 'julian', 'last': 'berry', 'title': 'mr'},\n",
      "              'nat': 'US',\n",
      "              'phone': '(510)-849-6134',\n",
      "              'picture': {'large': 'https://randomuser.me/api/portraits/men/90.jpg',\n",
      "                          'medium': 'https://randomuser.me/api/portraits/med/men/90.jpg',\n",
      "                          'thumbnail': 'https://randomuser.me/api/portraits/thumb/men/90.jpg'},\n",
      "              'registered': {'age': 11, 'date': '2007-08-19T09:47:09Z'}},\n",
      "             {'cell': '(992)-199-6371',\n",
      "              'dob': {'age': 25, 'date': '1993-07-14T09:10:56Z'},\n",
      "              'email': 'jeremy.gardner@example.com',\n",
      "              'gender': 'male',\n",
      "              'id': {'name': 'SSN', 'value': '101-65-4276'},\n",
      "              'location': {'city': 'victorville',\n",
      "                           'coordinates': {'latitude': '-13.3927',\n",
      "                                           'longitude': '140.4352'},\n",
      "                           'postcode': 55527,\n",
      "                           'state': 'arizona',\n",
      "                           'street': '7642 locust rd',\n",
      "                           'timezone': {'description': 'Eastern Time (US & '\n",
      "                                                       'Canada), Bogota, Lima',\n",
      "                                        'offset': '-5:00'}},\n",
      "              'login': {'md5': '35930ede5b378f0872a994f71547495d',\n",
      "                        'password': 'bondage',\n",
      "                        'salt': 'lD28Sr2h',\n",
      "                        'sha1': '96ec4e03c2e20f13c5db6afae0c170dc3a31fcad',\n",
      "                        'sha256': '356ecec8eec1ecf64a801f37025d59632dd23fdfc29b9b590f1ea0fb560ea036',\n",
      "                        'username': 'silvergorilla734',\n",
      "                        'uuid': 'd0c0c346-fc6e-4943-b3ea-744c7f0837df'},\n",
      "              'name': {'first': 'jeremy', 'last': 'gardner', 'title': 'mr'},\n",
      "              'nat': 'US',\n",
      "              'phone': '(055)-355-4574',\n",
      "              'picture': {'large': 'https://randomuser.me/api/portraits/men/57.jpg',\n",
      "                          'medium': 'https://randomuser.me/api/portraits/med/men/57.jpg',\n",
      "                          'thumbnail': 'https://randomuser.me/api/portraits/thumb/men/57.jpg'},\n",
      "              'registered': {'age': 7, 'date': '2011-07-25T04:02:47Z'}},\n",
      "             {'cell': '(892)-863-2027',\n",
      "              'dob': {'age': 69, 'date': '1949-07-12T01:38:12Z'},\n",
      "              'email': 'barry.alvarez@example.com',\n",
      "              'gender': 'male',\n",
      "              'id': {'name': 'SSN', 'value': '839-80-9184'},\n",
      "              'location': {'city': 'north valley',\n",
      "                           'coordinates': {'latitude': '40.2136',\n",
      "                                           'longitude': '-76.0816'},\n",
      "                           'postcode': 48902,\n",
      "                           'state': 'new hampshire',\n",
      "                           'street': '1360 spring st',\n",
      "                           'timezone': {'description': 'Tehran',\n",
      "                                        'offset': '+3:30'}},\n",
      "              'login': {'md5': 'ced02ed9b158c0e9b41e0180f0ab9982',\n",
      "                        'password': 'wayer',\n",
      "                        'salt': '4nZ91dBW',\n",
      "                        'sha1': '1230b0cf7d9245c8cb7edd79779b575ce144f979',\n",
      "                        'sha256': 'b8463080bfb87298f32e9ffab57a1d63688e1d7d35e4f4555fd8d558d2e3b143',\n",
      "                        'username': 'purpleelephant329',\n",
      "                        'uuid': 'd12b6be9-9199-4598-b9c7-ef31ffa5b111'},\n",
      "              'name': {'first': 'barry', 'last': 'alvarez', 'title': 'mr'},\n",
      "              'nat': 'US',\n",
      "              'phone': '(885)-816-6845',\n",
      "              'picture': {'large': 'https://randomuser.me/api/portraits/men/42.jpg',\n",
      "                          'medium': 'https://randomuser.me/api/portraits/med/men/42.jpg',\n",
      "                          'thumbnail': 'https://randomuser.me/api/portraits/thumb/men/42.jpg'},\n",
      "              'registered': {'age': 13, 'date': '2005-09-25T19:26:38Z'}},\n",
      "             {'cell': '(254)-369-2157',\n",
      "              'dob': {'age': 59, 'date': '1959-06-20T17:58:08Z'},\n",
      "              'email': 'allan.graham@example.com',\n",
      "              'gender': 'male',\n",
      "              'id': {'name': 'SSN', 'value': '535-68-5279'},\n",
      "              'location': {'city': 'san jose',\n",
      "                           'coordinates': {'latitude': '-68.9652',\n",
      "                                           'longitude': '56.4998'},\n",
      "                           'postcode': 29106,\n",
      "                           'state': 'montana',\n",
      "                           'street': '8616 elgin st',\n",
      "                           'timezone': {'description': 'Eastern Time (US & '\n",
      "                                                       'Canada), Bogota, Lima',\n",
      "                                        'offset': '-5:00'}},\n",
      "              'login': {'md5': '6f615b96793341b8fef51f31facce785',\n",
      "                        'password': 'concorde',\n",
      "                        'salt': 'VesPfnwS',\n",
      "                        'sha1': '44b194a0825d34e3c1628eeaa4bea05fd9f8e317',\n",
      "                        'sha256': '243e36cc27293268952058e246bf40e8f2e8e211f0d1e13f750acc192e7572bb',\n",
      "                        'username': 'heavyladybug426',\n",
      "                        'uuid': '873ba610-92c9-496e-bdfd-17cfa34136de'},\n",
      "              'name': {'first': 'allan', 'last': 'graham', 'title': 'mr'},\n",
      "              'nat': 'US',\n",
      "              'phone': '(654)-607-2178',\n",
      "              'picture': {'large': 'https://randomuser.me/api/portraits/men/40.jpg',\n",
      "                          'medium': 'https://randomuser.me/api/portraits/med/men/40.jpg',\n",
      "                          'thumbnail': 'https://randomuser.me/api/portraits/thumb/men/40.jpg'},\n",
      "              'registered': {'age': 13, 'date': '2005-07-01T03:37:59Z'}},\n",
      "             {'cell': '(038)-615-6568',\n",
      "              'dob': {'age': 40, 'date': '1978-11-27T13:03:00Z'},\n",
      "              'email': 'todd.burns@example.com',\n",
      "              'gender': 'male',\n",
      "              'id': {'name': 'SSN', 'value': '865-72-0239'},\n",
      "              'location': {'city': 'vallejo',\n",
      "                           'coordinates': {'latitude': '3.5274',\n",
      "                                           'longitude': '132.5998'},\n",
      "                           'postcode': 44018,\n",
      "                           'state': 'utah',\n",
      "                           'street': '384 nowlin rd',\n",
      "                           'timezone': {'description': 'Ekaterinburg, '\n",
      "                                                       'Islamabad, Karachi, '\n",
      "                                                       'Tashkent',\n",
      "                                        'offset': '+5:00'}},\n",
      "              'login': {'md5': 'e23f8943f01cc20404117a22b7f78fc4',\n",
      "                        'password': 'nian',\n",
      "                        'salt': 'P6gndmZS',\n",
      "                        'sha1': 'dde350a6d6a114070a59ab6aa7d2429c33b53592',\n",
      "                        'sha256': '797a7b68523fcaecb7b1dd973b441090a4334564a5e2428ffda4cd2293d0f5b7',\n",
      "                        'username': 'goldendog901',\n",
      "                        'uuid': '1aac69df-3da5-4303-bd5e-e0f2c73053d4'},\n",
      "              'name': {'first': 'todd', 'last': 'burns', 'title': 'mr'},\n",
      "              'nat': 'US',\n",
      "              'phone': '(899)-755-0951',\n",
      "              'picture': {'large': 'https://randomuser.me/api/portraits/men/51.jpg',\n",
      "                          'medium': 'https://randomuser.me/api/portraits/med/men/51.jpg',\n",
      "                          'thumbnail': 'https://randomuser.me/api/portraits/thumb/men/51.jpg'},\n",
      "              'registered': {'age': 1, 'date': '2017-11-02T22:10:07Z'}},\n",
      "             {'cell': '(441)-019-6401',\n",
      "              'dob': {'age': 40, 'date': '1978-08-22T23:56:53Z'},\n",
      "              'email': 'tom.johnston@example.com',\n",
      "              'gender': 'male',\n",
      "              'id': {'name': 'SSN', 'value': '503-22-1264'},\n",
      "              'location': {'city': 'carlsbad',\n",
      "                           'coordinates': {'latitude': '52.7347',\n",
      "                                           'longitude': '5.4206'},\n",
      "                           'postcode': 41404,\n",
      "                           'state': 'vermont',\n",
      "                           'street': '933 mockingbird hill',\n",
      "                           'timezone': {'description': 'Azores, Cape Verde '\n",
      "                                                       'Islands',\n",
      "                                        'offset': '-1:00'}},\n",
      "              'login': {'md5': 'fdfd57fb44eae9f30d5dbf45419478c6',\n",
      "                        'password': 'hurley',\n",
      "                        'salt': '2TQ9RzAF',\n",
      "                        'sha1': '4f10c3eb91bbeb8c7129eed8994221e37dec2db1',\n",
      "                        'sha256': '824bebb53724ac1f720e68548802940149374cd9fc7666bf67e51f15ac3b9ec4',\n",
      "                        'username': 'redostrich936',\n",
      "                        'uuid': '3c14a135-b477-4543-aa87-a0c43cd4865b'},\n",
      "              'name': {'first': 'tom', 'last': 'johnston', 'title': 'mr'},\n",
      "              'nat': 'US',\n",
      "              'phone': '(341)-972-8741',\n",
      "              'picture': {'large': 'https://randomuser.me/api/portraits/men/93.jpg',\n",
      "                          'medium': 'https://randomuser.me/api/portraits/med/men/93.jpg',\n",
      "                          'thumbnail': 'https://randomuser.me/api/portraits/thumb/men/93.jpg'},\n",
      "              'registered': {'age': 4, 'date': '2014-06-01T13:28:58Z'}},\n",
      "             {'cell': '(438)-298-1477',\n",
      "              'dob': {'age': 35, 'date': '1984-03-28T06:48:05Z'},\n",
      "              'email': 'jon.alexander@example.com',\n",
      "              'gender': 'male',\n",
      "              'id': {'name': 'SSN', 'value': '194-95-7274'},\n",
      "              'location': {'city': 'thousand oaks',\n",
      "                           'coordinates': {'latitude': '74.4421',\n",
      "                                           'longitude': '-104.6492'},\n",
      "                           'postcode': 59324,\n",
      "                           'state': 'new york',\n",
      "                           'street': '8705 nowlin rd',\n",
      "                           'timezone': {'description': 'Brussels, Copenhagen, '\n",
      "                                                       'Madrid, Paris',\n",
      "                                        'offset': '+1:00'}},\n",
      "              'login': {'md5': '170e1affd4378c78e8cdf297324d2ab5',\n",
      "                        'password': 'republic',\n",
      "                        'salt': '4UY5zVK6',\n",
      "                        'sha1': 'de11d05981febac00cdae257d0c7b09e45093f6b',\n",
      "                        'sha256': '1c3a25ac972d8280148109c2ccd3cd9c695705b528c20e5bad55576454389d88',\n",
      "                        'username': 'brownpeacock950',\n",
      "                        'uuid': '38b968ad-84be-41e1-b08e-d6ae1313dba5'},\n",
      "              'name': {'first': 'jon', 'last': 'alexander', 'title': 'mr'},\n",
      "              'nat': 'US',\n",
      "              'phone': '(543)-866-0745',\n",
      "              'picture': {'large': 'https://randomuser.me/api/portraits/men/20.jpg',\n",
      "                          'medium': 'https://randomuser.me/api/portraits/med/men/20.jpg',\n",
      "                          'thumbnail': 'https://randomuser.me/api/portraits/thumb/men/20.jpg'},\n",
      "              'registered': {'age': 2, 'date': '2016-07-27T21:45:56Z'}},\n",
      "             {'cell': '(015)-184-1469',\n",
      "              'dob': {'age': 37, 'date': '1981-09-30T00:22:01Z'},\n",
      "              'email': 'derrick.campbell@example.com',\n",
      "              'gender': 'male',\n",
      "              'id': {'name': 'SSN', 'value': '702-78-4511'},\n",
      "              'location': {'city': 'concord',\n",
      "                           'coordinates': {'latitude': '-62.0533',\n",
      "                                           'longitude': '140.6933'},\n",
      "                           'postcode': 71119,\n",
      "                           'state': 'utah',\n",
      "                           'street': '6413 photinia ave',\n",
      "                           'timezone': {'description': 'Mid-Atlantic',\n",
      "                                        'offset': '-2:00'}},\n",
      "              'login': {'md5': '23af619ae063b88e749ab3049d07c2d3',\n",
      "                        'password': 'moonbeam',\n",
      "                        'salt': 'XohHqMTD',\n",
      "                        'sha1': 'be402cda11940a982a8b4f3bb68703450144d6bf',\n",
      "                        'sha256': 'a3e3b04ad50787e4d9ce52de71b2157997f75299fa9b189f42fa842c0be6989f',\n",
      "                        'username': 'orangezebra324',\n",
      "                        'uuid': 'af8effb8-80e8-4306-9a28-a8adca9c4146'},\n",
      "              'name': {'first': 'derrick', 'last': 'campbell', 'title': 'mr'},\n",
      "              'nat': 'US',\n",
      "              'phone': '(575)-788-2287',\n",
      "              'picture': {'large': 'https://randomuser.me/api/portraits/men/9.jpg',\n",
      "                          'medium': 'https://randomuser.me/api/portraits/med/men/9.jpg',\n",
      "                          'thumbnail': 'https://randomuser.me/api/portraits/thumb/men/9.jpg'},\n",
      "              'registered': {'age': 7, 'date': '2011-07-29T23:20:39Z'}},\n",
      "             {'cell': '(460)-467-3592',\n",
      "              'dob': {'age': 27, 'date': '1992-02-22T21:08:08Z'},\n",
      "              'email': 'tyrone.williams@example.com',\n",
      "              'gender': 'male',\n",
      "              'id': {'name': 'SSN', 'value': '968-14-5588'},\n",
      "              'location': {'city': 'stanley',\n",
      "                           'coordinates': {'latitude': '89.2390',\n",
      "                                           'longitude': '177.9473'},\n",
      "                           'postcode': 25977,\n",
      "                           'state': 'oklahoma',\n",
      "                           'street': '837 avondale ave',\n",
      "                           'timezone': {'description': 'Ekaterinburg, '\n",
      "                                                       'Islamabad, Karachi, '\n",
      "                                                       'Tashkent',\n",
      "                                        'offset': '+5:00'}},\n",
      "              'login': {'md5': 'b0deb3347d88e885401868c80e8bb49e',\n",
      "                        'password': 'whiteboy',\n",
      "                        'salt': 'mtZnim0P',\n",
      "                        'sha1': 'b1d86ac81a7f77fa90f2490eabdcf01e7b1c4e3f',\n",
      "                        'sha256': '7702f02f779a5865bfe7e1a9c72d1677e35adb9eb232a962ccaf01dbcc2ad301',\n",
      "                        'username': 'whitefish772',\n",
      "                        'uuid': 'e76182e5-dbaf-4b66-87aa-eace572eb3db'},\n",
      "              'name': {'first': 'tyrone', 'last': 'williams', 'title': 'mr'},\n",
      "              'nat': 'US',\n",
      "              'phone': '(990)-016-1341',\n",
      "              'picture': {'large': 'https://randomuser.me/api/portraits/men/43.jpg',\n",
      "                          'medium': 'https://randomuser.me/api/portraits/med/men/43.jpg',\n",
      "                          'thumbnail': 'https://randomuser.me/api/portraits/thumb/men/43.jpg'},\n",
      "              'registered': {'age': 7, 'date': '2011-06-15T05:10:28Z'}},\n",
      "             {'cell': '(726)-438-1146',\n",
      "              'dob': {'age': 43, 'date': '1976-04-07T08:52:52Z'},\n",
      "              'email': 'christopher.graves@example.com',\n",
      "              'gender': 'male',\n",
      "              'id': {'name': 'SSN', 'value': '162-66-3923'},\n",
      "              'location': {'city': 'arvada',\n",
      "                           'coordinates': {'latitude': '-9.9809',\n",
      "                                           'longitude': '-117.0807'},\n",
      "                           'postcode': 24375,\n",
      "                           'state': 'kansas',\n",
      "                           'street': '8982 cackson st',\n",
      "                           'timezone': {'description': 'Brussels, Copenhagen, '\n",
      "                                                       'Madrid, Paris',\n",
      "                                        'offset': '+1:00'}},\n",
      "              'login': {'md5': 'e4c3d24af9700410d48fff7c7d4a602f',\n",
      "                        'password': 'weather',\n",
      "                        'salt': 'QtieInbD',\n",
      "                        'sha1': '30374676da60836a95285a70318b4cf14c20031c',\n",
      "                        'sha256': '8f86905002effc8a9f8255a86cd190ff511b7ea2ec833d70740f0b8bbdc13b83',\n",
      "                        'username': 'organicfish733',\n",
      "                        'uuid': '66202fa7-0290-4444-9497-1807d8ea8ecc'},\n",
      "              'name': {'first': 'christopher', 'last': 'graves', 'title': 'mr'},\n",
      "              'nat': 'US',\n",
      "              'phone': '(261)-291-6375',\n",
      "              'picture': {'large': 'https://randomuser.me/api/portraits/men/46.jpg',\n",
      "                          'medium': 'https://randomuser.me/api/portraits/med/men/46.jpg',\n",
      "                          'thumbnail': 'https://randomuser.me/api/portraits/thumb/men/46.jpg'},\n",
      "              'registered': {'age': 12, 'date': '2006-12-28T11:25:53Z'}}]}\n"
     ]
    }
   ],
   "source": [
    "from pprint import pprint\n",
    "pprint(data)"
   ]
  },
  {
   "cell_type": "markdown",
   "metadata": {},
   "source": [
    "* Loop through the dictionary and print all first names"
   ]
  },
  {
   "cell_type": "code",
   "execution_count": 37,
   "metadata": {},
   "outputs": [
    {
     "name": "stdout",
     "output_type": "stream",
     "text": [
      "[{'gender': 'male', 'name': {'title': 'mr', 'first': 'nicholas', 'last': 'porter'}, 'location': {'street': '7967 cackson st', 'city': 'shreveport', 'state': 'maine', 'postcode': 79559, 'coordinates': {'latitude': '-76.1398', 'longitude': '83.1845'}, 'timezone': {'offset': '-8:00', 'description': 'Pacific Time (US & Canada)'}}, 'email': 'nicholas.porter@example.com', 'login': {'uuid': 'b2c1d6c3-43c8-46e6-923d-c51305cf5d6f', 'username': 'blackduck848', 'password': 'fatman', 'salt': 'oqlUFz6A', 'md5': 'e34ee84f61814679faeb9ba9f4b704c4', 'sha1': '734735b5601001587911f19380ed4fc6263ffb85', 'sha256': '3a4f6c9ddefbb1792a4846e6c2a9d2471a1bcb1eef0961dece2e37f7acf27195'}, 'dob': {'date': '1987-07-23T03:50:46Z', 'age': 31}, 'registered': {'date': '2007-05-28T05:14:06Z', 'age': 11}, 'phone': '(203)-793-8393', 'cell': '(325)-632-2308', 'id': {'name': 'SSN', 'value': '183-70-6786'}, 'picture': {'large': 'https://randomuser.me/api/portraits/men/9.jpg', 'medium': 'https://randomuser.me/api/portraits/med/men/9.jpg', 'thumbnail': 'https://randomuser.me/api/portraits/thumb/men/9.jpg'}, 'nat': 'US'}, {'gender': 'male', 'name': {'title': 'mr', 'first': 'albert', 'last': 'romero'}, 'location': {'street': '2805 spring hill rd', 'city': 'clearwater', 'state': 'west virginia', 'postcode': 89330, 'coordinates': {'latitude': '-25.7812', 'longitude': '-36.3047'}, 'timezone': {'offset': '-7:00', 'description': 'Mountain Time (US & Canada)'}}, 'email': 'albert.romero@example.com', 'login': {'uuid': '38b63340-d3e5-4b0a-8c95-0c24c2fe1048', 'username': 'bigpanda852', 'password': 'chef', 'salt': 'gdsFA9OA', 'md5': '5533b2e75cea13d564706908b5f2c41c', 'sha1': '30c3db50af1341d51226dac4107fe29917c49d8c', 'sha256': 'c7e2b19500256587517cb8b447bfd741e3756cf4f6f795fb7a659d6914bb29cc'}, 'dob': {'date': '1955-06-14T19:04:55Z', 'age': 63}, 'registered': {'date': '2011-01-09T18:08:32Z', 'age': 8}, 'phone': '(770)-015-7839', 'cell': '(063)-932-2198', 'id': {'name': 'SSN', 'value': '382-10-7389'}, 'picture': {'large': 'https://randomuser.me/api/portraits/men/74.jpg', 'medium': 'https://randomuser.me/api/portraits/med/men/74.jpg', 'thumbnail': 'https://randomuser.me/api/portraits/thumb/men/74.jpg'}, 'nat': 'US'}, {'gender': 'male', 'name': {'title': 'mr', 'first': 'adam', 'last': 'morris'}, 'location': {'street': '5239 w belt line rd', 'city': 'sacramento', 'state': 'indiana', 'postcode': 70630, 'coordinates': {'latitude': '-14.2026', 'longitude': '171.7404'}, 'timezone': {'offset': '+9:30', 'description': 'Adelaide, Darwin'}}, 'email': 'adam.morris@example.com', 'login': {'uuid': 'a631bd38-bbc0-4029-be5f-0a6f6331fd5d', 'username': 'greenelephant111', 'password': 'mason', 'salt': 'm8D2BKYb', 'md5': 'ebf334c76a610163f90f2df5d7a7f0f3', 'sha1': '8a6ed20fa2831d1b825065680fe55e7c677b0175', 'sha256': 'cade19e7664f74ba0ad0ea7f85d2a3d8f526d6fb31d0366bc17ac265627c653e'}, 'dob': {'date': '1949-12-25T22:04:29Z', 'age': 69}, 'registered': {'date': '2009-05-16T03:37:23Z', 'age': 9}, 'phone': '(906)-590-2224', 'cell': '(680)-192-7666', 'id': {'name': 'SSN', 'value': '961-02-7347'}, 'picture': {'large': 'https://randomuser.me/api/portraits/men/25.jpg', 'medium': 'https://randomuser.me/api/portraits/med/men/25.jpg', 'thumbnail': 'https://randomuser.me/api/portraits/thumb/men/25.jpg'}, 'nat': 'US'}, {'gender': 'male', 'name': {'title': 'mr', 'first': 'paul', 'last': 'rhodes'}, 'location': {'street': '5594 pecan acres ln', 'city': 'coral springs', 'state': 'louisiana', 'postcode': 65841, 'coordinates': {'latitude': '-36.3486', 'longitude': '-139.4154'}, 'timezone': {'offset': '-4:00', 'description': 'Atlantic Time (Canada), Caracas, La Paz'}}, 'email': 'paul.rhodes@example.com', 'login': {'uuid': '1c5df609-e8ec-44a3-b7d7-9d09540174e1', 'username': 'whitewolf398', 'password': 'derrick', 'salt': 'q2epUdSD', 'md5': '493f1e55cee95957a3239b1082a51264', 'sha1': 'd4057d3d3f032b88a23f5ed52cbd3afd1f6a723a', 'sha256': '65a7afa4503d9168c59987ecb8c2ae10dc74b278c65cf1948086e3e22a4367fd'}, 'dob': {'date': '1952-06-04T10:34:21Z', 'age': 66}, 'registered': {'date': '2002-05-13T02:34:09Z', 'age': 16}, 'phone': '(981)-598-8215', 'cell': '(154)-732-0604', 'id': {'name': 'SSN', 'value': '653-31-6369'}, 'picture': {'large': 'https://randomuser.me/api/portraits/men/51.jpg', 'medium': 'https://randomuser.me/api/portraits/med/men/51.jpg', 'thumbnail': 'https://randomuser.me/api/portraits/thumb/men/51.jpg'}, 'nat': 'US'}, {'gender': 'male', 'name': {'title': 'mr', 'first': 'shawn', 'last': 'palmer'}, 'location': {'street': '1059 preston rd', 'city': 'rancho cucamonga', 'state': 'colorado', 'postcode': 98118, 'coordinates': {'latitude': '31.3444', 'longitude': '24.9751'}, 'timezone': {'offset': '+10:00', 'description': 'Eastern Australia, Guam, Vladivostok'}}, 'email': 'shawn.palmer@example.com', 'login': {'uuid': 'f03346ad-12f3-4bab-afa1-14c66b0cc489', 'username': 'whiteleopard887', 'password': '1992', 'salt': 'LISmHdSh', 'md5': 'eedcf12f0696bb322db0efc335c77ceb', 'sha1': 'dcc0a5a3eaa2a3e860c562e3af80b7fbe351271f', 'sha256': 'c001221a3f2cfbf13deec107317bcafb8a19bccb398f018f38d086e260502dd1'}, 'dob': {'date': '1972-01-06T05:06:32Z', 'age': 47}, 'registered': {'date': '2004-10-03T19:01:39Z', 'age': 14}, 'phone': '(730)-534-6990', 'cell': '(563)-795-2918', 'id': {'name': 'SSN', 'value': '247-61-3754'}, 'picture': {'large': 'https://randomuser.me/api/portraits/men/55.jpg', 'medium': 'https://randomuser.me/api/portraits/med/men/55.jpg', 'thumbnail': 'https://randomuser.me/api/portraits/thumb/men/55.jpg'}, 'nat': 'US'}, {'gender': 'male', 'name': {'title': 'mr', 'first': 'roger', 'last': 'douglas'}, 'location': {'street': '2825 green rd', 'city': 'lubbock', 'state': 'washington', 'postcode': 93356, 'coordinates': {'latitude': '-53.0971', 'longitude': '-51.3553'}, 'timezone': {'offset': '+1:00', 'description': 'Brussels, Copenhagen, Madrid, Paris'}}, 'email': 'roger.douglas@example.com', 'login': {'uuid': '94d14c0b-74fe-4520-8fe2-9fdd338286b5', 'username': 'brownfish663', 'password': 'deerhunt', 'salt': 'RMN0j8H1', 'md5': 'ac13d450a931658817bc1583f0486ffb', 'sha1': '3906419e198612c67e848d920ac25ec97f425719', 'sha256': '34bcda74dca06fb00802a7870cc3393fb762e260f8af2b3ca2e7549887013225'}, 'dob': {'date': '1966-07-19T13:36:34Z', 'age': 52}, 'registered': {'date': '2014-07-31T04:51:50Z', 'age': 4}, 'phone': '(602)-286-2002', 'cell': '(445)-571-1956', 'id': {'name': 'SSN', 'value': '228-31-5232'}, 'picture': {'large': 'https://randomuser.me/api/portraits/men/13.jpg', 'medium': 'https://randomuser.me/api/portraits/med/men/13.jpg', 'thumbnail': 'https://randomuser.me/api/portraits/thumb/men/13.jpg'}, 'nat': 'US'}, {'gender': 'male', 'name': {'title': 'mr', 'first': 'julio', 'last': 'obrien'}, 'location': {'street': '2151 sunset st', 'city': 'san mateo', 'state': 'arkansas', 'postcode': 92397, 'coordinates': {'latitude': '-42.9449', 'longitude': '-177.2666'}, 'timezone': {'offset': '+4:00', 'description': 'Abu Dhabi, Muscat, Baku, Tbilisi'}}, 'email': 'julio.obrien@example.com', 'login': {'uuid': 'a16a8452-a6af-45ea-b1ab-1f98b380b10e', 'username': 'sadtiger923', 'password': 'kkkkk', 'salt': 'YsJuGL4a', 'md5': '1f011100961f59b3d99d5c7a249c3ffe', 'sha1': '5dfaf76d5ebbeae2d1faf10ef62ad4d6c8672fcc', 'sha256': 'f3ffe8e323e3e04838f3b66a3c01ad76f4a578a352aebfbdc531f5fad452d538'}, 'dob': {'date': '1966-03-24T11:24:37Z', 'age': 53}, 'registered': {'date': '2011-03-11T12:18:29Z', 'age': 8}, 'phone': '(820)-615-0350', 'cell': '(056)-748-0374', 'id': {'name': 'SSN', 'value': '149-63-6481'}, 'picture': {'large': 'https://randomuser.me/api/portraits/men/8.jpg', 'medium': 'https://randomuser.me/api/portraits/med/men/8.jpg', 'thumbnail': 'https://randomuser.me/api/portraits/thumb/men/8.jpg'}, 'nat': 'US'}, {'gender': 'male', 'name': {'title': 'mr', 'first': 'mathew', 'last': 'stewart'}, 'location': {'street': '3101 washington ave', 'city': 'rialto', 'state': 'montana', 'postcode': 21934, 'coordinates': {'latitude': '5.6771', 'longitude': '135.0007'}, 'timezone': {'offset': '+4:30', 'description': 'Kabul'}}, 'email': 'mathew.stewart@example.com', 'login': {'uuid': '828c6194-7afe-418a-abf9-4f2d47bb26c9', 'username': 'biggorilla270', 'password': 'rocky', 'salt': 'bdGwjZoH', 'md5': '1fa66918b252b2b53fca78d2329a2f4f', 'sha1': '9c2e634de41ec034d19d3fa828287f732f68434a', 'sha256': '39635a0962216dbd090b1ade036869505ffdd697415e0c2e8f266266455e583f'}, 'dob': {'date': '1965-10-21T19:05:54Z', 'age': 53}, 'registered': {'date': '2015-12-14T09:18:02Z', 'age': 3}, 'phone': '(972)-685-9916', 'cell': '(223)-683-1357', 'id': {'name': 'SSN', 'value': '301-65-0930'}, 'picture': {'large': 'https://randomuser.me/api/portraits/men/62.jpg', 'medium': 'https://randomuser.me/api/portraits/med/men/62.jpg', 'thumbnail': 'https://randomuser.me/api/portraits/thumb/men/62.jpg'}, 'nat': 'US'}, {'gender': 'male', 'name': {'title': 'mr', 'first': 'john', 'last': 'carpenter'}, 'location': {'street': '5808 poplar dr', 'city': 'shreveport', 'state': 'rhode island', 'postcode': 54846, 'coordinates': {'latitude': '-17.9518', 'longitude': '-134.6864'}, 'timezone': {'offset': '+3:30', 'description': 'Tehran'}}, 'email': 'john.carpenter@example.com', 'login': {'uuid': 'd37458ee-b9af-42f8-9444-a6c2a034e940', 'username': 'brownelephant579', 'password': 'danzig', 'salt': '1NsyOKq9', 'md5': '40e6ebf1ada4eb465a0cc99b80579bc1', 'sha1': '2ffa0051e1b2fe5617102dd1a9bd205831d725b2', 'sha256': 'c5308b5164546cab6349bf94b729870b6524c70c7dcc49c9dbee46e3516029f2'}, 'dob': {'date': '1972-11-05T14:48:37Z', 'age': 46}, 'registered': {'date': '2005-06-13T22:10:52Z', 'age': 13}, 'phone': '(932)-933-5789', 'cell': '(374)-017-4961', 'id': {'name': 'SSN', 'value': '240-39-7268'}, 'picture': {'large': 'https://randomuser.me/api/portraits/men/30.jpg', 'medium': 'https://randomuser.me/api/portraits/med/men/30.jpg', 'thumbnail': 'https://randomuser.me/api/portraits/thumb/men/30.jpg'}, 'nat': 'US'}, {'gender': 'male', 'name': {'title': 'mr', 'first': 'dale', 'last': 'steward'}, 'location': {'street': '4860 harrison ct', 'city': 'ironville', 'state': 'north dakota', 'postcode': 26318, 'coordinates': {'latitude': '-80.7910', 'longitude': '-107.8179'}, 'timezone': {'offset': '+5:45', 'description': 'Kathmandu'}}, 'email': 'dale.steward@example.com', 'login': {'uuid': '7698c23f-8a43-4e52-9354-28a93cc1ed49', 'username': 'greenzebra530', 'password': 'pretzel', 'salt': 'dXvDFz5C', 'md5': 'e0584789f68cd68bbd55fa9849ac1b9f', 'sha1': '3667b0221f8ffaa219b998e6cce6a12c116498dd', 'sha256': '66586cbdde8d4238388a258b636be248265c9dbf2fde4a2ccef474b6cea30fab'}, 'dob': {'date': '1981-01-14T11:13:53Z', 'age': 38}, 'registered': {'date': '2012-12-21T07:38:28Z', 'age': 6}, 'phone': '(395)-516-5421', 'cell': '(923)-179-8522', 'id': {'name': 'SSN', 'value': '984-92-9038'}, 'picture': {'large': 'https://randomuser.me/api/portraits/men/60.jpg', 'medium': 'https://randomuser.me/api/portraits/med/men/60.jpg', 'thumbnail': 'https://randomuser.me/api/portraits/thumb/men/60.jpg'}, 'nat': 'US'}]\n",
      "[{'gender': 'male', 'name': {'title': 'mr', 'first': 'reginald', 'last': 'patterson'}, 'location': {'street': '2168 bruce st', 'city': 'south bend', 'state': 'arkansas', 'postcode': 65873, 'coordinates': {'latitude': '54.9531', 'longitude': '105.9482'}, 'timezone': {'offset': '-2:00', 'description': 'Mid-Atlantic'}}, 'email': 'reginald.patterson@example.com', 'login': {'uuid': 'a630d19e-c9fd-4800-908c-5b3e68867978', 'username': 'angrylion813', 'password': 'andromed', 'salt': '6XK7ZIbd', 'md5': '5f6f9a66e29f00738c4d0b8f77aa08ba', 'sha1': 'ac93bd51d25772af427378519f1c099905c57a1e', 'sha256': 'aaf6072d39d9ccc4dfe5d27e1b6235d6bcb8bd48f7ef7e79642b3dac66697776'}, 'dob': {'date': '1961-03-04T15:51:17Z', 'age': 58}, 'registered': {'date': '2014-02-02T22:06:08Z', 'age': 5}, 'phone': '(935)-544-5459', 'cell': '(524)-397-6023', 'id': {'name': 'SSN', 'value': '205-59-3109'}, 'picture': {'large': 'https://randomuser.me/api/portraits/men/20.jpg', 'medium': 'https://randomuser.me/api/portraits/med/men/20.jpg', 'thumbnail': 'https://randomuser.me/api/portraits/thumb/men/20.jpg'}, 'nat': 'US'}, {'gender': 'male', 'name': {'title': 'mr', 'first': 'george', 'last': 'kim'}, 'location': {'street': '4555 hamilton ave', 'city': 'frederick', 'state': 'ohio', 'postcode': 72112, 'coordinates': {'latitude': '78.5916', 'longitude': '9.0286'}, 'timezone': {'offset': '-9:00', 'description': 'Alaska'}}, 'email': 'george.kim@example.com', 'login': {'uuid': '474fca14-5319-48e6-90f2-672755abc413', 'username': 'brownkoala193', 'password': 'fergus', 'salt': 'Xqfm5SWR', 'md5': 'a4acd5ceb00fef45f8b2fa7debc02796', 'sha1': 'a0e2e9a2a43d922a5fa18913843a3fc0439bd493', 'sha256': 'd0e8a5154b2055872b4d48b96ee43641fc9da706b8edb0a6355f904b5c1f1d9a'}, 'dob': {'date': '1952-11-29T08:39:38Z', 'age': 66}, 'registered': {'date': '2013-02-28T19:40:05Z', 'age': 6}, 'phone': '(598)-050-1494', 'cell': '(888)-339-8834', 'id': {'name': 'SSN', 'value': '307-35-2463'}, 'picture': {'large': 'https://randomuser.me/api/portraits/men/56.jpg', 'medium': 'https://randomuser.me/api/portraits/med/men/56.jpg', 'thumbnail': 'https://randomuser.me/api/portraits/thumb/men/56.jpg'}, 'nat': 'US'}, {'gender': 'male', 'name': {'title': 'mr', 'first': 'maurice', 'last': 'butler'}, 'location': {'street': '7250 e center st', 'city': 'allen', 'state': 'georgia', 'postcode': 50972, 'coordinates': {'latitude': '75.0068', 'longitude': '77.9627'}, 'timezone': {'offset': '+9:30', 'description': 'Adelaide, Darwin'}}, 'email': 'maurice.butler@example.com', 'login': {'uuid': 'cb53612a-89ed-4180-96e6-dcd55fdd6750', 'username': 'tinykoala760', 'password': 'christina', 'salt': 'LOOINSSV', 'md5': 'ee910d8a59059e5b2571d0912ca44804', 'sha1': 'cbe0c266b839fb39055b34f999fcd006f8f5b6dc', 'sha256': 'd3cc4f2a1fc1737a147e66f84789011a8775295e279e35938484f5d084ffe467'}, 'dob': {'date': '1995-08-16T11:41:34Z', 'age': 23}, 'registered': {'date': '2015-09-14T22:24:14Z', 'age': 3}, 'phone': '(768)-961-0424', 'cell': '(189)-279-2991', 'id': {'name': 'SSN', 'value': '539-94-5500'}, 'picture': {'large': 'https://randomuser.me/api/portraits/men/8.jpg', 'medium': 'https://randomuser.me/api/portraits/med/men/8.jpg', 'thumbnail': 'https://randomuser.me/api/portraits/thumb/men/8.jpg'}, 'nat': 'US'}, {'gender': 'male', 'name': {'title': 'mr', 'first': 'jessie', 'last': 'lowe'}, 'location': {'street': '4630 hunters creek dr', 'city': 'duncanville', 'state': 'idaho', 'postcode': 55614, 'coordinates': {'latitude': '48.7191', 'longitude': '-64.0500'}, 'timezone': {'offset': '+8:00', 'description': 'Beijing, Perth, Singapore, Hong Kong'}}, 'email': 'jessie.lowe@example.com', 'login': {'uuid': '847b57b1-eb20-4279-aa8a-bbc3e7bfd1ca', 'username': 'organicrabbit265', 'password': '111222', 'salt': 'Zeot2yif', 'md5': '9d8ae2c0b1efd86de86e5a7ae8778b55', 'sha1': 'e6d3d214948b7c1700210bf100239a7def5bc48d', 'sha256': '970d86feb3dca82162fcec43f709c1267efca77e2a52955376d181e15f62f781'}, 'dob': {'date': '1970-01-23T22:46:24Z', 'age': 49}, 'registered': {'date': '2004-09-15T19:14:07Z', 'age': 14}, 'phone': '(930)-749-2326', 'cell': '(994)-843-7763', 'id': {'name': 'SSN', 'value': '832-88-9735'}, 'picture': {'large': 'https://randomuser.me/api/portraits/men/65.jpg', 'medium': 'https://randomuser.me/api/portraits/med/men/65.jpg', 'thumbnail': 'https://randomuser.me/api/portraits/thumb/men/65.jpg'}, 'nat': 'US'}, {'gender': 'male', 'name': {'title': 'mr', 'first': 'lonnie', 'last': 'williams'}, 'location': {'street': '4056 lovers ln', 'city': 'thornton', 'state': 'south carolina', 'postcode': 98180, 'coordinates': {'latitude': '60.0992', 'longitude': '160.5531'}, 'timezone': {'offset': '+4:30', 'description': 'Kabul'}}, 'email': 'lonnie.williams@example.com', 'login': {'uuid': 'a207372d-f3cf-44fe-a86e-f79911e78d76', 'username': 'sadwolf477', 'password': 'emmitt', 'salt': 'mgOEI7jC', 'md5': 'fccaae9ef65e78f06deac71659c6a44f', 'sha1': '54d25d6ff8a431b8908efb3500ae0f2d09edb8aa', 'sha256': '8e9d1894541fcbb132659928998119bb89199ae70e5fbfa2e4d595349eb16f7f'}, 'dob': {'date': '1955-12-01T04:01:03Z', 'age': 63}, 'registered': {'date': '2015-03-02T23:46:52Z', 'age': 4}, 'phone': '(510)-432-8362', 'cell': '(455)-815-9237', 'id': {'name': 'SSN', 'value': '348-63-5880'}, 'picture': {'large': 'https://randomuser.me/api/portraits/men/77.jpg', 'medium': 'https://randomuser.me/api/portraits/med/men/77.jpg', 'thumbnail': 'https://randomuser.me/api/portraits/thumb/men/77.jpg'}, 'nat': 'US'}, {'gender': 'male', 'name': {'title': 'mr', 'first': 'george', 'last': 'watkins'}, 'location': {'street': '8228 e center st', 'city': 'grand prairie', 'state': 'mississippi', 'postcode': 90329, 'coordinates': {'latitude': '-45.0803', 'longitude': '-98.0216'}, 'timezone': {'offset': '+8:00', 'description': 'Beijing, Perth, Singapore, Hong Kong'}}, 'email': 'george.watkins@example.com', 'login': {'uuid': '8d135d62-109c-4272-ae51-b7f454aef7e7', 'username': 'beautifulrabbit702', 'password': 'mohamed', 'salt': 'gdcZSifh', 'md5': '9dfbb12912f3b66d885ce373bd85e9e6', 'sha1': 'bc99cb4588a6c486f7ada90afcd02d115c1f50f4', 'sha256': '192c94486232b37d1fd036ffc7446d96ed9a703e8a17d975b65fa65a112f9513'}, 'dob': {'date': '1976-10-02T15:45:28Z', 'age': 42}, 'registered': {'date': '2003-01-20T08:28:36Z', 'age': 16}, 'phone': '(459)-965-9026', 'cell': '(275)-689-7902', 'id': {'name': 'SSN', 'value': '044-52-6746'}, 'picture': {'large': 'https://randomuser.me/api/portraits/men/26.jpg', 'medium': 'https://randomuser.me/api/portraits/med/men/26.jpg', 'thumbnail': 'https://randomuser.me/api/portraits/thumb/men/26.jpg'}, 'nat': 'US'}, {'gender': 'male', 'name': {'title': 'mr', 'first': 'erik', 'last': 'douglas'}, 'location': {'street': '9908 avondale ave', 'city': 'woodbridge', 'state': 'arkansas', 'postcode': 74540, 'coordinates': {'latitude': '-24.6655', 'longitude': '75.2636'}, 'timezone': {'offset': '+5:45', 'description': 'Kathmandu'}}, 'email': 'erik.douglas@example.com', 'login': {'uuid': 'ca5d54dd-fc58-46af-a67e-cf31a78f275b', 'username': 'smallpanda341', 'password': 'asdfjkl', 'salt': 'MVJvpHaO', 'md5': 'cbc867ccee4b9e3b8c667e2812122133', 'sha1': '725577a5aff3b14e4f80d3aa82a9a0df4fdd299a', 'sha256': '355dd5a3d8e5a13af87656c6848f5e01d10f2021365a172861a9968cfe3e5305'}, 'dob': {'date': '1981-10-11T07:11:03Z', 'age': 37}, 'registered': {'date': '2010-06-25T11:26:29Z', 'age': 8}, 'phone': '(094)-696-1273', 'cell': '(097)-032-3740', 'id': {'name': 'SSN', 'value': '812-73-2397'}, 'picture': {'large': 'https://randomuser.me/api/portraits/men/66.jpg', 'medium': 'https://randomuser.me/api/portraits/med/men/66.jpg', 'thumbnail': 'https://randomuser.me/api/portraits/thumb/men/66.jpg'}, 'nat': 'US'}, {'gender': 'male', 'name': {'title': 'mr', 'first': 'alan', 'last': 'watkins'}, 'location': {'street': '251 timber wolf trail', 'city': 'joliet', 'state': 'oklahoma', 'postcode': 67985, 'coordinates': {'latitude': '80.3919', 'longitude': '-28.8296'}, 'timezone': {'offset': '-8:00', 'description': 'Pacific Time (US & Canada)'}}, 'email': 'alan.watkins@example.com', 'login': {'uuid': '3cc82065-3d5a-4478-8d19-e35b57d948de', 'username': 'bluefrog279', 'password': 'beretta', 'salt': 'a2gAOI4U', 'md5': 'b58eaadadef12926a0f669d9e4051cbd', 'sha1': 'e7ed81c989be61c571e2f42d360631a3353b3a44', 'sha256': '721903dd6f5e1b067532d5276cc46ecb164de12acaafc91b8fc6070aa7b6ef53'}, 'dob': {'date': '1949-09-16T04:27:27Z', 'age': 69}, 'registered': {'date': '2016-12-05T17:27:27Z', 'age': 2}, 'phone': '(097)-769-1418', 'cell': '(407)-769-2146', 'id': {'name': 'SSN', 'value': '368-22-8636'}, 'picture': {'large': 'https://randomuser.me/api/portraits/men/13.jpg', 'medium': 'https://randomuser.me/api/portraits/med/men/13.jpg', 'thumbnail': 'https://randomuser.me/api/portraits/thumb/men/13.jpg'}, 'nat': 'US'}, {'gender': 'male', 'name': {'title': 'mr', 'first': 'william', 'last': 'chavez'}, 'location': {'street': '7055 smokey ln', 'city': 'jackson', 'state': 'illinois', 'postcode': 13783, 'coordinates': {'latitude': '-82.4496', 'longitude': '124.0121'}, 'timezone': {'offset': '0:00', 'description': 'Western Europe Time, London, Lisbon, Casablanca'}}, 'email': 'william.chavez@example.com', 'login': {'uuid': '6fdd257e-100d-4b21-991c-a90479fea9e1', 'username': 'angrysnake779', 'password': 'winners', 'salt': 'G0rt7mVk', 'md5': '008e95f1d41bd7b0cd9f8f21d9037e29', 'sha1': 'bff2a643e417b51b1df47ceed6f8c058d638d58a', 'sha256': '7d66de195cde952239c9ae07c61a4b21db697e1a17986ccfade2cd78777f56d2'}, 'dob': {'date': '1948-07-03T00:04:44Z', 'age': 70}, 'registered': {'date': '2006-09-05T04:42:22Z', 'age': 12}, 'phone': '(999)-846-5369', 'cell': '(885)-901-5883', 'id': {'name': 'SSN', 'value': '368-65-9372'}, 'picture': {'large': 'https://randomuser.me/api/portraits/men/86.jpg', 'medium': 'https://randomuser.me/api/portraits/med/men/86.jpg', 'thumbnail': 'https://randomuser.me/api/portraits/thumb/men/86.jpg'}, 'nat': 'US'}, {'gender': 'male', 'name': {'title': 'mr', 'first': 'greg', 'last': 'jones'}, 'location': {'street': '8951 avondale ave', 'city': 'buffalo', 'state': 'illinois', 'postcode': 68800, 'coordinates': {'latitude': '-47.8259', 'longitude': '42.5130'}, 'timezone': {'offset': '-10:00', 'description': 'Hawaii'}}, 'email': 'greg.jones@example.com', 'login': {'uuid': '4b89dfbf-0407-4783-ab7b-653cf0f1b9c9', 'username': 'biggoose316', 'password': 'banger', 'salt': 'dEYguJp8', 'md5': 'd448cf6d48f918d9795363bd7f09ce90', 'sha1': 'ec5c5fd58c97ae59eb218f3c60a0ddbd6eba5e1e', 'sha256': '6892d82d674e3602ce03dff77d1fc4f5fc5a834457a0b5ef85e2f7c17d68bef9'}, 'dob': {'date': '1993-10-08T06:49:25Z', 'age': 25}, 'registered': {'date': '2012-06-19T12:06:54Z', 'age': 6}, 'phone': '(867)-274-4533', 'cell': '(779)-029-0423', 'id': {'name': 'SSN', 'value': '641-01-2236'}, 'picture': {'large': 'https://randomuser.me/api/portraits/men/62.jpg', 'medium': 'https://randomuser.me/api/portraits/med/men/62.jpg', 'thumbnail': 'https://randomuser.me/api/portraits/thumb/men/62.jpg'}, 'nat': 'US'}]\n",
      "[{'gender': 'male', 'name': {'title': 'mr', 'first': 'wayne', 'last': 'howard'}, 'location': {'street': '9892 oak ridge ln', 'city': 'iowa park', 'state': 'ohio', 'postcode': 37688, 'coordinates': {'latitude': '80.9240', 'longitude': '172.2427'}, 'timezone': {'offset': '+10:00', 'description': 'Eastern Australia, Guam, Vladivostok'}}, 'email': 'wayne.howard@example.com', 'login': {'uuid': '6ff97b45-3ba9-4671-b98b-5617e934eefd', 'username': 'organiclion748', 'password': 'video1', 'salt': 'voUQMzBh', 'md5': 'c698cc72dc7446ab4729e5c362295ceb', 'sha1': '42987bce32d2548b67f76a99ea3146a65ff3c351', 'sha256': 'e1e0324e9f3342e190b5f66b34e524ada0f260a44f71daf7f893edabb881d68b'}, 'dob': {'date': '1963-04-08T19:02:07Z', 'age': 56}, 'registered': {'date': '2009-03-16T05:32:20Z', 'age': 10}, 'phone': '(485)-229-9981', 'cell': '(456)-106-4796', 'id': {'name': 'SSN', 'value': '861-58-5705'}, 'picture': {'large': 'https://randomuser.me/api/portraits/men/9.jpg', 'medium': 'https://randomuser.me/api/portraits/med/men/9.jpg', 'thumbnail': 'https://randomuser.me/api/portraits/thumb/men/9.jpg'}, 'nat': 'US'}, {'gender': 'male', 'name': {'title': 'mr', 'first': 'hector', 'last': 'fisher'}, 'location': {'street': '3438 saddle dr', 'city': 'mobile', 'state': 'missouri', 'postcode': 68363, 'coordinates': {'latitude': '-61.7294', 'longitude': '-23.8134'}, 'timezone': {'offset': '-9:00', 'description': 'Alaska'}}, 'email': 'hector.fisher@example.com', 'login': {'uuid': '8920a6bf-ae91-49d9-8083-6315b97a96e4', 'username': 'bluemeercat179', 'password': 'pete', 'salt': 'Lz3rgZAL', 'md5': '46501def6a90a9b610cb91c0af9b3f88', 'sha1': '0f8938b7282d11bd59a3c99ca11e5c7209363223', 'sha256': '130d2987eb4755a2f78b6482946e24055be850c02875eea93b6d81184775b6c7'}, 'dob': {'date': '1991-09-28T09:01:29Z', 'age': 27}, 'registered': {'date': '2018-02-28T08:12:50Z', 'age': 1}, 'phone': '(084)-948-0887', 'cell': '(362)-773-2138', 'id': {'name': 'SSN', 'value': '590-54-6105'}, 'picture': {'large': 'https://randomuser.me/api/portraits/men/87.jpg', 'medium': 'https://randomuser.me/api/portraits/med/men/87.jpg', 'thumbnail': 'https://randomuser.me/api/portraits/thumb/men/87.jpg'}, 'nat': 'US'}, {'gender': 'male', 'name': {'title': 'mr', 'first': 'andre', 'last': 'lawrence'}, 'location': {'street': '968 hogan st', 'city': 'las cruces', 'state': 'connecticut', 'postcode': 18197, 'coordinates': {'latitude': '-71.6189', 'longitude': '117.2850'}, 'timezone': {'offset': '+2:00', 'description': 'Kaliningrad, South Africa'}}, 'email': 'andre.lawrence@example.com', 'login': {'uuid': '69a391ef-e0d7-4f6d-9ddc-5a3bb5415d8e', 'username': 'purplemouse415', 'password': 'store', 'salt': 'RMUjDzha', 'md5': '9502a785a13a2d87bc5170c478620f77', 'sha1': '9b28f2ec063c448473295abb438d4807d1b010da', 'sha256': '84d480fc27a0f98fa58900cfddb971c5fa567cb2dafd776573dddd439ba5ffb7'}, 'dob': {'date': '1967-07-25T08:10:36Z', 'age': 51}, 'registered': {'date': '2015-08-30T07:28:37Z', 'age': 3}, 'phone': '(425)-368-6993', 'cell': '(383)-261-8828', 'id': {'name': 'SSN', 'value': '402-56-6479'}, 'picture': {'large': 'https://randomuser.me/api/portraits/men/17.jpg', 'medium': 'https://randomuser.me/api/portraits/med/men/17.jpg', 'thumbnail': 'https://randomuser.me/api/portraits/thumb/men/17.jpg'}, 'nat': 'US'}, {'gender': 'male', 'name': {'title': 'mr', 'first': 'lawrence', 'last': 'mccoy'}, 'location': {'street': '3248 samaritan dr', 'city': 'santa ana', 'state': 'maine', 'postcode': 45289, 'coordinates': {'latitude': '-79.2516', 'longitude': '2.0333'}, 'timezone': {'offset': '+10:00', 'description': 'Eastern Australia, Guam, Vladivostok'}}, 'email': 'lawrence.mccoy@example.com', 'login': {'uuid': '6a108a08-8167-421b-9b27-610daa56d264', 'username': 'crazybird585', 'password': 'megapass', 'salt': 'gPTHajHw', 'md5': '62d0a13c01a09c2ad5cb43f6df9d5c7e', 'sha1': 'a964157841a2a881a42de93987e50d1c27cf1d73', 'sha256': 'e9c32bad695957bec68c06f585197bebe8ca09c321ead57573f0deeafaa5b660'}, 'dob': {'date': '1993-06-15T11:39:31Z', 'age': 25}, 'registered': {'date': '2017-09-16T04:56:46Z', 'age': 1}, 'phone': '(684)-449-2291', 'cell': '(105)-969-4151', 'id': {'name': 'SSN', 'value': '715-51-8620'}, 'picture': {'large': 'https://randomuser.me/api/portraits/men/87.jpg', 'medium': 'https://randomuser.me/api/portraits/med/men/87.jpg', 'thumbnail': 'https://randomuser.me/api/portraits/thumb/men/87.jpg'}, 'nat': 'US'}, {'gender': 'male', 'name': {'title': 'mr', 'first': 'judd', 'last': 'graves'}, 'location': {'street': '824 lone wolf trail', 'city': 'farmers branch', 'state': 'mississippi', 'postcode': 76330, 'coordinates': {'latitude': '8.4596', 'longitude': '-71.8922'}, 'timezone': {'offset': '+5:45', 'description': 'Kathmandu'}}, 'email': 'judd.graves@example.com', 'login': {'uuid': 'ad9ef55d-54b3-4dd4-9603-89a6bf299e5b', 'username': 'whitegoose753', 'password': 'kingpin', 'salt': 'n3nwU8iI', 'md5': '48ca729021b0e4856e72b65d5b910c2c', 'sha1': '11ad002a1208d0747e94e5392a2092ab650dac3f', 'sha256': '34aab7a40c18599cef71f654111fe48b2c655f1892b2b8b25d3bd43b266cb44d'}, 'dob': {'date': '1965-08-01T03:20:24Z', 'age': 53}, 'registered': {'date': '2011-04-30T21:36:37Z', 'age': 7}, 'phone': '(793)-691-6041', 'cell': '(890)-387-2219', 'id': {'name': 'SSN', 'value': '283-36-0242'}, 'picture': {'large': 'https://randomuser.me/api/portraits/men/98.jpg', 'medium': 'https://randomuser.me/api/portraits/med/men/98.jpg', 'thumbnail': 'https://randomuser.me/api/portraits/thumb/men/98.jpg'}, 'nat': 'US'}, {'gender': 'male', 'name': {'title': 'mr', 'first': 'marshall', 'last': 'bradley'}, 'location': {'street': '7397 robinson rd', 'city': 'tampa', 'state': 'wisconsin', 'postcode': 29890, 'coordinates': {'latitude': '53.7886', 'longitude': '-47.7693'}, 'timezone': {'offset': '-5:00', 'description': 'Eastern Time (US & Canada), Bogota, Lima'}}, 'email': 'marshall.bradley@example.com', 'login': {'uuid': '61ab8028-5940-48ef-a9d7-77f44e3309ea', 'username': 'tinygoose260', 'password': 'blossom', 'salt': 'yDoMm0Cb', 'md5': '6b9cbfe33b59b9ac486a2d3f4b588afb', 'sha1': 'd182412e9bd0a15c3dbb9039cf2537c5c8037ba5', 'sha256': '8b9fb48606d92995412d26f03b7a00711ad9c14c612ee85f22cd7a6b5d51981a'}, 'dob': {'date': '1969-02-07T20:21:58Z', 'age': 50}, 'registered': {'date': '2007-10-14T11:45:10Z', 'age': 11}, 'phone': '(534)-428-6407', 'cell': '(295)-518-9882', 'id': {'name': 'SSN', 'value': '906-17-8166'}, 'picture': {'large': 'https://randomuser.me/api/portraits/men/42.jpg', 'medium': 'https://randomuser.me/api/portraits/med/men/42.jpg', 'thumbnail': 'https://randomuser.me/api/portraits/thumb/men/42.jpg'}, 'nat': 'US'}, {'gender': 'male', 'name': {'title': 'mr', 'first': 'sergio', 'last': 'nichols'}, 'location': {'street': '5229 central st', 'city': 'salinas', 'state': 'missouri', 'postcode': 54971, 'coordinates': {'latitude': '83.4209', 'longitude': '-28.7441'}, 'timezone': {'offset': '-9:00', 'description': 'Alaska'}}, 'email': 'sergio.nichols@example.com', 'login': {'uuid': '182b1983-d940-4585-b174-7b3e35cf288f', 'username': 'bigkoala566', 'password': 'yaya', 'salt': 'rppdSily', 'md5': 'b96921dd9d02a0ed036479c464c6387d', 'sha1': '82807a2b8bcc2708658f52bdeabe3af4595eda27', 'sha256': '9f78db23adbc3b89d273d5b5dfdbb09384fa8a31718a8cdf0bc91d82cf73d74b'}, 'dob': {'date': '1977-11-04T21:01:52Z', 'age': 41}, 'registered': {'date': '2017-09-09T15:15:41Z', 'age': 1}, 'phone': '(239)-793-3415', 'cell': '(908)-117-1342', 'id': {'name': 'SSN', 'value': '021-43-8350'}, 'picture': {'large': 'https://randomuser.me/api/portraits/men/74.jpg', 'medium': 'https://randomuser.me/api/portraits/med/men/74.jpg', 'thumbnail': 'https://randomuser.me/api/portraits/thumb/men/74.jpg'}, 'nat': 'US'}, {'gender': 'male', 'name': {'title': 'mr', 'first': 'lloyd', 'last': 'mckinney'}, 'location': {'street': '7950 n stelling rd', 'city': 'newark', 'state': 'nebraska', 'postcode': 37654, 'coordinates': {'latitude': '-21.1048', 'longitude': '81.4168'}, 'timezone': {'offset': '+4:00', 'description': 'Abu Dhabi, Muscat, Baku, Tbilisi'}}, 'email': 'lloyd.mckinney@example.com', 'login': {'uuid': '68fcf6be-2a06-43de-85dc-333f3e65a037', 'username': 'happybird928', 'password': 'paintbal', 'salt': 'UDELRl3P', 'md5': '5483806c30c0f5f34c9a932bc415eb0d', 'sha1': '9ff5693e58b11e65345d6d157f377064b4c32e63', 'sha256': '497d79440298c309878f6e0ed36b6d1f12d816a4ff3333cbbde68f2698ced2f8'}, 'dob': {'date': '1945-11-06T21:29:10Z', 'age': 73}, 'registered': {'date': '2005-09-18T14:06:53Z', 'age': 13}, 'phone': '(766)-844-3346', 'cell': '(277)-221-9703', 'id': {'name': 'SSN', 'value': '463-94-0521'}, 'picture': {'large': 'https://randomuser.me/api/portraits/men/18.jpg', 'medium': 'https://randomuser.me/api/portraits/med/men/18.jpg', 'thumbnail': 'https://randomuser.me/api/portraits/thumb/men/18.jpg'}, 'nat': 'US'}, {'gender': 'male', 'name': {'title': 'mr', 'first': 'lewis', 'last': 'pierce'}, 'location': {'street': '452 stevens creek blvd', 'city': 'salinas', 'state': 'minnesota', 'postcode': 33798, 'coordinates': {'latitude': '-40.7656', 'longitude': '164.2071'}, 'timezone': {'offset': '+2:00', 'description': 'Kaliningrad, South Africa'}}, 'email': 'lewis.pierce@example.com', 'login': {'uuid': 'a14bbef3-6739-43f7-82e5-275695674da7', 'username': 'angryrabbit109', 'password': 'space', 'salt': 'SRDYTqYL', 'md5': '442ac8b18f9d46a5ee6f49aa1d2386ec', 'sha1': 'fc6c095557888718c0be4aa88a66a3c01dff6b98', 'sha256': '09683fa135f8d6083cf23f626a9fc1b953ff723c07803c5771429a734ac35c25'}, 'dob': {'date': '1986-05-23T02:09:16Z', 'age': 32}, 'registered': {'date': '2014-06-14T21:38:26Z', 'age': 4}, 'phone': '(680)-975-8246', 'cell': '(396)-323-9286', 'id': {'name': 'SSN', 'value': '150-49-4671'}, 'picture': {'large': 'https://randomuser.me/api/portraits/men/70.jpg', 'medium': 'https://randomuser.me/api/portraits/med/men/70.jpg', 'thumbnail': 'https://randomuser.me/api/portraits/thumb/men/70.jpg'}, 'nat': 'US'}, {'gender': 'male', 'name': {'title': 'mr', 'first': 'clyde', 'last': 'ryan'}, 'location': {'street': '3784 e pecan st', 'city': 'red bluff', 'state': 'pennsylvania', 'postcode': 35761, 'coordinates': {'latitude': '-88.0240', 'longitude': '77.3174'}, 'timezone': {'offset': '-11:00', 'description': 'Midway Island, Samoa'}}, 'email': 'clyde.ryan@example.com', 'login': {'uuid': '3f992eee-d4f0-4a2b-92aa-3da181c77444', 'username': 'brownwolf428', 'password': 'greg', 'salt': '3kZNY9jw', 'md5': 'fc44d3db3eb384b4f6d3b1cb6fd70d5c', 'sha1': '063b2106e5ce9b22b50e30a9f2f029f4d2e62bed', 'sha256': '238b0b3e185fd257f6dbf0f9c5f195712d0b40034f278d937692bd87fd2caee8'}, 'dob': {'date': '1984-11-16T01:00:26Z', 'age': 34}, 'registered': {'date': '2006-09-17T20:32:56Z', 'age': 12}, 'phone': '(334)-116-5310', 'cell': '(616)-948-2021', 'id': {'name': 'SSN', 'value': '803-52-7434'}, 'picture': {'large': 'https://randomuser.me/api/portraits/men/43.jpg', 'medium': 'https://randomuser.me/api/portraits/med/men/43.jpg', 'thumbnail': 'https://randomuser.me/api/portraits/thumb/men/43.jpg'}, 'nat': 'US'}]\n",
      "[{'gender': 'male', 'name': {'title': 'mr', 'first': 'anthony', 'last': 'mitchell'}, 'location': {'street': '2019 hogan st', 'city': 'woodbridge', 'state': 'georgia', 'postcode': 65317, 'coordinates': {'latitude': '-6.0541', 'longitude': '-159.9463'}, 'timezone': {'offset': '0:00', 'description': 'Western Europe Time, London, Lisbon, Casablanca'}}, 'email': 'anthony.mitchell@example.com', 'login': {'uuid': '9736f398-d259-4bb8-b980-bab767a53d11', 'username': 'organicleopard117', 'password': 'hoffman', 'salt': 'FZltJTSG', 'md5': '55cc416d3a17e99f15ba14b3148136e9', 'sha1': '9459dfa76e559a722119276f4f296dd3be9f0198', 'sha256': 'e4c7ad59b60196e02648226692011ba4abcbf2615c7f53ec575a21550864c429'}, 'dob': {'date': '1981-07-12T17:40:13Z', 'age': 37}, 'registered': {'date': '2012-06-01T19:27:41Z', 'age': 6}, 'phone': '(444)-632-8012', 'cell': '(902)-388-2838', 'id': {'name': 'SSN', 'value': '457-30-6066'}, 'picture': {'large': 'https://randomuser.me/api/portraits/men/70.jpg', 'medium': 'https://randomuser.me/api/portraits/med/men/70.jpg', 'thumbnail': 'https://randomuser.me/api/portraits/thumb/men/70.jpg'}, 'nat': 'US'}, {'gender': 'male', 'name': {'title': 'mr', 'first': 'roberto', 'last': 'edwards'}, 'location': {'street': '4370 cackson st', 'city': 'ennis', 'state': 'south carolina', 'postcode': 48470, 'coordinates': {'latitude': '-37.7493', 'longitude': '174.5837'}, 'timezone': {'offset': '-8:00', 'description': 'Pacific Time (US & Canada)'}}, 'email': 'roberto.edwards@example.com', 'login': {'uuid': '145de4d5-d78c-450a-89ae-d32614c679a5', 'username': 'tinykoala977', 'password': 'spartans', 'salt': 'BJPtZYC1', 'md5': 'f9aa3bf8f43bb9dc4e4fa3d8466bd672', 'sha1': '817121e0d203ab095684c7d10ac04fb86002ad46', 'sha256': '642b6b5ece358593efac6965e86b66e39cebfdb2e5274cd8ebaeb59d6d5c3442'}, 'dob': {'date': '1965-05-16T22:52:32Z', 'age': 53}, 'registered': {'date': '2013-02-27T18:48:21Z', 'age': 6}, 'phone': '(931)-810-5476', 'cell': '(746)-466-2408', 'id': {'name': 'SSN', 'value': '537-36-9149'}, 'picture': {'large': 'https://randomuser.me/api/portraits/men/98.jpg', 'medium': 'https://randomuser.me/api/portraits/med/men/98.jpg', 'thumbnail': 'https://randomuser.me/api/portraits/thumb/men/98.jpg'}, 'nat': 'US'}, {'gender': 'male', 'name': {'title': 'mr', 'first': 'aiden', 'last': 'garcia'}, 'location': {'street': '968 n stelling rd', 'city': 'baltimore', 'state': 'texas', 'postcode': 41465, 'coordinates': {'latitude': '60.8158', 'longitude': '114.3257'}, 'timezone': {'offset': '+2:00', 'description': 'Kaliningrad, South Africa'}}, 'email': 'aiden.garcia@example.com', 'login': {'uuid': '7dde6f6a-fe52-4e20-87ba-c6a6aa461c85', 'username': 'sadostrich330', 'password': 'nostromo', 'salt': 'q5zWCkbY', 'md5': '585551b9aaf68b2b7b8c79f394210e57', 'sha1': '008814d770d1f159cdb76a86b0518ccee7b9c7b8', 'sha256': '961ce582aa3b89dc1e66b261ffad8f4253cdc2777f257925e25af3f76c7283cc'}, 'dob': {'date': '1991-11-22T18:01:00Z', 'age': 27}, 'registered': {'date': '2005-09-21T13:25:19Z', 'age': 13}, 'phone': '(730)-193-6800', 'cell': '(124)-629-5269', 'id': {'name': 'SSN', 'value': '256-63-7507'}, 'picture': {'large': 'https://randomuser.me/api/portraits/men/5.jpg', 'medium': 'https://randomuser.me/api/portraits/med/men/5.jpg', 'thumbnail': 'https://randomuser.me/api/portraits/thumb/men/5.jpg'}, 'nat': 'US'}, {'gender': 'male', 'name': {'title': 'mr', 'first': 'alan', 'last': 'sims'}, 'location': {'street': '5747 elgin st', 'city': 'roanoke', 'state': 'utah', 'postcode': 70095, 'coordinates': {'latitude': '42.8686', 'longitude': '-45.8237'}, 'timezone': {'offset': '+9:30', 'description': 'Adelaide, Darwin'}}, 'email': 'alan.sims@example.com', 'login': {'uuid': 'bf17ed04-8181-4d54-a6c7-20daba4e30c4', 'username': 'angryfrog113', 'password': '1016', 'salt': 'ZEAAMwMq', 'md5': '4d307acc7cce5b214078930de6cba5af', 'sha1': '0be13eb3f3ac98ddd03eaebee078c260bf19cade', 'sha256': '841a8313b2f7d9403d643f5add8182a9e95235f0a20aba04e0e06ae18f20fdf3'}, 'dob': {'date': '1974-07-06T02:01:43Z', 'age': 44}, 'registered': {'date': '2018-01-13T11:07:06Z', 'age': 1}, 'phone': '(750)-387-8977', 'cell': '(879)-826-5823', 'id': {'name': 'SSN', 'value': '992-75-7558'}, 'picture': {'large': 'https://randomuser.me/api/portraits/men/86.jpg', 'medium': 'https://randomuser.me/api/portraits/med/men/86.jpg', 'thumbnail': 'https://randomuser.me/api/portraits/thumb/men/86.jpg'}, 'nat': 'US'}, {'gender': 'male', 'name': {'title': 'mr', 'first': 'andy', 'last': 'wallace'}, 'location': {'street': '5206 hogan st', 'city': 'concord', 'state': 'florida', 'postcode': 49556, 'coordinates': {'latitude': '-82.4857', 'longitude': '-140.6885'}, 'timezone': {'offset': '0:00', 'description': 'Western Europe Time, London, Lisbon, Casablanca'}}, 'email': 'andy.wallace@example.com', 'login': {'uuid': 'f5ad0124-793f-483a-a38a-a5b91c90de94', 'username': 'purplebird308', 'password': 'ninja1', 'salt': 'mFaCqEVw', 'md5': 'f34c5c6df69be35d42560f91485ddb4d', 'sha1': '0f5f2c0a3cb628fc0022a373256abc47342f20c8', 'sha256': '711438872abed12ecc8ef605c2336134a8b69c171c950637d18c189e855f0a01'}, 'dob': {'date': '1971-04-24T18:01:56Z', 'age': 48}, 'registered': {'date': '2002-04-12T04:06:56Z', 'age': 17}, 'phone': '(013)-471-7095', 'cell': '(909)-574-4536', 'id': {'name': 'SSN', 'value': '593-01-4014'}, 'picture': {'large': 'https://randomuser.me/api/portraits/men/34.jpg', 'medium': 'https://randomuser.me/api/portraits/med/men/34.jpg', 'thumbnail': 'https://randomuser.me/api/portraits/thumb/men/34.jpg'}, 'nat': 'US'}, {'gender': 'male', 'name': {'title': 'mr', 'first': 'austin', 'last': 'phillips'}, 'location': {'street': '1139 valley view ln', 'city': 'sioux falls', 'state': 'north carolina', 'postcode': 74865, 'coordinates': {'latitude': '43.7673', 'longitude': '130.8113'}, 'timezone': {'offset': '+3:00', 'description': 'Baghdad, Riyadh, Moscow, St. Petersburg'}}, 'email': 'austin.phillips@example.com', 'login': {'uuid': 'ad766a59-4005-409f-9b81-5dbcebcdbfe3', 'username': 'greenmeercat868', 'password': 'homers', 'salt': '5PmunNhF', 'md5': '7eb614e0c231ffc9e624541fe2ee3fc9', 'sha1': '7737c28d793c964adf126c3df28624c41500870e', 'sha256': 'b4a1c487a0af3bf62f083158df82f587ff7780b0dac742d1bcb11915c8612c6e'}, 'dob': {'date': '1967-02-28T09:40:45Z', 'age': 52}, 'registered': {'date': '2010-08-30T11:19:55Z', 'age': 8}, 'phone': '(063)-696-3971', 'cell': '(256)-638-7626', 'id': {'name': 'SSN', 'value': '429-72-6562'}, 'picture': {'large': 'https://randomuser.me/api/portraits/men/62.jpg', 'medium': 'https://randomuser.me/api/portraits/med/men/62.jpg', 'thumbnail': 'https://randomuser.me/api/portraits/thumb/men/62.jpg'}, 'nat': 'US'}, {'gender': 'male', 'name': {'title': 'mr', 'first': 'soham', 'last': 'fields'}, 'location': {'street': '3169 avondale ave', 'city': 'ventura', 'state': 'vermont', 'postcode': 63276, 'coordinates': {'latitude': '26.3454', 'longitude': '10.9734'}, 'timezone': {'offset': '+6:00', 'description': 'Almaty, Dhaka, Colombo'}}, 'email': 'soham.fields@example.com', 'login': {'uuid': 'e35fe4c9-c99d-470e-b863-27380747c5a9', 'username': 'happypeacock177', 'password': 'champs', 'salt': 'jYQWOubr', 'md5': 'f0f7f549565e6b3a35eefd3cc33ce849', 'sha1': 'a18992203804e0f46700ff4d7590211c0325da00', 'sha256': '9b51e45b86ae84448f06167553b01de3f237fa21670f82046c99f0a0c8e5ac6b'}, 'dob': {'date': '1957-04-03T19:20:05Z', 'age': 62}, 'registered': {'date': '2018-03-03T11:03:25Z', 'age': 1}, 'phone': '(734)-916-4444', 'cell': '(751)-473-0655', 'id': {'name': 'SSN', 'value': '263-34-4867'}, 'picture': {'large': 'https://randomuser.me/api/portraits/men/41.jpg', 'medium': 'https://randomuser.me/api/portraits/med/men/41.jpg', 'thumbnail': 'https://randomuser.me/api/portraits/thumb/men/41.jpg'}, 'nat': 'US'}, {'gender': 'male', 'name': {'title': 'mr', 'first': 'lonnie', 'last': 'sims'}, 'location': {'street': '3224 avondale ave', 'city': 'lewiston', 'state': 'california', 'postcode': 80641, 'coordinates': {'latitude': '-77.5160', 'longitude': '-96.5987'}, 'timezone': {'offset': '-5:00', 'description': 'Eastern Time (US & Canada), Bogota, Lima'}}, 'email': 'lonnie.sims@example.com', 'login': {'uuid': '8050257b-1b1f-48f1-a8c7-785a9f511712', 'username': 'angrygorilla966', 'password': 'sleepy', 'salt': 'Muyha3Eo', 'md5': 'b89982d3ddaec4986554de8c367b1e5f', 'sha1': 'c1a054b69c30f9b435e483026c8dc29074cc20df', 'sha256': '4f17eb7fe0eb06b302f1fe46db2846d488472e6265abc199c39e77a733737499'}, 'dob': {'date': '1953-05-29T22:02:02Z', 'age': 65}, 'registered': {'date': '2015-10-12T06:08:38Z', 'age': 3}, 'phone': '(945)-141-5822', 'cell': '(471)-824-8537', 'id': {'name': 'SSN', 'value': '178-56-2672'}, 'picture': {'large': 'https://randomuser.me/api/portraits/men/33.jpg', 'medium': 'https://randomuser.me/api/portraits/med/men/33.jpg', 'thumbnail': 'https://randomuser.me/api/portraits/thumb/men/33.jpg'}, 'nat': 'US'}, {'gender': 'male', 'name': {'title': 'mr', 'first': 'gilbert', 'last': 'jensen'}, 'location': {'street': '9525 w campbell ave', 'city': 'scurry', 'state': 'oregon', 'postcode': 90812, 'coordinates': {'latitude': '-0.7639', 'longitude': '158.5688'}, 'timezone': {'offset': '+10:00', 'description': 'Eastern Australia, Guam, Vladivostok'}}, 'email': 'gilbert.jensen@example.com', 'login': {'uuid': '1b81ddab-ea35-43a1-8759-d689095bea5f', 'username': 'sadlion421', 'password': 'triple', 'salt': 'lJOoPAfe', 'md5': '818f75bb2ba646e55b792e9832bfba0a', 'sha1': 'e2a4f09ebf7a7dbe38de9576fd96572f8d991fc3', 'sha256': '1cb2f03e606d5e62b113d57de784dbad3af6497e898e0c1f98ac74a32ca2c68e'}, 'dob': {'date': '1972-01-27T09:44:23Z', 'age': 47}, 'registered': {'date': '2009-08-28T04:48:53Z', 'age': 9}, 'phone': '(072)-016-7176', 'cell': '(035)-782-7702', 'id': {'name': 'SSN', 'value': '526-47-8305'}, 'picture': {'large': 'https://randomuser.me/api/portraits/men/97.jpg', 'medium': 'https://randomuser.me/api/portraits/med/men/97.jpg', 'thumbnail': 'https://randomuser.me/api/portraits/thumb/men/97.jpg'}, 'nat': 'US'}, {'gender': 'male', 'name': {'title': 'mr', 'first': 'brayden', 'last': 'patterson'}, 'location': {'street': '7505 northaven rd', 'city': 'los angeles', 'state': 'maryland', 'postcode': 93041, 'coordinates': {'latitude': '53.5952', 'longitude': '-143.6214'}, 'timezone': {'offset': '+9:30', 'description': 'Adelaide, Darwin'}}, 'email': 'brayden.patterson@example.com', 'login': {'uuid': '49ba4dca-3964-4fc3-a9b4-0e3c50ee92da', 'username': 'yellowrabbit925', 'password': 'heka6w2', 'salt': 'zasbC7T2', 'md5': '9b72f62a98e53d274502aafce5790ccd', 'sha1': '6e273dd903eeeffad87841d9b5ce34c205adeb7d', 'sha256': '64a48d2766d4c7a74df8f88b5d1483a56931d90708aed48a8c96be37d2c1a29f'}, 'dob': {'date': '1991-10-03T04:14:04Z', 'age': 27}, 'registered': {'date': '2007-06-22T05:22:06Z', 'age': 11}, 'phone': '(018)-212-2823', 'cell': '(767)-624-4340', 'id': {'name': 'SSN', 'value': '764-22-7047'}, 'picture': {'large': 'https://randomuser.me/api/portraits/men/76.jpg', 'medium': 'https://randomuser.me/api/portraits/med/men/76.jpg', 'thumbnail': 'https://randomuser.me/api/portraits/thumb/men/76.jpg'}, 'nat': 'US'}]\n",
      "[{'gender': 'male', 'name': {'title': 'mr', 'first': 'ivan', 'last': 'cook'}, 'location': {'street': '498 central st', 'city': 'kent', 'state': 'west virginia', 'postcode': 39543, 'coordinates': {'latitude': '-54.3718', 'longitude': '-20.9087'}, 'timezone': {'offset': '-3:30', 'description': 'Newfoundland'}}, 'email': 'ivan.cook@example.com', 'login': {'uuid': '25017f56-2307-4f0b-b26f-80c313423a87', 'username': 'blackgorilla990', 'password': 'redskin', 'salt': 'yjnbD9bU', 'md5': 'f792ddca832e8bc97c9d2f7efec1759f', 'sha1': '9c19a69ffc88394f4b8733f51a0770710898591e', 'sha256': '1222d5f49f534e6b40097657e60d75d2cf5a78716e6ff40c6bf398a0e3cb2f7a'}, 'dob': {'date': '1973-07-31T03:35:26Z', 'age': 45}, 'registered': {'date': '2002-04-23T17:47:34Z', 'age': 17}, 'phone': '(111)-212-6541', 'cell': '(339)-619-7981', 'id': {'name': 'SSN', 'value': '443-48-7874'}, 'picture': {'large': 'https://randomuser.me/api/portraits/men/78.jpg', 'medium': 'https://randomuser.me/api/portraits/med/men/78.jpg', 'thumbnail': 'https://randomuser.me/api/portraits/thumb/men/78.jpg'}, 'nat': 'US'}, {'gender': 'male', 'name': {'title': 'mr', 'first': 'darren', 'last': 'franklin'}, 'location': {'street': '2940 e center st', 'city': 'clarksville', 'state': 'california', 'postcode': 53392, 'coordinates': {'latitude': '-56.3442', 'longitude': '-61.7341'}, 'timezone': {'offset': '-11:00', 'description': 'Midway Island, Samoa'}}, 'email': 'darren.franklin@example.com', 'login': {'uuid': '5f92fbfd-3775-46db-ac6d-34042217d19b', 'username': 'brownelephant111', 'password': 'tasha1', 'salt': '2hKUZtqw', 'md5': '1cfe3a8d6b5b81f5a93a23dbefc2be85', 'sha1': '77f221481e943715c39d191e1122dd7f1a9b42d6', 'sha256': '6f9ef3f20cb9f8bc6e0e50790632fa49487fef6afd071f611ca622a1fe246eea'}, 'dob': {'date': '1968-06-17T04:23:07Z', 'age': 50}, 'registered': {'date': '2011-05-29T00:10:14Z', 'age': 7}, 'phone': '(616)-236-5479', 'cell': '(247)-478-4953', 'id': {'name': 'SSN', 'value': '145-46-3510'}, 'picture': {'large': 'https://randomuser.me/api/portraits/men/85.jpg', 'medium': 'https://randomuser.me/api/portraits/med/men/85.jpg', 'thumbnail': 'https://randomuser.me/api/portraits/thumb/men/85.jpg'}, 'nat': 'US'}, {'gender': 'male', 'name': {'title': 'mr', 'first': 'landon', 'last': 'butler'}, 'location': {'street': '8296 westheimer rd', 'city': 'fresno', 'state': 'louisiana', 'postcode': 44408, 'coordinates': {'latitude': '58.3107', 'longitude': '-64.0838'}, 'timezone': {'offset': '-11:00', 'description': 'Midway Island, Samoa'}}, 'email': 'landon.butler@example.com', 'login': {'uuid': '45e34079-d93a-436a-96bf-36b6bd7f9417', 'username': 'lazymouse668', 'password': '7777', 'salt': 'Ru2kAKkI', 'md5': 'ee096b22dd61a8b99098935ea0ee41f2', 'sha1': '9dacfc0d85b25c8c7a9a5a640f481e8348fdc3cc', 'sha256': '362dcfdb425b5338aa66f6632d72730c8d081efde475eb1029929b9c47bda710'}, 'dob': {'date': '1985-09-21T05:30:21Z', 'age': 33}, 'registered': {'date': '2005-09-24T09:13:04Z', 'age': 13}, 'phone': '(344)-017-6032', 'cell': '(812)-962-4922', 'id': {'name': 'SSN', 'value': '278-21-9353'}, 'picture': {'large': 'https://randomuser.me/api/portraits/men/19.jpg', 'medium': 'https://randomuser.me/api/portraits/med/men/19.jpg', 'thumbnail': 'https://randomuser.me/api/portraits/thumb/men/19.jpg'}, 'nat': 'US'}, {'gender': 'male', 'name': {'title': 'mr', 'first': 'levi', 'last': 'wilson'}, 'location': {'street': '6655 valley view ln', 'city': 'santa maria', 'state': 'new jersey', 'postcode': 32347, 'coordinates': {'latitude': '14.6072', 'longitude': '-26.0949'}, 'timezone': {'offset': '+4:00', 'description': 'Abu Dhabi, Muscat, Baku, Tbilisi'}}, 'email': 'levi.wilson@example.com', 'login': {'uuid': 'a5821291-0df5-456b-9d26-92808aac3356', 'username': 'purpleleopard624', 'password': 'cricket', 'salt': 'cRhkO5Lr', 'md5': '4ebf395e82367dff849d17a3d58289e3', 'sha1': 'b1c488f19434f9b1ac6ef94a38b49c57367fa831', 'sha256': 'b4ae100677e473a54fd2294c9cfbeb2c39c582d77f5401eae87fc41222fa5f14'}, 'dob': {'date': '1985-02-27T09:42:58Z', 'age': 34}, 'registered': {'date': '2011-04-22T04:47:46Z', 'age': 8}, 'phone': '(390)-793-8789', 'cell': '(512)-310-4648', 'id': {'name': 'SSN', 'value': '544-37-5631'}, 'picture': {'large': 'https://randomuser.me/api/portraits/men/7.jpg', 'medium': 'https://randomuser.me/api/portraits/med/men/7.jpg', 'thumbnail': 'https://randomuser.me/api/portraits/thumb/men/7.jpg'}, 'nat': 'US'}, {'gender': 'male', 'name': {'title': 'mr', 'first': 'alan', 'last': 'newman'}, 'location': {'street': '1813 preston rd', 'city': 'redding', 'state': 'texas', 'postcode': 73467, 'coordinates': {'latitude': '-5.1062', 'longitude': '-153.0674'}, 'timezone': {'offset': '-1:00', 'description': 'Azores, Cape Verde Islands'}}, 'email': 'alan.newman@example.com', 'login': {'uuid': '2b9153d2-3f94-47f4-b4ce-32f5859af9ad', 'username': 'crazyswan247', 'password': 'helloo', 'salt': '8J0BvOsh', 'md5': '5d5792576945a9c9cfa0d01d8133fad0', 'sha1': '32733ac246c33b78fbc1fdcdd1ce00e9604184f1', 'sha256': 'ff1ffc85c495a0452968aa339a304b4e476aa459f900723cc75350ce32bb9e3b'}, 'dob': {'date': '1953-07-05T00:15:57Z', 'age': 65}, 'registered': {'date': '2013-12-19T11:18:59Z', 'age': 5}, 'phone': '(783)-891-6850', 'cell': '(681)-060-0497', 'id': {'name': 'SSN', 'value': '420-65-7277'}, 'picture': {'large': 'https://randomuser.me/api/portraits/men/57.jpg', 'medium': 'https://randomuser.me/api/portraits/med/men/57.jpg', 'thumbnail': 'https://randomuser.me/api/portraits/thumb/men/57.jpg'}, 'nat': 'US'}, {'gender': 'male', 'name': {'title': 'mr', 'first': 'terrance', 'last': 'porter'}, 'location': {'street': '8936 first street', 'city': 'roseville', 'state': 'nevada', 'postcode': 53156, 'coordinates': {'latitude': '54.9568', 'longitude': '34.1962'}, 'timezone': {'offset': '+9:30', 'description': 'Adelaide, Darwin'}}, 'email': 'terrance.porter@example.com', 'login': {'uuid': '30b12ae9-44a8-49c8-94f0-bf5dbde92353', 'username': 'organickoala164', 'password': 'feeling', 'salt': 'rJ1xB3cO', 'md5': 'e22c64109f5e8000326bb2a9cf6a82ca', 'sha1': 'e5491ef30518bc453c9676a3ac510585d2573166', 'sha256': '0aa3ea42fded7622f113eca5124e348e8b19ab7b9357e82448418a861dc5d995'}, 'dob': {'date': '1967-08-23T18:56:45Z', 'age': 51}, 'registered': {'date': '2013-01-21T16:22:41Z', 'age': 6}, 'phone': '(631)-714-1161', 'cell': '(042)-727-4501', 'id': {'name': 'SSN', 'value': '388-52-4514'}, 'picture': {'large': 'https://randomuser.me/api/portraits/men/86.jpg', 'medium': 'https://randomuser.me/api/portraits/med/men/86.jpg', 'thumbnail': 'https://randomuser.me/api/portraits/thumb/men/86.jpg'}, 'nat': 'US'}, {'gender': 'male', 'name': {'title': 'mr', 'first': 'tom', 'last': 'lee'}, 'location': {'street': '6800 paddock way', 'city': 'medford', 'state': 'montana', 'postcode': 84231, 'coordinates': {'latitude': '-86.6597', 'longitude': '-34.6155'}, 'timezone': {'offset': '+4:00', 'description': 'Abu Dhabi, Muscat, Baku, Tbilisi'}}, 'email': 'tom.lee@example.com', 'login': {'uuid': 'b6d8765c-9a63-470a-a2ab-dbf9f75a4264', 'username': 'crazypeacock806', 'password': 'company', 'salt': 'NkN05bnG', 'md5': '11d64fefb9304b8c451908165c125511', 'sha1': 'b75e1aa99878f7f91c478b16fd57d37de62f91bd', 'sha256': '781d082fdddd6c3c776833ac0cd9583b88b6aee319562a906cb68dcbfe3c33ad'}, 'dob': {'date': '1979-04-05T11:15:17Z', 'age': 40}, 'registered': {'date': '2011-02-20T00:03:35Z', 'age': 8}, 'phone': '(904)-904-2804', 'cell': '(129)-105-5739', 'id': {'name': 'SSN', 'value': '437-28-7305'}, 'picture': {'large': 'https://randomuser.me/api/portraits/men/74.jpg', 'medium': 'https://randomuser.me/api/portraits/med/men/74.jpg', 'thumbnail': 'https://randomuser.me/api/portraits/thumb/men/74.jpg'}, 'nat': 'US'}, {'gender': 'male', 'name': {'title': 'mr', 'first': 'virgil', 'last': 'webb'}, 'location': {'street': '1093 valley view ln', 'city': 'desoto', 'state': 'missouri', 'postcode': 50926, 'coordinates': {'latitude': '68.4901', 'longitude': '-121.0246'}, 'timezone': {'offset': '+7:00', 'description': 'Bangkok, Hanoi, Jakarta'}}, 'email': 'virgil.webb@example.com', 'login': {'uuid': '2b9cd5ef-29d8-419c-9091-07fc731a9b3c', 'username': 'redmouse942', 'password': 'macman', 'salt': 'UhKrUKmF', 'md5': 'da257b81bf0b0db1e21a8223d9d72ddb', 'sha1': '6a2aa21c7377b479a882066bf4905708c89a6da7', 'sha256': 'e9d48c726cb3c912b278e5465f262561c4528d4cbfb84ce885bd495bec536dac'}, 'dob': {'date': '1967-06-22T21:26:02Z', 'age': 51}, 'registered': {'date': '2013-06-16T18:33:34Z', 'age': 5}, 'phone': '(380)-487-7662', 'cell': '(534)-118-6720', 'id': {'name': 'SSN', 'value': '564-47-5081'}, 'picture': {'large': 'https://randomuser.me/api/portraits/men/81.jpg', 'medium': 'https://randomuser.me/api/portraits/med/men/81.jpg', 'thumbnail': 'https://randomuser.me/api/portraits/thumb/men/81.jpg'}, 'nat': 'US'}, {'gender': 'male', 'name': {'title': 'mr', 'first': 'lee', 'last': 'washington'}, 'location': {'street': '7051 n stelling rd', 'city': 'ventura', 'state': 'minnesota', 'postcode': 21612, 'coordinates': {'latitude': '52.7524', 'longitude': '126.7141'}, 'timezone': {'offset': '-8:00', 'description': 'Pacific Time (US & Canada)'}}, 'email': 'lee.washington@example.com', 'login': {'uuid': 'ebee4c87-49d6-47e0-a597-16ad952b3722', 'username': 'yellowtiger595', 'password': 'bbking', 'salt': 'CUVOGiAT', 'md5': '7a6f1fd55920e035e54d1e3d0fa8254d', 'sha1': '546dfed43a13956eee5e77650dba069114444ad9', 'sha256': 'fe105e42df2d9d11405235e27302d6fb261274ce9be5372a61caba97fd3dcbbe'}, 'dob': {'date': '1997-06-06T13:27:49Z', 'age': 21}, 'registered': {'date': '2005-06-15T07:13:09Z', 'age': 13}, 'phone': '(382)-451-1322', 'cell': '(784)-380-4819', 'id': {'name': 'SSN', 'value': '892-82-8124'}, 'picture': {'large': 'https://randomuser.me/api/portraits/men/8.jpg', 'medium': 'https://randomuser.me/api/portraits/med/men/8.jpg', 'thumbnail': 'https://randomuser.me/api/portraits/thumb/men/8.jpg'}, 'nat': 'US'}, {'gender': 'male', 'name': {'title': 'mr', 'first': 'eduardo', 'last': 'bowman'}, 'location': {'street': '6196 saddle dr', 'city': 'orange', 'state': 'montana', 'postcode': 49466, 'coordinates': {'latitude': '22.6665', 'longitude': '-119.3332'}, 'timezone': {'offset': '+10:00', 'description': 'Eastern Australia, Guam, Vladivostok'}}, 'email': 'eduardo.bowman@example.com', 'login': {'uuid': '164b3b78-026d-4d84-b927-5e89a988da2a', 'username': 'redfish969', 'password': 'tasha', 'salt': 'g7BUDiY0', 'md5': '817529a8012012c08e2115d3bf9d7653', 'sha1': '8718f3315724f9e1a76b8f12190a99b6073e6dba', 'sha256': 'bdce5a7ea67b9439b62de0ff5a88e2b574d38e15cc5d1aa495f1062e55fab01d'}, 'dob': {'date': '1976-04-07T22:46:57Z', 'age': 43}, 'registered': {'date': '2002-09-06T02:11:30Z', 'age': 16}, 'phone': '(285)-666-3822', 'cell': '(241)-757-9368', 'id': {'name': 'SSN', 'value': '606-39-0748'}, 'picture': {'large': 'https://randomuser.me/api/portraits/men/4.jpg', 'medium': 'https://randomuser.me/api/portraits/med/men/4.jpg', 'thumbnail': 'https://randomuser.me/api/portraits/thumb/men/4.jpg'}, 'nat': 'US'}]\n",
      "[{'gender': 'male', 'name': {'title': 'mr', 'first': 'erik', 'last': 'jordan'}, 'location': {'street': '9362 elgin st', 'city': 'lewisville', 'state': 'virginia', 'postcode': 66683, 'coordinates': {'latitude': '-28.5888', 'longitude': '-67.8216'}, 'timezone': {'offset': '+7:00', 'description': 'Bangkok, Hanoi, Jakarta'}}, 'email': 'erik.jordan@example.com', 'login': {'uuid': '7de47ea1-2f73-4e76-a538-da4bb2e96963', 'username': 'greenelephant571', 'password': 'pete', 'salt': 'fk8Co4Dz', 'md5': 'fe9988fa5c48669ef2ccd2d4d26c425b', 'sha1': '005c5eb7e1592f3e094f318be781bb41432550d2', 'sha256': 'eaf4838854ac2135107d10cad17d2df8534f686893a83f41c9cf36d8fc598182'}, 'dob': {'date': '1989-09-03T04:43:52Z', 'age': 29}, 'registered': {'date': '2012-08-16T23:04:24Z', 'age': 6}, 'phone': '(771)-953-5423', 'cell': '(575)-237-1754', 'id': {'name': 'SSN', 'value': '652-36-8691'}, 'picture': {'large': 'https://randomuser.me/api/portraits/men/26.jpg', 'medium': 'https://randomuser.me/api/portraits/med/men/26.jpg', 'thumbnail': 'https://randomuser.me/api/portraits/thumb/men/26.jpg'}, 'nat': 'US'}, {'gender': 'male', 'name': {'title': 'mr', 'first': 'craig', 'last': 'holland'}, 'location': {'street': '1611 pecan acres ln', 'city': 'salt lake city', 'state': 'south carolina', 'postcode': 61104, 'coordinates': {'latitude': '-20.5647', 'longitude': '4.5722'}, 'timezone': {'offset': '+9:30', 'description': 'Adelaide, Darwin'}}, 'email': 'craig.holland@example.com', 'login': {'uuid': 'b845b3c9-6a83-44ad-ae21-36e29cc9df46', 'username': 'goldenswan211', 'password': 'duck', 'salt': '28pzUBwK', 'md5': 'e2fc40d8d1909d648b46f94f0c896bc2', 'sha1': '9b3029b9aa5924ba7b8b294436dd985f5e1e9af8', 'sha256': '14e6457e89721b90636842a7cae3ae13192507012555d0ad14ba29aa5a22fc2d'}, 'dob': {'date': '1980-08-28T18:30:42Z', 'age': 38}, 'registered': {'date': '2004-09-23T06:48:01Z', 'age': 14}, 'phone': '(801)-635-1536', 'cell': '(543)-244-2951', 'id': {'name': 'SSN', 'value': '628-62-6496'}, 'picture': {'large': 'https://randomuser.me/api/portraits/men/23.jpg', 'medium': 'https://randomuser.me/api/portraits/med/men/23.jpg', 'thumbnail': 'https://randomuser.me/api/portraits/thumb/men/23.jpg'}, 'nat': 'US'}, {'gender': 'male', 'name': {'title': 'mr', 'first': 'tracy', 'last': 'chavez'}, 'location': {'street': '3654 harrison ct', 'city': 'medford', 'state': 'mississippi', 'postcode': 52156, 'coordinates': {'latitude': '44.2185', 'longitude': '-18.6104'}, 'timezone': {'offset': '0:00', 'description': 'Western Europe Time, London, Lisbon, Casablanca'}}, 'email': 'tracy.chavez@example.com', 'login': {'uuid': '5955e1a2-3d01-4b58-985a-8763663f81a4', 'username': 'greenpeacock339', 'password': 'stroke', 'salt': 'K5Wl20mJ', 'md5': '8f8fd0f21875724a06f912c9ee3dc792', 'sha1': '80cba500f74366e7b58efb49749c26424f541162', 'sha256': 'a0747b7c8bb0db0a8faefe9e85b51ffcf983a50086f5d7d9b3d3758018dcdb27'}, 'dob': {'date': '1955-05-06T05:52:10Z', 'age': 63}, 'registered': {'date': '2009-08-17T00:00:03Z', 'age': 9}, 'phone': '(439)-333-8777', 'cell': '(111)-642-3672', 'id': {'name': 'SSN', 'value': '585-91-7182'}, 'picture': {'large': 'https://randomuser.me/api/portraits/men/55.jpg', 'medium': 'https://randomuser.me/api/portraits/med/men/55.jpg', 'thumbnail': 'https://randomuser.me/api/portraits/thumb/men/55.jpg'}, 'nat': 'US'}, {'gender': 'male', 'name': {'title': 'mr', 'first': 'timmothy', 'last': 'bryant'}, 'location': {'street': '7254 timber wolf trail', 'city': 'hialeah', 'state': 'south carolina', 'postcode': 84328, 'coordinates': {'latitude': '60.2356', 'longitude': '59.4872'}, 'timezone': {'offset': '+8:00', 'description': 'Beijing, Perth, Singapore, Hong Kong'}}, 'email': 'timmothy.bryant@example.com', 'login': {'uuid': '4a7f98e2-7558-4779-ac2d-f39d5c437875', 'username': 'sadpanda934', 'password': 'twenty', 'salt': 's4W6II6F', 'md5': '0b21858fec85f4e1ff7f7e07b6b5408c', 'sha1': '1cccc660a519099c1c4d25e8dce45433cb6a7775', 'sha256': '2c0b121ef43f62b1100d0463580ad72b4e189f1431ea6af97cb363312702067f'}, 'dob': {'date': '1953-02-04T23:04:41Z', 'age': 66}, 'registered': {'date': '2010-02-03T10:58:04Z', 'age': 9}, 'phone': '(310)-951-0344', 'cell': '(628)-385-6791', 'id': {'name': 'SSN', 'value': '090-30-9494'}, 'picture': {'large': 'https://randomuser.me/api/portraits/men/50.jpg', 'medium': 'https://randomuser.me/api/portraits/med/men/50.jpg', 'thumbnail': 'https://randomuser.me/api/portraits/thumb/men/50.jpg'}, 'nat': 'US'}, {'gender': 'male', 'name': {'title': 'mr', 'first': 'kurt', 'last': 'curtis'}, 'location': {'street': '6643 dane st', 'city': 'mesquite', 'state': 'west virginia', 'postcode': 81446, 'coordinates': {'latitude': '80.9955', 'longitude': '-43.4604'}, 'timezone': {'offset': '-12:00', 'description': 'Eniwetok, Kwajalein'}}, 'email': 'kurt.curtis@example.com', 'login': {'uuid': '55eccb22-2963-46ab-b8d8-e2c2d46e1dbd', 'username': 'blackduck356', 'password': 'dunbar', 'salt': 'wQk7cQp1', 'md5': '200692cacdd3081c9da58d4dcfcd692c', 'sha1': 'fd4fe1e27454f2a99382045fd999659fdfd0985b', 'sha256': '0ebbbbcc78b10680fc41d8233cd4d99902fd0dd03a16e49edc0723dc14f8985f'}, 'dob': {'date': '1968-05-17T13:47:13Z', 'age': 50}, 'registered': {'date': '2005-06-01T18:07:48Z', 'age': 13}, 'phone': '(526)-460-3796', 'cell': '(485)-281-2681', 'id': {'name': 'SSN', 'value': '939-18-2253'}, 'picture': {'large': 'https://randomuser.me/api/portraits/men/28.jpg', 'medium': 'https://randomuser.me/api/portraits/med/men/28.jpg', 'thumbnail': 'https://randomuser.me/api/portraits/thumb/men/28.jpg'}, 'nat': 'US'}, {'gender': 'male', 'name': {'title': 'mr', 'first': 'martin', 'last': 'taylor'}, 'location': {'street': '3113 oak lawn ave', 'city': 'san antonio', 'state': 'indiana', 'postcode': 44839, 'coordinates': {'latitude': '-16.2979', 'longitude': '103.4686'}, 'timezone': {'offset': '-6:00', 'description': 'Central Time (US & Canada), Mexico City'}}, 'email': 'martin.taylor@example.com', 'login': {'uuid': 'd4ece88e-8ebb-4e27-8520-e910576a4d5c', 'username': 'happylion368', 'password': 'carnival', 'salt': '1G1WKvUT', 'md5': '8b9cadebd452a8cd954b0c67ecc71019', 'sha1': '925225d2724afaf1de555d80932b9c9a68f8286e', 'sha256': '67210c0c6df94d468bdc19145f328959b666d07947fec2f250ca4b998477d98e'}, 'dob': {'date': '1959-10-31T23:46:10Z', 'age': 59}, 'registered': {'date': '2011-01-07T01:16:09Z', 'age': 8}, 'phone': '(738)-068-0934', 'cell': '(590)-001-6888', 'id': {'name': 'SSN', 'value': '200-57-5487'}, 'picture': {'large': 'https://randomuser.me/api/portraits/men/89.jpg', 'medium': 'https://randomuser.me/api/portraits/med/men/89.jpg', 'thumbnail': 'https://randomuser.me/api/portraits/thumb/men/89.jpg'}, 'nat': 'US'}, {'gender': 'male', 'name': {'title': 'mr', 'first': 'aiden', 'last': 'carroll'}, 'location': {'street': '5284 hunters creek dr', 'city': 'corpus christi', 'state': 'new jersey', 'postcode': 87043, 'coordinates': {'latitude': '9.7094', 'longitude': '70.1581'}, 'timezone': {'offset': '-7:00', 'description': 'Mountain Time (US & Canada)'}}, 'email': 'aiden.carroll@example.com', 'login': {'uuid': 'cf10f050-f6f7-4493-8a28-fc5b2f0b3d52', 'username': 'happydog990', 'password': 'credit', 'salt': 'OOMygCw9', 'md5': '2e5d41447a761303282512a5648006ca', 'sha1': '0ac03205adcfd0592e3594196ca37665b3cfbbb6', 'sha256': 'b56230d18c8fcd6e3e9f46658de19a79762b9e47b69f23d0f5a881324833fc27'}, 'dob': {'date': '1955-03-14T23:29:10Z', 'age': 64}, 'registered': {'date': '2017-07-23T07:59:25Z', 'age': 1}, 'phone': '(977)-067-5056', 'cell': '(263)-411-2804', 'id': {'name': 'SSN', 'value': '334-40-9105'}, 'picture': {'large': 'https://randomuser.me/api/portraits/men/79.jpg', 'medium': 'https://randomuser.me/api/portraits/med/men/79.jpg', 'thumbnail': 'https://randomuser.me/api/portraits/thumb/men/79.jpg'}, 'nat': 'US'}, {'gender': 'male', 'name': {'title': 'mr', 'first': 'darryl', 'last': 'hicks'}, 'location': {'street': '5616 w dallas st', 'city': 'gilbert', 'state': 'wyoming', 'postcode': 90234, 'coordinates': {'latitude': '-53.1020', 'longitude': '-77.5319'}, 'timezone': {'offset': '-12:00', 'description': 'Eniwetok, Kwajalein'}}, 'email': 'darryl.hicks@example.com', 'login': {'uuid': '73493a6a-06bf-4b7d-83d2-39d2f5e2d448', 'username': 'purplelion275', 'password': 'bizkit', 'salt': 'T7b2KhMw', 'md5': 'a89bddbb45c2d8303cf826501556144f', 'sha1': '26bfe0e34fe28641ee760b0ee73dcf61ce68abb7', 'sha256': 'fc0152e37cdd958d6c92f7b01e3c1d5360659a48aae84528d49b23847c5c55da'}, 'dob': {'date': '1960-11-18T22:12:12Z', 'age': 58}, 'registered': {'date': '2011-08-26T15:06:37Z', 'age': 7}, 'phone': '(934)-328-1089', 'cell': '(017)-375-7641', 'id': {'name': 'SSN', 'value': '449-12-0955'}, 'picture': {'large': 'https://randomuser.me/api/portraits/men/7.jpg', 'medium': 'https://randomuser.me/api/portraits/med/men/7.jpg', 'thumbnail': 'https://randomuser.me/api/portraits/thumb/men/7.jpg'}, 'nat': 'US'}, {'gender': 'male', 'name': {'title': 'mr', 'first': 'ruben', 'last': 'riley'}, 'location': {'street': '8108 wheeler ridge dr', 'city': 'houston', 'state': 'alaska', 'postcode': 24267, 'coordinates': {'latitude': '-23.6863', 'longitude': '167.3127'}, 'timezone': {'offset': '+1:00', 'description': 'Brussels, Copenhagen, Madrid, Paris'}}, 'email': 'ruben.riley@example.com', 'login': {'uuid': 'ae349c46-d8dc-495c-b368-448eb5d0ad0f', 'username': 'greenmeercat552', 'password': 'sinned', 'salt': 'rF21i5yV', 'md5': '29f58871169050fbb3529d81a30b8f7e', 'sha1': '839d14e73a44d39eeff2137758557a36b4b2495c', 'sha256': 'dd697d7fa30cee9f786e2b5a4e58159b9f080db9d7d69e083f018f5c07f42cfa'}, 'dob': {'date': '1957-05-21T08:58:35Z', 'age': 61}, 'registered': {'date': '2011-09-16T04:05:10Z', 'age': 7}, 'phone': '(863)-399-3324', 'cell': '(787)-324-4166', 'id': {'name': 'SSN', 'value': '139-46-5080'}, 'picture': {'large': 'https://randomuser.me/api/portraits/men/93.jpg', 'medium': 'https://randomuser.me/api/portraits/med/men/93.jpg', 'thumbnail': 'https://randomuser.me/api/portraits/thumb/men/93.jpg'}, 'nat': 'US'}, {'gender': 'male', 'name': {'title': 'mr', 'first': 'terrence', 'last': 'mendoza'}, 'location': {'street': '8579 saddle dr', 'city': 'princeton', 'state': 'illinois', 'postcode': 30688, 'coordinates': {'latitude': '-22.0337', 'longitude': '-1.9252'}, 'timezone': {'offset': '-6:00', 'description': 'Central Time (US & Canada), Mexico City'}}, 'email': 'terrence.mendoza@example.com', 'login': {'uuid': '9e0112ac-dd40-408c-87dc-80228639daa9', 'username': 'silverostrich208', 'password': 'scorpio', 'salt': 'EFyq2GGU', 'md5': 'b1fb89a98f589c5d25ac86fd6360fe27', 'sha1': 'b049b3137119a4c93bc8dd1a916efdd6a05f3a40', 'sha256': '7678e203f8877a0f5146b403a293ddd892e8ee556a82f9224afcf0d42e90b20d'}, 'dob': {'date': '1953-02-22T15:31:05Z', 'age': 66}, 'registered': {'date': '2009-07-17T07:42:44Z', 'age': 9}, 'phone': '(488)-261-7879', 'cell': '(585)-676-4301', 'id': {'name': 'SSN', 'value': '382-24-1224'}, 'picture': {'large': 'https://randomuser.me/api/portraits/men/8.jpg', 'medium': 'https://randomuser.me/api/portraits/med/men/8.jpg', 'thumbnail': 'https://randomuser.me/api/portraits/thumb/men/8.jpg'}, 'nat': 'US'}]\n",
      "[{'gender': 'male', 'name': {'title': 'mr', 'first': 'rick', 'last': 'henry'}, 'location': {'street': '371 locust rd', 'city': 'newport news', 'state': 'hawaii', 'postcode': 21361, 'coordinates': {'latitude': '-29.0827', 'longitude': '110.2201'}, 'timezone': {'offset': '+6:00', 'description': 'Almaty, Dhaka, Colombo'}}, 'email': 'rick.henry@example.com', 'login': {'uuid': '6c079324-fe87-48b2-938d-68ac8972fa14', 'username': 'brownleopard835', 'password': 'enterme', 'salt': 'p74GDFTk', 'md5': 'ccd83af5ad91d97594e0229426ef9e10', 'sha1': '24ea08f794b18554aa3939dbb7135685a469a184', 'sha256': '6152ddca4c962b18343ea7cc6a06ad9bba92511345c64283a4e7ebb5ca8cb86b'}, 'dob': {'date': '1965-09-29T21:47:20Z', 'age': 53}, 'registered': {'date': '2011-01-27T19:34:40Z', 'age': 8}, 'phone': '(756)-419-6028', 'cell': '(912)-926-7516', 'id': {'name': 'SSN', 'value': '048-40-6143'}, 'picture': {'large': 'https://randomuser.me/api/portraits/men/67.jpg', 'medium': 'https://randomuser.me/api/portraits/med/men/67.jpg', 'thumbnail': 'https://randomuser.me/api/portraits/thumb/men/67.jpg'}, 'nat': 'US'}, {'gender': 'male', 'name': {'title': 'mr', 'first': 'mathew', 'last': 'little'}, 'location': {'street': '1472 pockrus page rd', 'city': 'bellevue', 'state': 'indiana', 'postcode': 23685, 'coordinates': {'latitude': '59.7747', 'longitude': '171.4294'}, 'timezone': {'offset': '+7:00', 'description': 'Bangkok, Hanoi, Jakarta'}}, 'email': 'mathew.little@example.com', 'login': {'uuid': '24f3bb81-a06e-4609-a75c-a8c2a1426b6e', 'username': 'orangeleopard504', 'password': 'tennis', 'salt': 'yRx3FBwF', 'md5': 'c39ab37f9f62fe2a8582b99920a86392', 'sha1': '6b421ca05ea3638c6c74cbbee42890e32bb93a2c', 'sha256': 'e636e0b0579a766c8071f6b71cddd0a131b2489d6a1537f69afb2396f6c6c9f8'}, 'dob': {'date': '1948-06-03T14:48:58Z', 'age': 70}, 'registered': {'date': '2016-04-19T01:46:35Z', 'age': 3}, 'phone': '(359)-149-5574', 'cell': '(930)-509-0001', 'id': {'name': 'SSN', 'value': '329-83-7893'}, 'picture': {'large': 'https://randomuser.me/api/portraits/men/24.jpg', 'medium': 'https://randomuser.me/api/portraits/med/men/24.jpg', 'thumbnail': 'https://randomuser.me/api/portraits/thumb/men/24.jpg'}, 'nat': 'US'}, {'gender': 'male', 'name': {'title': 'mr', 'first': 'ryan', 'last': 'perry'}, 'location': {'street': '9856 hickory creek dr', 'city': 'daly city', 'state': 'wisconsin', 'postcode': 95758, 'coordinates': {'latitude': '2.4729', 'longitude': '-19.6409'}, 'timezone': {'offset': '-3:00', 'description': 'Brazil, Buenos Aires, Georgetown'}}, 'email': 'ryan.perry@example.com', 'login': {'uuid': '58e8871d-358f-427f-89b7-f5081f010154', 'username': 'smallfish480', 'password': 'monsters', 'salt': '76RwaOxC', 'md5': '695e1c8ca364803d113b65bb9ac36105', 'sha1': '4ba78f7d7e429c2b2e6ed8fa701a5dc7b37ad28a', 'sha256': '2df0143653bf173a334e3904113cf5d7523534603adf3c6d26d1804e02696fb8'}, 'dob': {'date': '1966-02-10T13:00:58Z', 'age': 53}, 'registered': {'date': '2015-05-07T00:10:07Z', 'age': 3}, 'phone': '(212)-340-9506', 'cell': '(171)-842-8512', 'id': {'name': 'SSN', 'value': '703-61-8720'}, 'picture': {'large': 'https://randomuser.me/api/portraits/men/50.jpg', 'medium': 'https://randomuser.me/api/portraits/med/men/50.jpg', 'thumbnail': 'https://randomuser.me/api/portraits/thumb/men/50.jpg'}, 'nat': 'US'}, {'gender': 'male', 'name': {'title': 'mr', 'first': 'ray', 'last': 'carlson'}, 'location': {'street': '2695 daisy dr', 'city': 'mckinney', 'state': 'missouri', 'postcode': 92933, 'coordinates': {'latitude': '88.3264', 'longitude': '129.5665'}, 'timezone': {'offset': '-10:00', 'description': 'Hawaii'}}, 'email': 'ray.carlson@example.com', 'login': {'uuid': '5bde57db-5f53-4fff-ab50-a679d466c832', 'username': 'whitecat129', 'password': 'ccccccc', 'salt': 'k50cNDu4', 'md5': '9d0635cfb40a7f86b3d885940b50acf0', 'sha1': 'ddacb88de25a929eb2048c224875d1833c8245bf', 'sha256': 'cb5df62d0c033aa2ed28338fc4f3d5a44b32d124beb2e5d32ef81329abc1e11a'}, 'dob': {'date': '1950-07-17T00:47:12Z', 'age': 68}, 'registered': {'date': '2012-04-12T03:08:14Z', 'age': 7}, 'phone': '(211)-179-0000', 'cell': '(489)-093-0602', 'id': {'name': 'SSN', 'value': '173-03-8348'}, 'picture': {'large': 'https://randomuser.me/api/portraits/men/85.jpg', 'medium': 'https://randomuser.me/api/portraits/med/men/85.jpg', 'thumbnail': 'https://randomuser.me/api/portraits/thumb/men/85.jpg'}, 'nat': 'US'}, {'gender': 'male', 'name': {'title': 'mr', 'first': 'bryan', 'last': 'carr'}, 'location': {'street': '7920 railroad st', 'city': 'oakland', 'state': 'north dakota', 'postcode': 56851, 'coordinates': {'latitude': '-52.2049', 'longitude': '-47.4011'}, 'timezone': {'offset': '-4:00', 'description': 'Atlantic Time (Canada), Caracas, La Paz'}}, 'email': 'bryan.carr@example.com', 'login': {'uuid': '60e80a2b-1e63-4c92-bc14-a3ec41ac1142', 'username': 'purplepeacock889', 'password': 'ericsson', 'salt': 'EpbTbKkf', 'md5': '5fb67aed9b7b68858331c2a14c0ade8f', 'sha1': 'e343db5716a61f921d1ff73622ae1d5fe0b69a66', 'sha256': '59acf3e6e85501fd20424a575a1c1390c264c6c40feb597d225dd0d025d0a4ab'}, 'dob': {'date': '1960-08-25T08:34:26Z', 'age': 58}, 'registered': {'date': '2016-10-05T23:32:18Z', 'age': 2}, 'phone': '(915)-378-2234', 'cell': '(166)-980-5527', 'id': {'name': 'SSN', 'value': '408-83-5446'}, 'picture': {'large': 'https://randomuser.me/api/portraits/men/5.jpg', 'medium': 'https://randomuser.me/api/portraits/med/men/5.jpg', 'thumbnail': 'https://randomuser.me/api/portraits/thumb/men/5.jpg'}, 'nat': 'US'}, {'gender': 'male', 'name': {'title': 'mr', 'first': 'mitchell', 'last': 'banks'}, 'location': {'street': '2648 harrison ct', 'city': 'glendale', 'state': 'montana', 'postcode': 94882, 'coordinates': {'latitude': '6.5034', 'longitude': '-2.6182'}, 'timezone': {'offset': '-3:30', 'description': 'Newfoundland'}}, 'email': 'mitchell.banks@example.com', 'login': {'uuid': 'e2ef0a75-e3f2-4019-9412-1be00116df1e', 'username': 'purplepeacock446', 'password': 'chick', 'salt': 'V38eidFi', 'md5': '9cef1fdffe3c5e29e879701829bd1382', 'sha1': 'eda5d7f839bdbe9637b2d8fa571bf072f024b30f', 'sha256': '6587ea2fd3d0b465cf9aa020d14ca943741d1521f9ab92d263980057147c0825'}, 'dob': {'date': '1983-02-15T01:32:40Z', 'age': 36}, 'registered': {'date': '2005-10-16T06:25:23Z', 'age': 13}, 'phone': '(537)-961-1910', 'cell': '(216)-822-6629', 'id': {'name': 'SSN', 'value': '724-16-3538'}, 'picture': {'large': 'https://randomuser.me/api/portraits/men/28.jpg', 'medium': 'https://randomuser.me/api/portraits/med/men/28.jpg', 'thumbnail': 'https://randomuser.me/api/portraits/thumb/men/28.jpg'}, 'nat': 'US'}, {'gender': 'male', 'name': {'title': 'mr', 'first': 'carlos', 'last': 'caldwell'}, 'location': {'street': '7941 daisy dr', 'city': 'dayton', 'state': 'mississippi', 'postcode': 52015, 'coordinates': {'latitude': '-18.0030', 'longitude': '-161.7565'}, 'timezone': {'offset': '+5:00', 'description': 'Ekaterinburg, Islamabad, Karachi, Tashkent'}}, 'email': 'carlos.caldwell@example.com', 'login': {'uuid': '9032c516-d66d-4522-8caa-a8740b09215a', 'username': 'yellowfish998', 'password': 'starfish', 'salt': 'kaVnSTIO', 'md5': 'fa6f63e457a3935b1f7ca81d329a3913', 'sha1': '7fb19c2fd72508349de6f42fcf1ae81e77fe20b0', 'sha256': 'c0a752345ff9ced3da8d344b25522bc4a09ce64dba92689195d48c2757d73f11'}, 'dob': {'date': '1954-03-01T01:04:35Z', 'age': 65}, 'registered': {'date': '2003-06-07T11:25:30Z', 'age': 15}, 'phone': '(317)-176-8404', 'cell': '(428)-224-5188', 'id': {'name': 'SSN', 'value': '205-27-1745'}, 'picture': {'large': 'https://randomuser.me/api/portraits/men/98.jpg', 'medium': 'https://randomuser.me/api/portraits/med/men/98.jpg', 'thumbnail': 'https://randomuser.me/api/portraits/thumb/men/98.jpg'}, 'nat': 'US'}, {'gender': 'male', 'name': {'title': 'mr', 'first': 'howard', 'last': 'roberts'}, 'location': {'street': '1344 brown terrace', 'city': 'elizabeth', 'state': 'new jersey', 'postcode': 85869, 'coordinates': {'latitude': '43.2191', 'longitude': '135.7703'}, 'timezone': {'offset': '+8:00', 'description': 'Beijing, Perth, Singapore, Hong Kong'}}, 'email': 'howard.roberts@example.com', 'login': {'uuid': '4e0f295b-e445-471a-afe1-984c70dd5977', 'username': 'purpleostrich866', 'password': 'clemente', 'salt': 'i7tBaukW', 'md5': '0bc8232a9afb8754bb10d2eec5a66162', 'sha1': 'e0944f650e2362bd7b6286f5e9163177c217ddf4', 'sha256': 'daf5586d35f497c9872f3af4041fea0cd7108cdc54ceb761ba84e50069b8af45'}, 'dob': {'date': '1969-10-25T02:21:26Z', 'age': 49}, 'registered': {'date': '2006-10-06T13:34:56Z', 'age': 12}, 'phone': '(527)-320-4509', 'cell': '(197)-304-6104', 'id': {'name': 'SSN', 'value': '494-28-9102'}, 'picture': {'large': 'https://randomuser.me/api/portraits/men/17.jpg', 'medium': 'https://randomuser.me/api/portraits/med/men/17.jpg', 'thumbnail': 'https://randomuser.me/api/portraits/thumb/men/17.jpg'}, 'nat': 'US'}, {'gender': 'male', 'name': {'title': 'mr', 'first': 'dave', 'last': 'kelly'}, 'location': {'street': '7609 lakeview st', 'city': 'vernon', 'state': 'kansas', 'postcode': 68389, 'coordinates': {'latitude': '23.4896', 'longitude': '-33.3123'}, 'timezone': {'offset': '+5:00', 'description': 'Ekaterinburg, Islamabad, Karachi, Tashkent'}}, 'email': 'dave.kelly@example.com', 'login': {'uuid': 'b044558f-cef1-4208-a39c-6b3495bfa21f', 'username': 'ticklishtiger896', 'password': 'postman', 'salt': 'YBkjhjn3', 'md5': '991b427451505897eff2ea29578a57e2', 'sha1': '336f6be9201a28b922f2b943275e6720e2897a9c', 'sha256': 'a2070faecdb4a9a67532e05b9634ceb387dd84a710bf9ff4567712e501c1308e'}, 'dob': {'date': '1986-05-29T02:41:58Z', 'age': 32}, 'registered': {'date': '2010-10-27T00:17:13Z', 'age': 8}, 'phone': '(765)-487-3602', 'cell': '(553)-279-3433', 'id': {'name': 'SSN', 'value': '401-18-1189'}, 'picture': {'large': 'https://randomuser.me/api/portraits/men/50.jpg', 'medium': 'https://randomuser.me/api/portraits/med/men/50.jpg', 'thumbnail': 'https://randomuser.me/api/portraits/thumb/men/50.jpg'}, 'nat': 'US'}, {'gender': 'male', 'name': {'title': 'mr', 'first': 'franklin', 'last': 'wright'}, 'location': {'street': '8449 lone wolf trail', 'city': 'raleigh', 'state': 'maine', 'postcode': 78831, 'coordinates': {'latitude': '-59.4824', 'longitude': '-151.4345'}, 'timezone': {'offset': '+6:00', 'description': 'Almaty, Dhaka, Colombo'}}, 'email': 'franklin.wright@example.com', 'login': {'uuid': '329d34ab-4fc4-472b-984e-221bc237720c', 'username': 'whiteelephant556', 'password': 'beer', 'salt': '83UrvDO6', 'md5': '639b9dee446188f4bf2cdf81c0a1254b', 'sha1': '1f19d27d45be38ceefd44524060fb469adf132f1', 'sha256': '08c386009bd721e287422350328f962a750e1c082a6d7ae80b13099cc0b6e3ad'}, 'dob': {'date': '1963-07-30T23:04:39Z', 'age': 55}, 'registered': {'date': '2002-10-06T08:40:40Z', 'age': 16}, 'phone': '(806)-921-4495', 'cell': '(557)-047-9585', 'id': {'name': 'SSN', 'value': '310-57-8372'}, 'picture': {'large': 'https://randomuser.me/api/portraits/men/82.jpg', 'medium': 'https://randomuser.me/api/portraits/med/men/82.jpg', 'thumbnail': 'https://randomuser.me/api/portraits/thumb/men/82.jpg'}, 'nat': 'US'}]\n",
      "[{'gender': 'male', 'name': {'title': 'mr', 'first': 'bruce', 'last': 'jennings'}, 'location': {'street': '7838 spring hill rd', 'city': 'everett', 'state': 'alabama', 'postcode': 76897, 'coordinates': {'latitude': '2.0401', 'longitude': '-135.1802'}, 'timezone': {'offset': '-7:00', 'description': 'Mountain Time (US & Canada)'}}, 'email': 'bruce.jennings@example.com', 'login': {'uuid': '73cc40b0-71ab-4de4-b456-8e8627eb5338', 'username': 'brownfrog488', 'password': 'winter1', 'salt': 'dCfMT23t', 'md5': '167ee4aee0572dd2b4fbfb78710e62d1', 'sha1': 'e3dc8522d329557860a4c2a2a4b064b8279ae095', 'sha256': 'f120238cae6960f61320b92171d15298a261c920c4e5076a3461894eff114f05'}, 'dob': {'date': '1972-11-12T04:44:07Z', 'age': 46}, 'registered': {'date': '2016-07-28T08:16:56Z', 'age': 2}, 'phone': '(314)-963-1251', 'cell': '(436)-420-3673', 'id': {'name': 'SSN', 'value': '570-17-3566'}, 'picture': {'large': 'https://randomuser.me/api/portraits/men/54.jpg', 'medium': 'https://randomuser.me/api/portraits/med/men/54.jpg', 'thumbnail': 'https://randomuser.me/api/portraits/thumb/men/54.jpg'}, 'nat': 'US'}, {'gender': 'male', 'name': {'title': 'mr', 'first': 'cory', 'last': 'stephens'}, 'location': {'street': '4847 samaritan dr', 'city': 'dallas', 'state': 'iowa', 'postcode': 23487, 'coordinates': {'latitude': '-62.9978', 'longitude': '-32.8752'}, 'timezone': {'offset': '0:00', 'description': 'Western Europe Time, London, Lisbon, Casablanca'}}, 'email': 'cory.stephens@example.com', 'login': {'uuid': '5a6406bc-59b0-42b5-8aad-3d77b342980c', 'username': 'ticklishrabbit899', 'password': 'marcia', 'salt': 'LIdXMC8t', 'md5': '2cd372a1bf2bf4e666059d69a9dae6c6', 'sha1': 'c51d3c5b66915d999012d7eaf8b756a45c461608', 'sha256': '3e906fd64b10a18450162ce09233e1e346a6f47c15534bb14f9d00cde93698d4'}, 'dob': {'date': '1992-05-11T05:44:34Z', 'age': 26}, 'registered': {'date': '2005-05-05T00:32:20Z', 'age': 13}, 'phone': '(648)-628-3879', 'cell': '(423)-319-9003', 'id': {'name': 'SSN', 'value': '214-70-1856'}, 'picture': {'large': 'https://randomuser.me/api/portraits/men/45.jpg', 'medium': 'https://randomuser.me/api/portraits/med/men/45.jpg', 'thumbnail': 'https://randomuser.me/api/portraits/thumb/men/45.jpg'}, 'nat': 'US'}, {'gender': 'male', 'name': {'title': 'mr', 'first': 'levi', 'last': 'fuller'}, 'location': {'street': '860 depaul dr', 'city': 'kent', 'state': 'illinois', 'postcode': 87706, 'coordinates': {'latitude': '20.9350', 'longitude': '-12.2844'}, 'timezone': {'offset': '-3:30', 'description': 'Newfoundland'}}, 'email': 'levi.fuller@example.com', 'login': {'uuid': 'f49dcee3-796e-4b3e-8ebe-74562ff10632', 'username': 'whitefish822', 'password': 'sting', 'salt': 'cCnWAtmc', 'md5': '1da45a651bee3ccd9bb166d3bad1f773', 'sha1': 'abdb69774f89b1dbdda14590f2f6212af77d6b73', 'sha256': '1c9f746c894c29c3cad99ff53b0b2a682c1c5e12f8a01ec11cfeaa882f196bf3'}, 'dob': {'date': '1949-04-14T14:04:13Z', 'age': 70}, 'registered': {'date': '2017-09-06T08:57:33Z', 'age': 1}, 'phone': '(347)-506-0857', 'cell': '(302)-595-8863', 'id': {'name': 'SSN', 'value': '710-61-8386'}, 'picture': {'large': 'https://randomuser.me/api/portraits/men/93.jpg', 'medium': 'https://randomuser.me/api/portraits/med/men/93.jpg', 'thumbnail': 'https://randomuser.me/api/portraits/thumb/men/93.jpg'}, 'nat': 'US'}, {'gender': 'male', 'name': {'title': 'mr', 'first': 'jorge', 'last': 'owens'}, 'location': {'street': '179 eason rd', 'city': 'rochmond', 'state': 'kentucky', 'postcode': 14950, 'coordinates': {'latitude': '-7.7432', 'longitude': '93.8262'}, 'timezone': {'offset': '0:00', 'description': 'Western Europe Time, London, Lisbon, Casablanca'}}, 'email': 'jorge.owens@example.com', 'login': {'uuid': '02e8a6a4-5127-43d0-b3c6-530df4c1fe66', 'username': 'heavypanda502', 'password': 'dingo', 'salt': 'Kkeob3ki', 'md5': 'f795292273477539b09d7cbef4af8ca6', 'sha1': '3300ae58177c3abf69d2bc9a94d7af7fd00773f9', 'sha256': 'd3661ae3136ec9b5d2ca05967072f476da97bc3c60bcc6403787ca4671ca32c9'}, 'dob': {'date': '1985-04-03T20:23:11Z', 'age': 34}, 'registered': {'date': '2005-12-04T18:35:28Z', 'age': 13}, 'phone': '(754)-818-0033', 'cell': '(044)-861-0549', 'id': {'name': 'SSN', 'value': '844-22-0071'}, 'picture': {'large': 'https://randomuser.me/api/portraits/men/98.jpg', 'medium': 'https://randomuser.me/api/portraits/med/men/98.jpg', 'thumbnail': 'https://randomuser.me/api/portraits/thumb/men/98.jpg'}, 'nat': 'US'}, {'gender': 'male', 'name': {'title': 'mr', 'first': 'neil', 'last': 'reed'}, 'location': {'street': '3466 shady ln dr', 'city': 'oklahoma city', 'state': 'colorado', 'postcode': 69380, 'coordinates': {'latitude': '47.0413', 'longitude': '30.7444'}, 'timezone': {'offset': '-2:00', 'description': 'Mid-Atlantic'}}, 'email': 'neil.reed@example.com', 'login': {'uuid': '1a0d8c41-38f8-4eda-9b20-a2e5da48a703', 'username': 'blackwolf412', 'password': 'rivers', 'salt': 'gfDyw0yQ', 'md5': '59205cef9c11396b63d373422db3fe8f', 'sha1': '87dc2aa4561d466a0929d03e1711f2c5099309e8', 'sha256': '4761a9c1e50b2ca496eda10acfff8a6bcc0c46eb86e39479df58106bce8b14a4'}, 'dob': {'date': '1948-02-29T23:49:16Z', 'age': 71}, 'registered': {'date': '2004-06-12T12:50:43Z', 'age': 14}, 'phone': '(325)-834-4741', 'cell': '(180)-209-0217', 'id': {'name': 'SSN', 'value': '687-56-8189'}, 'picture': {'large': 'https://randomuser.me/api/portraits/men/27.jpg', 'medium': 'https://randomuser.me/api/portraits/med/men/27.jpg', 'thumbnail': 'https://randomuser.me/api/portraits/thumb/men/27.jpg'}, 'nat': 'US'}, {'gender': 'male', 'name': {'title': 'mr', 'first': 'gabe', 'last': 'soto'}, 'location': {'street': '3325 hickory creek dr', 'city': 'riverside', 'state': 'new jersey', 'postcode': 33060, 'coordinates': {'latitude': '45.0282', 'longitude': '-60.8345'}, 'timezone': {'offset': '-8:00', 'description': 'Pacific Time (US & Canada)'}}, 'email': 'gabe.soto@example.com', 'login': {'uuid': '092130e2-247b-47c3-bc86-d2d0165077da', 'username': 'heavyostrich543', 'password': 'sanford', 'salt': 'ee2HS5gH', 'md5': '9feec5525f3c130d790520436c08c090', 'sha1': '039ca96a544f2fde6a6a259d33d2a3b5c66d11f6', 'sha256': 'eddf956c91ea3f73bdb47ac0e1c07e50a66c8f9d44f6191bd12dd6bd8b4a8169'}, 'dob': {'date': '1976-10-31T19:07:54Z', 'age': 42}, 'registered': {'date': '2006-03-06T10:35:45Z', 'age': 13}, 'phone': '(000)-759-5581', 'cell': '(933)-504-4234', 'id': {'name': 'SSN', 'value': '369-52-8327'}, 'picture': {'large': 'https://randomuser.me/api/portraits/men/88.jpg', 'medium': 'https://randomuser.me/api/portraits/med/men/88.jpg', 'thumbnail': 'https://randomuser.me/api/portraits/thumb/men/88.jpg'}, 'nat': 'US'}, {'gender': 'male', 'name': {'title': 'mr', 'first': 'christian', 'last': 'anderson'}, 'location': {'street': '6659 shady ln dr', 'city': 'saginaw', 'state': 'nevada', 'postcode': 18646, 'coordinates': {'latitude': '-61.7092', 'longitude': '-158.0957'}, 'timezone': {'offset': '0:00', 'description': 'Western Europe Time, London, Lisbon, Casablanca'}}, 'email': 'christian.anderson@example.com', 'login': {'uuid': '86fc6643-00b2-47bb-a5ba-1a11765f6ac2', 'username': 'ticklishbear207', 'password': 'kerstin', 'salt': 'NPps9JQL', 'md5': 'e59b993621bdda41bbb21d99de5a1cab', 'sha1': '14d743d1fb8a959ec0237069c7dac4de93188420', 'sha256': '3602a39122efa137fcf6f88929b6f1c1309cd68ea9c779383acc7588749db307'}, 'dob': {'date': '1990-03-21T21:10:57Z', 'age': 29}, 'registered': {'date': '2014-08-05T10:47:25Z', 'age': 4}, 'phone': '(723)-942-9302', 'cell': '(269)-320-4030', 'id': {'name': 'SSN', 'value': '651-74-9374'}, 'picture': {'large': 'https://randomuser.me/api/portraits/men/64.jpg', 'medium': 'https://randomuser.me/api/portraits/med/men/64.jpg', 'thumbnail': 'https://randomuser.me/api/portraits/thumb/men/64.jpg'}, 'nat': 'US'}, {'gender': 'male', 'name': {'title': 'mr', 'first': 'benjamin', 'last': 'moreno'}, 'location': {'street': '6839 e center st', 'city': 'tulsa', 'state': 'colorado', 'postcode': 92641, 'coordinates': {'latitude': '76.6326', 'longitude': '-54.8167'}, 'timezone': {'offset': '+5:00', 'description': 'Ekaterinburg, Islamabad, Karachi, Tashkent'}}, 'email': 'benjamin.moreno@example.com', 'login': {'uuid': '124438d6-77b7-422c-830f-042bbdc8ad2e', 'username': 'lazygoose311', 'password': 'testtest', 'salt': 'fw1kgyGh', 'md5': '0b5e6c7436d8bf1343ff39b4085453dc', 'sha1': '9c59b4f21f7201a8adfa8e597358d36374acdd10', 'sha256': '4e39ea4e7bddd08d6d8387f44e123f0d54101d6797d5ff32e5b19ca2cf9bf503'}, 'dob': {'date': '1953-08-17T23:04:18Z', 'age': 65}, 'registered': {'date': '2017-04-10T13:20:53Z', 'age': 2}, 'phone': '(886)-594-2857', 'cell': '(605)-146-4368', 'id': {'name': 'SSN', 'value': '261-92-7260'}, 'picture': {'large': 'https://randomuser.me/api/portraits/men/83.jpg', 'medium': 'https://randomuser.me/api/portraits/med/men/83.jpg', 'thumbnail': 'https://randomuser.me/api/portraits/thumb/men/83.jpg'}, 'nat': 'US'}, {'gender': 'male', 'name': {'title': 'mr', 'first': 'brayden', 'last': 'andrews'}, 'location': {'street': '1722 sunset st', 'city': 'independence', 'state': 'washington', 'postcode': 27406, 'coordinates': {'latitude': '76.4931', 'longitude': '-124.8650'}, 'timezone': {'offset': '-5:00', 'description': 'Eastern Time (US & Canada), Bogota, Lima'}}, 'email': 'brayden.andrews@example.com', 'login': {'uuid': '5d255b94-11d8-4be1-8c7a-793e000c9f98', 'username': 'beautifulbutterfly902', 'password': 'ashley1', 'salt': 'HaOfTfFY', 'md5': '5c6c61e3b2d82b86d4b90f046c86004a', 'sha1': '0c51d8955d0cbfd745628ddf5d5ddc199f441039', 'sha256': '9cecaa5a9d17272ddf58425747d975f7265e972be33035ef7aac78f292531040'}, 'dob': {'date': '1948-10-03T03:40:48Z', 'age': 70}, 'registered': {'date': '2006-08-05T12:33:25Z', 'age': 12}, 'phone': '(519)-396-2062', 'cell': '(251)-687-3047', 'id': {'name': 'SSN', 'value': '261-00-0948'}, 'picture': {'large': 'https://randomuser.me/api/portraits/men/65.jpg', 'medium': 'https://randomuser.me/api/portraits/med/men/65.jpg', 'thumbnail': 'https://randomuser.me/api/portraits/thumb/men/65.jpg'}, 'nat': 'US'}, {'gender': 'male', 'name': {'title': 'mr', 'first': 'glen', 'last': 'reynolds'}, 'location': {'street': '3404 timber wolf trail', 'city': 'gainesville', 'state': 'utah', 'postcode': 39399, 'coordinates': {'latitude': '66.0417', 'longitude': '-108.8497'}, 'timezone': {'offset': '+10:00', 'description': 'Eastern Australia, Guam, Vladivostok'}}, 'email': 'glen.reynolds@example.com', 'login': {'uuid': 'f5581774-574a-4e84-a53c-a207abc81aa3', 'username': 'smallmouse157', 'password': 'turnip', 'salt': 'tgtaH7TB', 'md5': '90df877372d25706cc5b0375ea15b74a', 'sha1': '072cff7e515e367a00b6728225c83ec0b03a8de6', 'sha256': 'b7d2502f71b23bba13c83fb50aae2e5e4b034d7bdbdd3b0df194abc19f5870f9'}, 'dob': {'date': '1995-02-14T18:35:25Z', 'age': 24}, 'registered': {'date': '2017-08-29T01:50:09Z', 'age': 1}, 'phone': '(714)-258-8650', 'cell': '(286)-565-9946', 'id': {'name': 'SSN', 'value': '722-87-5126'}, 'picture': {'large': 'https://randomuser.me/api/portraits/men/83.jpg', 'medium': 'https://randomuser.me/api/portraits/med/men/83.jpg', 'thumbnail': 'https://randomuser.me/api/portraits/thumb/men/83.jpg'}, 'nat': 'US'}]\n",
      "[{'gender': 'male', 'name': {'title': 'mr', 'first': 'james', 'last': 'carroll'}, 'location': {'street': '9665 frances ct', 'city': 'west covina', 'state': 'nevada', 'postcode': 16644, 'coordinates': {'latitude': '-41.2049', 'longitude': '-16.8530'}, 'timezone': {'offset': '-3:00', 'description': 'Brazil, Buenos Aires, Georgetown'}}, 'email': 'james.carroll@example.com', 'login': {'uuid': '25f4f813-25fd-4da1-82fe-b5759d15a02a', 'username': 'blackzebra899', 'password': '1115', 'salt': 'mjv713Oe', 'md5': 'd4f45313f8f35c8a0b5ae3d05172b2d5', 'sha1': '082d62bca7feb76a47ede8112d17c3b2d1c6a356', 'sha256': 'e1468dc52b9e9feedb2af28badbe72174d336e70f67df4129529fa081e972ac4'}, 'dob': {'date': '1982-11-18T22:53:11Z', 'age': 36}, 'registered': {'date': '2008-03-04T15:35:39Z', 'age': 11}, 'phone': '(358)-136-0165', 'cell': '(221)-082-2405', 'id': {'name': 'SSN', 'value': '805-48-8671'}, 'picture': {'large': 'https://randomuser.me/api/portraits/men/48.jpg', 'medium': 'https://randomuser.me/api/portraits/med/men/48.jpg', 'thumbnail': 'https://randomuser.me/api/portraits/thumb/men/48.jpg'}, 'nat': 'US'}, {'gender': 'male', 'name': {'title': 'mr', 'first': 'jared', 'last': 'patterson'}, 'location': {'street': '8992 w dallas st', 'city': 'palm bay', 'state': 'alabama', 'postcode': 31781, 'coordinates': {'latitude': '15.6258', 'longitude': '-98.9716'}, 'timezone': {'offset': '-11:00', 'description': 'Midway Island, Samoa'}}, 'email': 'jared.patterson@example.com', 'login': {'uuid': '410d4470-9e18-47de-ac2f-7a0eea03054d', 'username': 'smallwolf310', 'password': 'claude', 'salt': 'avs3KsF3', 'md5': 'b6c3a837181866b64ddf286e6660441b', 'sha1': 'dcd2180edcf6b6590539ecc079fb07effd43d4e6', 'sha256': 'bcb2fad2282544e071bf38d22b95091b7957819d936cdb68ebc3b8191dd2fbcf'}, 'dob': {'date': '1949-02-21T17:51:52Z', 'age': 70}, 'registered': {'date': '2013-04-21T00:39:15Z', 'age': 6}, 'phone': '(047)-660-6238', 'cell': '(037)-345-6459', 'id': {'name': 'SSN', 'value': '440-39-5970'}, 'picture': {'large': 'https://randomuser.me/api/portraits/men/92.jpg', 'medium': 'https://randomuser.me/api/portraits/med/men/92.jpg', 'thumbnail': 'https://randomuser.me/api/portraits/thumb/men/92.jpg'}, 'nat': 'US'}, {'gender': 'male', 'name': {'title': 'mr', 'first': 'marvin', 'last': 'gonzales'}, 'location': {'street': '8261 photinia ave', 'city': 'duncanville', 'state': 'south dakota', 'postcode': 16112, 'coordinates': {'latitude': '16.4405', 'longitude': '-71.8235'}, 'timezone': {'offset': '-4:00', 'description': 'Atlantic Time (Canada), Caracas, La Paz'}}, 'email': 'marvin.gonzales@example.com', 'login': {'uuid': '8e3df31a-e17b-4a90-a35d-15b668b78e77', 'username': 'greencat418', 'password': 'nuan', 'salt': 'xBKrdVp6', 'md5': 'd5de49227421bcef6dfa17a793f0f107', 'sha1': '8ddbad390eed092979eb035eb2880c64c5ab8776', 'sha256': '1df6ea07c58e2595a5596309b2d16475d9579918d676891b0b272eb36cef5e6d'}, 'dob': {'date': '1995-03-29T01:23:16Z', 'age': 24}, 'registered': {'date': '2009-04-30T08:44:30Z', 'age': 9}, 'phone': '(333)-756-8918', 'cell': '(788)-861-0488', 'id': {'name': 'SSN', 'value': '537-17-0983'}, 'picture': {'large': 'https://randomuser.me/api/portraits/men/12.jpg', 'medium': 'https://randomuser.me/api/portraits/med/men/12.jpg', 'thumbnail': 'https://randomuser.me/api/portraits/thumb/men/12.jpg'}, 'nat': 'US'}, {'gender': 'male', 'name': {'title': 'mr', 'first': 'dwayne', 'last': 'robertson'}, 'location': {'street': '4011 college st', 'city': 'irvine', 'state': 'louisiana', 'postcode': 30873, 'coordinates': {'latitude': '-83.2335', 'longitude': '-42.2823'}, 'timezone': {'offset': '-4:00', 'description': 'Atlantic Time (Canada), Caracas, La Paz'}}, 'email': 'dwayne.robertson@example.com', 'login': {'uuid': 'f8fb05a4-4d94-4c15-b941-c4ea515f7245', 'username': 'bigduck917', 'password': 'rico', 'salt': '2hKTe766', 'md5': '6aa22f0da1afefd23be5b5f2ef6537c4', 'sha1': '69101e66d7246c1b599ae9bd50fc6e38819f294c', 'sha256': '32c302d22b03184a69db9aec32cd58bec0051486cc69e86c4044bfec402a218f'}, 'dob': {'date': '1978-07-28T10:51:31Z', 'age': 40}, 'registered': {'date': '2013-05-21T12:17:11Z', 'age': 5}, 'phone': '(702)-362-5571', 'cell': '(377)-952-4922', 'id': {'name': 'SSN', 'value': '315-88-0517'}, 'picture': {'large': 'https://randomuser.me/api/portraits/men/54.jpg', 'medium': 'https://randomuser.me/api/portraits/med/men/54.jpg', 'thumbnail': 'https://randomuser.me/api/portraits/thumb/men/54.jpg'}, 'nat': 'US'}, {'gender': 'male', 'name': {'title': 'mr', 'first': 'kevin', 'last': 'davidson'}, 'location': {'street': '8828 pockrus page rd', 'city': 'reno', 'state': 'wyoming', 'postcode': 21501, 'coordinates': {'latitude': '-18.3779', 'longitude': '96.5763'}, 'timezone': {'offset': '-3:00', 'description': 'Brazil, Buenos Aires, Georgetown'}}, 'email': 'kevin.davidson@example.com', 'login': {'uuid': '8adf1dcd-dd93-416d-a85c-2b0ec564c461', 'username': 'happyladybug726', 'password': 'titleist', 'salt': '2dMbHLQf', 'md5': '2879a9057224fa6ec054f75aff11468b', 'sha1': '8cf0efa0f654a7246956b788602a0c921e5be73f', 'sha256': '9b82e26d75db1668b3c0537b207787c9862a3e34162955342e1ce09d5b1bd232'}, 'dob': {'date': '1961-07-17T04:01:45Z', 'age': 57}, 'registered': {'date': '2014-08-18T04:00:42Z', 'age': 4}, 'phone': '(332)-906-2793', 'cell': '(215)-343-1919', 'id': {'name': 'SSN', 'value': '465-39-2573'}, 'picture': {'large': 'https://randomuser.me/api/portraits/men/26.jpg', 'medium': 'https://randomuser.me/api/portraits/med/men/26.jpg', 'thumbnail': 'https://randomuser.me/api/portraits/thumb/men/26.jpg'}, 'nat': 'US'}, {'gender': 'male', 'name': {'title': 'mr', 'first': 'jason', 'last': 'perez'}, 'location': {'street': '592 e north st', 'city': 'vallejo', 'state': 'new jersey', 'postcode': 26835, 'coordinates': {'latitude': '-10.1492', 'longitude': '-52.2118'}, 'timezone': {'offset': '+6:00', 'description': 'Almaty, Dhaka, Colombo'}}, 'email': 'jason.perez@example.com', 'login': {'uuid': '3d19b1fe-ec13-4eab-8c03-5b389b16ccf8', 'username': 'crazydog235', 'password': 'blackie', 'salt': 'B8hdQr7O', 'md5': '98d2d53f5b593b50a2ef08e3b8c62aa0', 'sha1': 'dc22ab6c0971fb55d2e5782e97413a6ca54b05c5', 'sha256': '2a59de3f701939b6de584e5cc09b847188aa7445f47d5d766461acde1adebdec'}, 'dob': {'date': '1972-07-30T03:51:26Z', 'age': 46}, 'registered': {'date': '2016-11-17T08:35:56Z', 'age': 2}, 'phone': '(387)-325-7716', 'cell': '(837)-010-6419', 'id': {'name': 'SSN', 'value': '575-79-3440'}, 'picture': {'large': 'https://randomuser.me/api/portraits/men/83.jpg', 'medium': 'https://randomuser.me/api/portraits/med/men/83.jpg', 'thumbnail': 'https://randomuser.me/api/portraits/thumb/men/83.jpg'}, 'nat': 'US'}, {'gender': 'male', 'name': {'title': 'mr', 'first': 'joel', 'last': 'willis'}, 'location': {'street': '6025 railroad st', 'city': 'san antonio', 'state': 'hawaii', 'postcode': 96327, 'coordinates': {'latitude': '-39.0389', 'longitude': '-5.6544'}, 'timezone': {'offset': '-5:00', 'description': 'Eastern Time (US & Canada), Bogota, Lima'}}, 'email': 'joel.willis@example.com', 'login': {'uuid': 'e34528dd-181b-4b93-9eab-f2d09089a1e6', 'username': 'orangesnake911', 'password': 'butts', 'salt': 'tsL5aYAi', 'md5': 'd17953b197287762a8c417d8dcad50e5', 'sha1': 'e9b087fd74d18378e03147e956fdbb0a3073194f', 'sha256': 'b031120879cb6631278db59a03e64f93bc65a20c94fd792164bad71beda06759'}, 'dob': {'date': '1982-09-22T08:12:29Z', 'age': 36}, 'registered': {'date': '2011-03-11T05:31:53Z', 'age': 8}, 'phone': '(042)-234-8881', 'cell': '(651)-097-5620', 'id': {'name': 'SSN', 'value': '791-87-2341'}, 'picture': {'large': 'https://randomuser.me/api/portraits/men/80.jpg', 'medium': 'https://randomuser.me/api/portraits/med/men/80.jpg', 'thumbnail': 'https://randomuser.me/api/portraits/thumb/men/80.jpg'}, 'nat': 'US'}, {'gender': 'male', 'name': {'title': 'mr', 'first': 'phillip', 'last': 'horton'}, 'location': {'street': '5067 w pecan st', 'city': 'vancouver', 'state': 'washington', 'postcode': 84690, 'coordinates': {'latitude': '-5.0172', 'longitude': '70.7559'}, 'timezone': {'offset': '+4:00', 'description': 'Abu Dhabi, Muscat, Baku, Tbilisi'}}, 'email': 'phillip.horton@example.com', 'login': {'uuid': '5c4564e1-b4bf-4542-8575-2f2e7a96f48b', 'username': 'heavyzebra662', 'password': 'lotus', 'salt': 'i2pB6Ie2', 'md5': '60d499e36ef1040132d752c5f7957bc3', 'sha1': '3cd543dcb44c93859834bf42b34ddd05b3195a58', 'sha256': '9664e86a5ebd486d893f8a8e180cb87923867efacf5422cdc12faa0f9d4b152c'}, 'dob': {'date': '1958-12-12T12:19:54Z', 'age': 60}, 'registered': {'date': '2013-09-22T23:42:47Z', 'age': 5}, 'phone': '(516)-224-5040', 'cell': '(986)-031-8559', 'id': {'name': 'SSN', 'value': '613-87-1397'}, 'picture': {'large': 'https://randomuser.me/api/portraits/men/79.jpg', 'medium': 'https://randomuser.me/api/portraits/med/men/79.jpg', 'thumbnail': 'https://randomuser.me/api/portraits/thumb/men/79.jpg'}, 'nat': 'US'}, {'gender': 'male', 'name': {'title': 'mr', 'first': 'herbert', 'last': 'hoffman'}, 'location': {'street': '4646 frances ct', 'city': 'murrieta', 'state': 'hawaii', 'postcode': 42764, 'coordinates': {'latitude': '-22.9783', 'longitude': '102.6885'}, 'timezone': {'offset': '-12:00', 'description': 'Eniwetok, Kwajalein'}}, 'email': 'herbert.hoffman@example.com', 'login': {'uuid': '7bc03e92-7f10-4b4f-a242-28ed5dc549cb', 'username': 'whiteswan599', 'password': 'murphy1', 'salt': 'qtD7GzAw', 'md5': 'eb2b470b876287bab13471fc43f3fec3', 'sha1': 'dba47974f6ef1443dfbfe66689d23a1ca47253d1', 'sha256': 'bc58a19e5ea89e4ac9ece480d49f4018c38072e40068f4ccaccd3997a812edd7'}, 'dob': {'date': '1951-11-15T03:31:27Z', 'age': 67}, 'registered': {'date': '2008-04-05T07:46:47Z', 'age': 11}, 'phone': '(156)-125-2505', 'cell': '(662)-832-5483', 'id': {'name': 'SSN', 'value': '820-10-0174'}, 'picture': {'large': 'https://randomuser.me/api/portraits/men/79.jpg', 'medium': 'https://randomuser.me/api/portraits/med/men/79.jpg', 'thumbnail': 'https://randomuser.me/api/portraits/thumb/men/79.jpg'}, 'nat': 'US'}, {'gender': 'male', 'name': {'title': 'mr', 'first': 'harvey', 'last': 'hayes'}, 'location': {'street': '144 thornridge cir', 'city': 'cincinnati', 'state': 'new hampshire', 'postcode': 73474, 'coordinates': {'latitude': '-62.4013', 'longitude': '48.5840'}, 'timezone': {'offset': '+10:00', 'description': 'Eastern Australia, Guam, Vladivostok'}}, 'email': 'harvey.hayes@example.com', 'login': {'uuid': 'd5b020b7-2f9b-48ce-a771-58f49ac3f549', 'username': 'happyladybug836', 'password': 'poland', 'salt': 'ZHu1XWQK', 'md5': 'b627c6b6d6955ac76de864a40c707f2a', 'sha1': 'c32e58054bbe4beb8426a396d80ed22c8787f9b3', 'sha256': 'f1e4db7930db8716300e74abe066598db80379b13bc989fbf58eaeb516a2ba7b'}, 'dob': {'date': '1961-08-04T01:56:07Z', 'age': 57}, 'registered': {'date': '2005-12-09T11:27:43Z', 'age': 13}, 'phone': '(928)-878-1702', 'cell': '(468)-789-7870', 'id': {'name': 'SSN', 'value': '405-66-4787'}, 'picture': {'large': 'https://randomuser.me/api/portraits/men/37.jpg', 'medium': 'https://randomuser.me/api/portraits/med/men/37.jpg', 'thumbnail': 'https://randomuser.me/api/portraits/thumb/men/37.jpg'}, 'nat': 'US'}]\n",
      "[{'gender': 'male', 'name': {'title': 'mr', 'first': 'jared', 'last': 'lambert'}, 'location': {'street': '1427 rolling green rd', 'city': 'sterling heights', 'state': 'minnesota', 'postcode': 62206, 'coordinates': {'latitude': '-60.4494', 'longitude': '-14.3296'}, 'timezone': {'offset': '+2:00', 'description': 'Kaliningrad, South Africa'}}, 'email': 'jared.lambert@example.com', 'login': {'uuid': '882bd794-5a5a-4317-bf2e-4b44066b3695', 'username': 'yellowdog915', 'password': 'wingman', 'salt': 'svNuOmeD', 'md5': 'e509be7801a697ba3ca325c0f00433cc', 'sha1': 'cb5dc6986e6a81869d0702cfadf9e4966918b750', 'sha256': '968954385ebee700d5bc30a26986d046e862aae990a9fc804754c5c909d235fe'}, 'dob': {'date': '1959-12-23T17:33:46Z', 'age': 59}, 'registered': {'date': '2014-05-09T01:47:13Z', 'age': 4}, 'phone': '(204)-472-4630', 'cell': '(238)-640-2328', 'id': {'name': 'SSN', 'value': '299-95-0048'}, 'picture': {'large': 'https://randomuser.me/api/portraits/men/30.jpg', 'medium': 'https://randomuser.me/api/portraits/med/men/30.jpg', 'thumbnail': 'https://randomuser.me/api/portraits/thumb/men/30.jpg'}, 'nat': 'US'}, {'gender': 'male', 'name': {'title': 'mr', 'first': 'shawn', 'last': 'mitchell'}, 'location': {'street': '5295 e center st', 'city': 'richmond', 'state': 'indiana', 'postcode': 30040, 'coordinates': {'latitude': '-74.7600', 'longitude': '-95.1224'}, 'timezone': {'offset': '-2:00', 'description': 'Mid-Atlantic'}}, 'email': 'shawn.mitchell@example.com', 'login': {'uuid': '5da70453-d3ff-4f81-87d4-e9682b43ffad', 'username': 'bigmouse244', 'password': 'zoom', 'salt': '08P1UpIo', 'md5': '1fe4250398afbf0c0edd5c708fab7561', 'sha1': '4ee3341eb2f5f0bd351a7c8fa788b1e7eb2602a6', 'sha256': '44a98d0f0c34c8a7fcb7ea0c3b4ff1263fab88d8066ecde03dfd21158e1e86b8'}, 'dob': {'date': '1953-04-01T10:41:10Z', 'age': 66}, 'registered': {'date': '2011-07-08T08:22:32Z', 'age': 7}, 'phone': '(811)-649-6369', 'cell': '(554)-157-9795', 'id': {'name': 'SSN', 'value': '971-88-5552'}, 'picture': {'large': 'https://randomuser.me/api/portraits/men/65.jpg', 'medium': 'https://randomuser.me/api/portraits/med/men/65.jpg', 'thumbnail': 'https://randomuser.me/api/portraits/thumb/men/65.jpg'}, 'nat': 'US'}, {'gender': 'male', 'name': {'title': 'mr', 'first': 'jamie', 'last': 'fuller'}, 'location': {'street': '2048 white oak dr', 'city': 'independence', 'state': 'north dakota', 'postcode': 28088, 'coordinates': {'latitude': '44.4820', 'longitude': '-90.9187'}, 'timezone': {'offset': '+5:30', 'description': 'Bombay, Calcutta, Madras, New Delhi'}}, 'email': 'jamie.fuller@example.com', 'login': {'uuid': '93f1a229-ad23-4a7e-95af-89729cebf8eb', 'username': 'bigswan694', 'password': 'snoopy', 'salt': 'Ro8No0J4', 'md5': '096781ef6c85d77783fc47b416e2c493', 'sha1': 'b93f8f7cb5830f74535327ef79fd9c6f6d7b2daf', 'sha256': '59fb219ae7476077a7832bf52b84071ed2454485ad9b85e677eaafa51492f3c8'}, 'dob': {'date': '1987-02-02T19:02:06Z', 'age': 32}, 'registered': {'date': '2017-01-19T13:09:33Z', 'age': 2}, 'phone': '(898)-631-4848', 'cell': '(763)-038-2747', 'id': {'name': 'SSN', 'value': '041-20-0756'}, 'picture': {'large': 'https://randomuser.me/api/portraits/men/41.jpg', 'medium': 'https://randomuser.me/api/portraits/med/men/41.jpg', 'thumbnail': 'https://randomuser.me/api/portraits/thumb/men/41.jpg'}, 'nat': 'US'}, {'gender': 'male', 'name': {'title': 'mr', 'first': 'clayton', 'last': 'sanders'}, 'location': {'street': '4383 oak lawn ave', 'city': 'simi valley', 'state': 'north dakota', 'postcode': 38976, 'coordinates': {'latitude': '-57.7951', 'longitude': '117.6076'}, 'timezone': {'offset': '-3:00', 'description': 'Brazil, Buenos Aires, Georgetown'}}, 'email': 'clayton.sanders@example.com', 'login': {'uuid': 'c9894274-b3f6-4a3b-bfa3-f9ed1dace6ee', 'username': 'beautifulelephant455', 'password': 'deejay', 'salt': 'YCYGuoWO', 'md5': 'ae901f409191be68103f4de237d530ca', 'sha1': '4eb96adda9fac93553ca032c6dfceea04d17eb3a', 'sha256': '81d435009242b32f86be8a9b3c153dfbf6861d0e151f7a95cf7a679345ff0602'}, 'dob': {'date': '1951-04-15T22:52:23Z', 'age': 68}, 'registered': {'date': '2009-10-31T14:15:04Z', 'age': 9}, 'phone': '(396)-420-6612', 'cell': '(624)-787-2598', 'id': {'name': 'SSN', 'value': '680-71-3648'}, 'picture': {'large': 'https://randomuser.me/api/portraits/men/58.jpg', 'medium': 'https://randomuser.me/api/portraits/med/men/58.jpg', 'thumbnail': 'https://randomuser.me/api/portraits/thumb/men/58.jpg'}, 'nat': 'US'}, {'gender': 'male', 'name': {'title': 'mr', 'first': 'larry', 'last': 'gonzalez'}, 'location': {'street': '9124 marsh ln', 'city': 'warren', 'state': 'alaska', 'postcode': 52487, 'coordinates': {'latitude': '56.1460', 'longitude': '61.5318'}, 'timezone': {'offset': '+3:30', 'description': 'Tehran'}}, 'email': 'larry.gonzalez@example.com', 'login': {'uuid': '526d7dba-515d-44c6-b062-400b8ad2c579', 'username': 'beautifulwolf144', 'password': '33333', 'salt': 'b6Pi0yh3', 'md5': '03c04c5472727f4d082989fa8d6af871', 'sha1': 'fc6b80794886c2c8f129d4509588381cedc8141e', 'sha256': '716fdefb6f773d10415abb1f6c3410d7bb6b06e1856b978e9f5c898200c36cbb'}, 'dob': {'date': '1969-04-24T06:40:10Z', 'age': 50}, 'registered': {'date': '2017-02-19T20:51:30Z', 'age': 2}, 'phone': '(694)-643-5857', 'cell': '(425)-766-8422', 'id': {'name': 'SSN', 'value': '348-68-1977'}, 'picture': {'large': 'https://randomuser.me/api/portraits/men/58.jpg', 'medium': 'https://randomuser.me/api/portraits/med/men/58.jpg', 'thumbnail': 'https://randomuser.me/api/portraits/thumb/men/58.jpg'}, 'nat': 'US'}, {'gender': 'male', 'name': {'title': 'mr', 'first': 'brian', 'last': 'henry'}, 'location': {'street': '7589 timber wolf trail', 'city': 'chandler', 'state': 'arkansas', 'postcode': 10667, 'coordinates': {'latitude': '60.8363', 'longitude': '64.2973'}, 'timezone': {'offset': '-7:00', 'description': 'Mountain Time (US & Canada)'}}, 'email': 'brian.henry@example.com', 'login': {'uuid': '5d7d853c-a403-4627-95fa-7319a13a36be', 'username': 'bigbear526', 'password': 'annette', 'salt': 'mXWeDWML', 'md5': 'e511d6ad95e978053589c78f6b0ddb8f', 'sha1': 'f312758ab79eca4733743a85502e483990233949', 'sha256': 'a631f6dd43bddf65838b0850a5851d401a05dfc89d27a72a4889bc9847da401d'}, 'dob': {'date': '1973-02-06T00:18:01Z', 'age': 46}, 'registered': {'date': '2008-03-07T09:23:30Z', 'age': 11}, 'phone': '(223)-239-9324', 'cell': '(163)-282-2209', 'id': {'name': 'SSN', 'value': '647-20-1120'}, 'picture': {'large': 'https://randomuser.me/api/portraits/men/85.jpg', 'medium': 'https://randomuser.me/api/portraits/med/men/85.jpg', 'thumbnail': 'https://randomuser.me/api/portraits/thumb/men/85.jpg'}, 'nat': 'US'}, {'gender': 'male', 'name': {'title': 'mr', 'first': 'erik', 'last': 'baker'}, 'location': {'street': '5981 bruce st', 'city': 'daly city', 'state': 'washington', 'postcode': 68777, 'coordinates': {'latitude': '53.7770', 'longitude': '-80.5669'}, 'timezone': {'offset': '+9:00', 'description': 'Tokyo, Seoul, Osaka, Sapporo, Yakutsk'}}, 'email': 'erik.baker@example.com', 'login': {'uuid': '8fcad1c2-6a7e-4795-9e7f-070ea2f61e00', 'username': 'bigpanda742', 'password': 'dwight', 'salt': 'eTm0y1im', 'md5': '8f082c7fc56f5250d3b47fbd30a9ef09', 'sha1': '3f66f3a1642b443b7174fff9a639ab4cfae7096c', 'sha256': 'ce5b787d49ba8f94e19e828e6be7d50fa714595da13e5b81bf8d8eb47538c999'}, 'dob': {'date': '1961-10-20T13:48:57Z', 'age': 57}, 'registered': {'date': '2015-09-20T06:31:31Z', 'age': 3}, 'phone': '(478)-370-0968', 'cell': '(694)-456-0303', 'id': {'name': 'SSN', 'value': '399-95-1051'}, 'picture': {'large': 'https://randomuser.me/api/portraits/men/51.jpg', 'medium': 'https://randomuser.me/api/portraits/med/men/51.jpg', 'thumbnail': 'https://randomuser.me/api/portraits/thumb/men/51.jpg'}, 'nat': 'US'}, {'gender': 'male', 'name': {'title': 'mr', 'first': 'kevin', 'last': 'snyder'}, 'location': {'street': '7275 e sandy lake rd', 'city': 'iowa park', 'state': 'oklahoma', 'postcode': 66142, 'coordinates': {'latitude': '80.1789', 'longitude': '-162.3421'}, 'timezone': {'offset': '+8:00', 'description': 'Beijing, Perth, Singapore, Hong Kong'}}, 'email': 'kevin.snyder@example.com', 'login': {'uuid': '7e9af6a7-69c8-4c63-8bab-d74457d9d3ec', 'username': 'greenswan947', 'password': 'quentin', 'salt': '5YgpQgRp', 'md5': '41b0f3e2ebaa86409790c94aead6db36', 'sha1': '403135bf874bcd97102f743f717e9c3d7f762154', 'sha256': 'e0bb31c0d7e36374be55c106ac47e747f6742fe9047846475d041f0606907879'}, 'dob': {'date': '1981-12-28T01:09:40Z', 'age': 37}, 'registered': {'date': '2016-05-30T10:16:32Z', 'age': 2}, 'phone': '(823)-387-5696', 'cell': '(982)-132-7201', 'id': {'name': 'SSN', 'value': '767-15-3147'}, 'picture': {'large': 'https://randomuser.me/api/portraits/men/47.jpg', 'medium': 'https://randomuser.me/api/portraits/med/men/47.jpg', 'thumbnail': 'https://randomuser.me/api/portraits/thumb/men/47.jpg'}, 'nat': 'US'}, {'gender': 'male', 'name': {'title': 'mr', 'first': 'michael', 'last': 'ramirez'}, 'location': {'street': '5163 forest ln', 'city': 'overland park', 'state': 'missouri', 'postcode': 86368, 'coordinates': {'latitude': '49.7432', 'longitude': '-91.6610'}, 'timezone': {'offset': '+5:30', 'description': 'Bombay, Calcutta, Madras, New Delhi'}}, 'email': 'michael.ramirez@example.com', 'login': {'uuid': '163cd210-3cc1-47c9-9110-785d33546fe5', 'username': 'lazydog886', 'password': 'potter', 'salt': 'Bx0HJ1f4', 'md5': 'f10b72cdaed6ae82079b0e43d970094f', 'sha1': 'b94b0762df7bc4d18aa3287947693907c43a0f3b', 'sha256': 'f31ff95e01eaf2202b0b540a9b73026f1810304187954ea19cc3ee84109b0766'}, 'dob': {'date': '1962-01-27T06:11:53Z', 'age': 57}, 'registered': {'date': '2013-04-24T03:13:37Z', 'age': 6}, 'phone': '(363)-998-5795', 'cell': '(081)-182-3618', 'id': {'name': 'SSN', 'value': '108-77-4482'}, 'picture': {'large': 'https://randomuser.me/api/portraits/men/20.jpg', 'medium': 'https://randomuser.me/api/portraits/med/men/20.jpg', 'thumbnail': 'https://randomuser.me/api/portraits/thumb/men/20.jpg'}, 'nat': 'US'}, {'gender': 'male', 'name': {'title': 'mr', 'first': 'franklin', 'last': 'lawson'}, 'location': {'street': '9171 hunters creek dr', 'city': 'san mateo', 'state': 'kentucky', 'postcode': 72851, 'coordinates': {'latitude': '-44.7988', 'longitude': '-8.7096'}, 'timezone': {'offset': '+3:00', 'description': 'Baghdad, Riyadh, Moscow, St. Petersburg'}}, 'email': 'franklin.lawson@example.com', 'login': {'uuid': '2a64d344-1fa6-4c40-a231-750d913ea1b3', 'username': 'lazywolf751', 'password': 'nwo4life', 'salt': '0NGMvz4Z', 'md5': '3e6a3bb35f55c2d3c94b11d89f99f910', 'sha1': '6b555dfa8b1b8873f4c5474a5f90fb733529e28d', 'sha256': '41f00032ef8169b4e4491481e7af073ac7f13879a9e3ae556b115125b79d28ce'}, 'dob': {'date': '1972-07-31T18:31:33Z', 'age': 46}, 'registered': {'date': '2009-10-16T20:33:38Z', 'age': 9}, 'phone': '(415)-998-0227', 'cell': '(128)-106-7946', 'id': {'name': 'SSN', 'value': '410-33-9179'}, 'picture': {'large': 'https://randomuser.me/api/portraits/men/68.jpg', 'medium': 'https://randomuser.me/api/portraits/med/men/68.jpg', 'thumbnail': 'https://randomuser.me/api/portraits/thumb/men/68.jpg'}, 'nat': 'US'}]\n"
     ]
    }
   ],
   "source": [
    "for i in range(10):\n",
    "    i=requests.get(\"https://randomuser.me/api/?gender=male&nat=us&results=10\")\n",
    "    response_data = i.json()\n",
    "    result=response_data['results']\n",
    "    print(result)\n",
    "\n",
    "    \n",
    "    \n"
   ]
  },
  {
   "cell_type": "code",
   "execution_count": 27,
   "metadata": {
    "scrolled": true
   },
   "outputs": [
    {
     "name": "stdout",
     "output_type": "stream",
     "text": [
      "chad\n",
      "\n",
      "randy\n",
      "\n",
      "wyatt\n",
      "\n",
      "tommy\n",
      "\n",
      "edward\n",
      "\n",
      "bruce\n",
      "\n",
      "bill\n",
      "\n",
      "allen\n",
      "\n",
      "tommy\n",
      "\n",
      "kent\n",
      "\n"
     ]
    }
   ],
   "source": [
    "#TODO\n",
    "for m in range(len(result)):\n",
    "    print(result[m]['name']['first'])\n",
    "    print()"
   ]
  },
  {
   "cell_type": "markdown",
   "metadata": {},
   "source": [
    "* Get all astronauts who are right now in space. You get the information about the Web APU from here  http://open-notify.org/Open-Notify-API/People-In-Space/ "
   ]
  },
  {
   "cell_type": "code",
   "execution_count": 28,
   "metadata": {},
   "outputs": [
    {
     "data": {
      "text/plain": [
       "'{\"message\": \"success\", \"number\": 6, \"people\": [{\"craft\": \"ISS\", \"name\": \"Oleg Kononenko\"}, {\"craft\": \"ISS\", \"name\": \"David Saint-Jacques\"}, {\"craft\": \"ISS\", \"name\": \"Anne McClain\"}, {\"craft\": \"ISS\", \"name\": \"Alexey Ovchinin\"}, {\"craft\": \"ISS\", \"name\": \"Nick Hague\"}, {\"craft\": \"ISS\", \"name\": \"Christina Koch\"}]}'"
      ]
     },
     "execution_count": 28,
     "metadata": {},
     "output_type": "execute_result"
    }
   ],
   "source": [
    "# TODO\n",
    "response2 = requests.get(\"http://api.open-notify.org/astros.json\")\n",
    "response2.text"
   ]
  },
  {
   "cell_type": "markdown",
   "metadata": {},
   "source": [
    "* Print the number of people that are right now in space"
   ]
  },
  {
   "cell_type": "code",
   "execution_count": 29,
   "metadata": {},
   "outputs": [
    {
     "name": "stdout",
     "output_type": "stream",
     "text": [
      "6\n"
     ]
    }
   ],
   "source": [
    "# TODO\n",
    "data=response2.json()\n",
    "number=data['number']\n",
    "print(number)"
   ]
  },
  {
   "cell_type": "markdown",
   "metadata": {},
   "source": [
    "* Print the names of all astronauts "
   ]
  },
  {
   "cell_type": "code",
   "execution_count": 35,
   "metadata": {},
   "outputs": [
    {
     "name": "stdout",
     "output_type": "stream",
     "text": [
      "Oleg Kononenko\n",
      "David Saint-Jacques\n",
      "Anne McClain\n",
      "Alexey Ovchinin\n",
      "Nick Hague\n",
      "Christina Koch\n"
     ]
    }
   ],
   "source": [
    "# TODO\n",
    "name=data['people']\n",
    "for key in name:\n",
    "    print(key['name'])"
   ]
  },
  {
   "cell_type": "markdown",
   "metadata": {},
   "source": [
    "* A lot of Web APIs require a api-key for interacting with them (like Twitter, Facebook, …). You find at http://www.python-requests.org/en/latest/user/authentication/ more information for Authentication for Web APIs with the request package\n",
    "* There are also special Python packages for interacting with services. E.g. for Twitter: http://www.tweepy.org/ or  https://github.com/bear/python-twitter \n",
    "\n",
    "See e.g. http://socialmedia-class.org/twittertutorial.html for a tutorial"
   ]
  },
  {
   "cell_type": "code",
   "execution_count": null,
   "metadata": {},
   "outputs": [],
   "source": []
  },
  {
   "cell_type": "markdown",
   "metadata": {},
   "source": [
    "## 2. Creating a Web API\n",
    "\n",
    "* Create a folder `webapi` and change into it.\n",
    "* Create in the `webapi` folder a file with the name `Dockerfile` with the following content:\n",
    "\n",
    "----\n",
    "```bash\n",
    "# Use an official Python runtime as a parent image\n",
    "FROM python:3.7-slim\n",
    "\n",
    "# Set the working directory to /app\n",
    "WORKDIR /app\n",
    "\n",
    "# Copy the current directory contents into the container at /app\n",
    "COPY app/ /app\n",
    "\n",
    "# Install any needed packages specified in requirements.txt\n",
    "RUN pip install --trusted-host pypi.python.org -r requirements.txt\n",
    "\n",
    "# Make port 80 available to the world outside this container\n",
    "EXPOSE 80\n",
    "\n",
    "# Run app.py when the container launches\n",
    "CMD [\"python\", \"app.py\"]\n",
    "```\n",
    "\n",
    "-----\n",
    "\n",
    "* We can also use Docker compose with just one service. Create in your `webapi` folder a `docker-compose.yml` file:\n",
    "\n",
    "-----\n",
    "\n",
    "```yaml\n",
    "version: '3'\n",
    "services:\n",
    "  api:\n",
    "    build: .\n",
    "    ports:\n",
    "      - \"5000:80\"\n",
    "    restart: always\n",
    "    volumes:\n",
    "      - ./app:/app\n",
    "```\n",
    "-----\n",
    "\n",
    "* Create a folder in the `webapi` folder a new folder with the name `app`\n",
    "* We will build a web API with `Flask` (http://flask.pocoo.org/) . Create a `requirements.txt` file in the `app` folder. Here we can specify all python `pip` packages that we need:\n",
    "\n",
    "-----\n",
    "```bash\n",
    "Flask\n",
    "```\n",
    "-----\n",
    "\n",
    "* Create the `app.py` file in the `app` folder:\n",
    "\n",
    "-----\n",
    "```python\n",
    "from flask import Flask\n",
    "from flask import request, jsonify\n",
    "\n",
    "app = Flask(__name__)\n",
    "\n",
    "courses = [\n",
    "    {'id': 0,\n",
    "     'title': 'Data Science',\n",
    "     'professor': 'Markus Löcher',\n",
    "     'semester': '1'},\n",
    "    {'id': 1,\n",
    "     'title': 'Data Warehousing',\n",
    "     'professor': 'Roland M. Mueller',\n",
    "     'semester': '1'},\n",
    "    {'id': 2,\n",
    "     'title': 'Business Process Management',\n",
    "     'professor': 'Frank Habermann',\n",
    "     'semester': '1'},\n",
    "    {'id': 3,\n",
    "     'title': 'Stratigic Issues of IT',\n",
    "     'professor': 'Sven Pohland',\n",
    "     'semester': '1'},\n",
    "    {'id': 4,\n",
    "     'title': 'Text, Web and Social Media Analytics Lab',\n",
    "     'professor': 'Markus Löcher',\n",
    "     'semester': '2'},\n",
    "    {'id': 5,\n",
    "     'title': 'Enterprise Architectures for Big Data',\n",
    "     'professor': 'Roland M. Mueller',\n",
    "     'semester': '2'},\n",
    "    {'id': 6,\n",
    "     'title': 'Business Process Integration Lab',\n",
    "     'professor': 'Frank Habermann',\n",
    "     'semester': '2'},\n",
    "    {'id': 7,\n",
    "     'title': 'IT-Security and Privacy',\n",
    "     'professor': 'Dennis Uckel',\n",
    "     'semester': '2'},\n",
    "    {'id': 8,\n",
    "     'title': 'Research Methods',\n",
    "     'professor': 'Marcus Birkenkrahe',\n",
    "     'semester': '2'},\n",
    "]\n",
    "\n",
    "@app.route('/api/v1/courses/all', methods=['GET'])\n",
    "def api_all():\n",
    "    return jsonify(courses)\n",
    "\n",
    "@app.route('/api/v1/courses', methods=['GET'])\n",
    "def api_id():\n",
    "    # Check if an ID was provided as part of the URL.\n",
    "    # If ID is provided, assign it to a variable.\n",
    "    # If no ID is provided, display an error in the browser.\n",
    "    if 'id' in request.args:\n",
    "        id = int(request.args['id'])\n",
    "    else:\n",
    "        return \"Error: No id field provided. Please specify an id.\"\n",
    "\n",
    "    # Create an empty list for our results\n",
    "    results = []\n",
    "\n",
    "    # Loop through the data and match results that fit the requested ID.\n",
    "    # IDs are unique, but other fields might return many results\n",
    "    for course in courses:\n",
    "        if course['id'] == id:\n",
    "            results.append(course)\n",
    "\n",
    "    # Use the jsonify function from Flask to convert our list of\n",
    "    # Python dictionaries to the JSON format.\n",
    "    return jsonify(results)\n",
    "\n",
    "if __name__ == \"__main__\":\n",
    "    app.run(host=\"0.0.0.0\", port=80, debug=True)\n",
    "```\n",
    "-----\n",
    "* Open http://localhost:5000/api/v1/courses/all in a browser\n",
    "* Open http://localhost:5000/api/v1/courses?id=5 in a browser\n"
   ]
  },
  {
   "cell_type": "markdown",
   "metadata": {
    "collapsed": true
   },
   "source": [
    "* Use your own API here in the Jupyter Notebook with Python and print all names of all courses "
   ]
  },
  {
   "cell_type": "code",
   "execution_count": 4,
   "metadata": {},
   "outputs": [
    {
     "data": {
      "text/plain": [
       "'[{\"id\":0,\"professor\":\"Markus L\\\\u00f6cher\",\"semester\":\"1\",\"title\":\"Data Science\"},{\"id\":1,\"professor\":\"Roland M. Mueller\",\"semester\":\"1\",\"title\":\"Data Warehousing\"},{\"id\":2,\"professor\":\"Frank Habermann\",\"semester\":\"1\",\"title\":\"Business Process Management\"},{\"id\":3,\"professor\":\"Sven Pohland\",\"semester\":\"1\",\"title\":\"Stratigic Issues of IT\"},{\"id\":4,\"professor\":\"Markus L\\\\u00f6cher\",\"semester\":\"2\",\"title\":\"Text, Web and Social Media Analytics Lab\"},{\"id\":5,\"professor\":\"Roland M. Mueller\",\"semester\":\"2\",\"title\":\"Enterprise Architectures for Big Data\"},{\"id\":6,\"professor\":\"Frank Habermann\",\"semester\":\"2\",\"title\":\"Business Process Integration Lab\"},{\"id\":7,\"professor\":\"Dennis Uckel\",\"semester\":\"2\",\"title\":\"IT-Security and Privacy\"},{\"id\":8,\"professor\":\"Marcus Birkenkrahe\",\"semester\":\"2\",\"title\":\"Research Methods\"}]\\n'"
      ]
     },
     "execution_count": 4,
     "metadata": {},
     "output_type": "execute_result"
    }
   ],
   "source": [
    "# TODO\n",
    "response3 = requests.get(\"http://192.168.99.100:5000/api/v1/courses/all\")\n",
    "response3.text"
   ]
  },
  {
   "cell_type": "code",
   "execution_count": 5,
   "metadata": {},
   "outputs": [
    {
     "name": "stdout",
     "output_type": "stream",
     "text": [
      "Data Science\n",
      "Data Warehousing\n",
      "Business Process Management\n",
      "Stratigic Issues of IT\n",
      "Text, Web and Social Media Analytics Lab\n",
      "Enterprise Architectures for Big Data\n",
      "Business Process Integration Lab\n",
      "IT-Security and Privacy\n",
      "Research Methods\n"
     ]
    }
   ],
   "source": [
    "data2=response3.json()\n",
    "#titlecourse=data2['title']\n",
    "for i in data2:\n",
    "    print(i['title'])\n"
   ]
  },
  {
   "cell_type": "markdown",
   "metadata": {},
   "source": [
    "* Add the possibility to find courses based on the semester\n",
    "* Use your API in Python and print all names of all courses in the second semester"
   ]
  },
  {
   "cell_type": "code",
   "execution_count": 12,
   "metadata": {},
   "outputs": [
    {
     "name": "stdout",
     "output_type": "stream",
     "text": [
      "Text, Web and Social Media Analytics Lab\n",
      "Enterprise Architectures for Big Data\n",
      "Business Process Integration Lab\n",
      "IT-Security and Privacy\n",
      "Research Methods\n"
     ]
    }
   ],
   "source": [
    "for i in data2:\n",
    "    if i['semester']=='2':\n",
    "        print(i['title'])"
   ]
  },
  {
   "cell_type": "markdown",
   "metadata": {},
   "source": [
    "* Add a function that can convert Fahrenheit to Celsius \n",
    "* Call your API and get the Celsius value for 100°F Fahrenheit"
   ]
  },
  {
   "cell_type": "markdown",
   "metadata": {
    "collapsed": true
   },
   "source": [
    "# TODO\n",
    "\n",
    "                         \n",
    "                         \n",
    "    \n",
    "    \n",
    "\n",
    "\n",
    "\n",
    "\n",
    "\n",
    "\n",
    "\n"
   ]
  },
  {
   "cell_type": "code",
   "execution_count": 75,
   "metadata": {},
   "outputs": [
    {
     "name": "stdout",
     "output_type": "stream",
     "text": [
      "Enter 'x' for exit.\n",
      "Enter Temperature in Fahrenheit: 200\n",
      "Temperature in Celsius = 93.33333333333333\n"
     ]
    }
   ],
   "source": [
    "print(\"Enter 'x' for exit.\");\n",
    "fah = input(\"Enter Temperature in Fahrenheit: \");\n",
    "if fah == 'x':\n",
    " exit();\n",
    "else:\n",
    " fahrenheit = float(fah);\n",
    " celsius = (fahrenheit-32)/1.8;\n",
    " print(\"Temperature in Celsius =\",celsius);\n",
    "\n"
   ]
  },
  {
   "cell_type": "code",
   "execution_count": 98,
   "metadata": {},
   "outputs": [
    {
     "name": "stdout",
     "output_type": "stream",
     "text": [
      "0.0\n",
      "verified!\n"
     ]
    }
   ],
   "source": [
    "def C(f):\n",
    "    c = (5.0/9)*(f - 32)\n",
    "    return c\n",
    "\n",
    "def F(c):\n",
    "    f = (9.0/5)*c + 32\n",
    "    return f\n",
    "\n",
    "print (C(32))\n",
    "c = 100\n",
    "if c == C(F(c)):\n",
    "    print ('verified!')\n",
    "    "
   ]
  },
  {
   "cell_type": "code",
   "execution_count": null,
   "metadata": {},
   "outputs": [],
   "source": []
  }
 ],
 "metadata": {
  "kernelspec": {
   "display_name": "Python 3",
   "language": "python",
   "name": "python3"
  },
  "language_info": {
   "codemirror_mode": {
    "name": "ipython",
    "version": 3
   },
   "file_extension": ".py",
   "mimetype": "text/x-python",
   "name": "python",
   "nbconvert_exporter": "python",
   "pygments_lexer": "ipython3",
   "version": "3.7.0"
  },
  "varInspector": {
   "cols": {
    "lenName": 16,
    "lenType": 16,
    "lenVar": 40
   },
   "kernels_config": {
    "python": {
     "delete_cmd_postfix": "",
     "delete_cmd_prefix": "del ",
     "library": "var_list.py",
     "varRefreshCmd": "print(var_dic_list())"
    },
    "r": {
     "delete_cmd_postfix": ") ",
     "delete_cmd_prefix": "rm(",
     "library": "var_list.r",
     "varRefreshCmd": "cat(var_dic_list()) "
    }
   },
   "types_to_exclude": [
    "module",
    "function",
    "builtin_function_or_method",
    "instance",
    "_Feature"
   ],
   "window_display": false
  }
 },
 "nbformat": 4,
 "nbformat_minor": 2
}
